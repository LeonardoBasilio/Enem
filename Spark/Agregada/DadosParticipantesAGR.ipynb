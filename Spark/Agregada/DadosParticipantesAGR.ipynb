{
 "cells": [
  {
   "cell_type": "markdown",
   "id": "0f115781",
   "metadata": {},
   "source": [
    "## Importação das Bibiliotecas"
   ]
  },
  {
   "cell_type": "code",
   "execution_count": 1,
   "id": "b2595d63-db8f-47d8-9b6d-dd142460985a",
   "metadata": {
    "tags": []
   },
   "outputs": [],
   "source": [
    "from pyspark.sql import SparkSession\n",
    "import pandas as pd\n",
    "from sqlalchemy import create_engine\n",
    "import pyodbc"
   ]
  },
  {
   "cell_type": "code",
   "execution_count": 2,
   "id": "137c301b-7b56-434b-bd08-979c6717af70",
   "metadata": {
    "tags": []
   },
   "outputs": [],
   "source": [
    "# Crie um SparkSession\n",
    "spark = SparkSession.builder.appName(\"LerDadosEnem\").getOrCreate()\n"
   ]
  },
  {
   "cell_type": "markdown",
   "id": "a92050d4",
   "metadata": {},
   "source": [
    "## Processo de Leitura da View Participantes"
   ]
  },
  {
   "cell_type": "markdown",
   "id": "773923d1",
   "metadata": {},
   "source": [
    "## Parametrizando a conexão do Banco SQL SERVER"
   ]
  },
  {
   "cell_type": "code",
   "execution_count": 3,
   "id": "76fd4b44",
   "metadata": {},
   "outputs": [
    {
     "name": "stdout",
     "output_type": "stream",
     "text": [
      "jdbc:sqlserver://NOTEBOOK-LEO:1433;databaseName=Enem;\n"
     ]
    }
   ],
   "source": [
    "server_name = \"jdbc:sqlserver://NOTEBOOK-LEO:1433\"\n",
    "database_name = \"Enem\"\n",
    "table_name = \"Participantes\"\n",
    "username = \"bi_leonardobo\"\n",
    "password = \"0000\"\n",
    "url = server_name + \";\" + \"databaseName=\" + database_name + \";\"\n",
    "print(url)\n"
   ]
  },
  {
   "cell_type": "code",
   "execution_count": 4,
   "id": "4f9b604f",
   "metadata": {},
   "outputs": [],
   "source": [
    "#Conectando via jdbc\n",
    "#No método option, foi necessário passar os argumentos ssl e trustservercertificate como true, por se tratar de um banco local sem SSL.\n",
    "try:\n",
    "  query = \"select * from dbo.VW_PARTICIPANTES_ENEM\"\n",
    "\n",
    "  dfParticipantes = spark.read \\\n",
    "        .format(\"jdbc\") \\\n",
    "        .option(\"url\", url) \\\n",
    "        .option(\"driver\",\"com.microsoft.sqlserver.jdbc.SQLServerDriver\")\\\n",
    "        .option(\"ssl\", \"true\")\\\n",
    "        .option(\"trustServerCertificate\", \"true\")\\\n",
    "        .option(\"dbtable\", f\"({query}) as alias_name\") \\\n",
    "        .option(\"user\", username) \\\n",
    "        .option(\"password\", password).load()\n",
    "      \n",
    "  dfParticipantes.createOrReplaceTempView(\"ParticipantesEnemAGR\")  \n",
    " # print(dfParticipantes.count())\n",
    "except ValueError as error :\n",
    "    print(\"Connector write failed\", error)\n"
   ]
  },
  {
   "cell_type": "code",
   "execution_count": 5,
   "id": "a7af615f",
   "metadata": {},
   "outputs": [],
   "source": [
    "dfAGR = spark.sql(\"\"\"\n",
    "    SELECT\n",
    "        NU_ANO,\n",
    "        FAIXA_ETARIA,\n",
    "        SEXO,\n",
    "        ESTADO_CIVIL,\n",
    "        raca,\n",
    "        NACIONALIDADE,\n",
    "        SITUACAO_CONCLUSAO,\n",
    "        ANO_CONCLUSAO,\n",
    "        ESCOLA,\n",
    "        ENSINO,\n",
    "        TREINEIRO,\n",
    "        COUNT(1) as QTD,\n",
    "        SUM(NOTA_CIENCIA_DA_NATUREZA) AS NOTA_CIENCIA_DA_NATUREZA,\n",
    "        SUM(NOTA_CIENCIA_HUMANA) AS NOTA_CIENCIA_HUMANA,\n",
    "        SUM(NOTA_LINGUAGEM_CODIGO) AS NOTA_LINGUAGEM_CODIGO\n",
    "        --SUM(NOTA_MATEMATICA) AS NOTA_MATEMATICA\n",
    "    FROM ParticipantesEnemAGR\n",
    "    GROUP BY\n",
    "        NU_ANO,\n",
    "        FAIXA_ETARIA,\n",
    "        SEXO,\n",
    "        ESTADO_CIVIL,\n",
    "        raca,\n",
    "        NACIONALIDADE,\n",
    "        SITUACAO_CONCLUSAO,\n",
    "        ANO_CONCLUSAO,\n",
    "        ESCOLA,\n",
    "        ENSINO,\n",
    "        TREINEIRO\n",
    "\"\"\")\n"
   ]
  },
  {
   "cell_type": "code",
   "execution_count": 6,
   "id": "49eca7b8",
   "metadata": {},
   "outputs": [],
   "source": [
    "dfPreencher = dfAGR.fillna(-2)  # Preenche com -2(sem ref), por exemplo\n"
   ]
  },
  {
   "cell_type": "markdown",
   "id": "1d1ed5ca",
   "metadata": {},
   "source": [
    "# Salvar em SQL \n",
    "Salvar os dados em uma tabela SQL\n"
   ]
  },
  {
   "cell_type": "markdown",
   "id": "0f1deb1f",
   "metadata": {},
   "source": [
    "## Parametrizando a conexão do Banco SQL SERVER"
   ]
  },
  {
   "cell_type": "code",
   "execution_count": 7,
   "id": "45262d43",
   "metadata": {
    "tags": []
   },
   "outputs": [],
   "source": [
    "# Nome da nova tabela que será criada\n",
    "table_name = 'ParticipantesAGR'"
   ]
  },
  {
   "cell_type": "code",
   "execution_count": 8,
   "id": "6f3a8e0f-907e-4a25-aee7-793eac934db9",
   "metadata": {
    "tags": []
   },
   "outputs": [],
   "source": [
    "# Configurações do banco de dados em ODBC para dropar\n",
    "server_name = \"NOTEBOOK-LEO\\\\SQLEXPRESS\"\n",
    " \n",
    "# Conecte-se ao banco de dados usando pyodbc\n",
    "conn = pyodbc.connect(f\"Driver={{SQL Server}};Server={server_name};Database={database_name};UID={username};PWD={password}\")\n",
    "\n",
    "# Crie um cursor\n",
    "cursor = conn.cursor()\n",
    "\n",
    "# Execute a operação DROP TABLE na tabela 'Participantes'\n",
    "truncate_query = f\"IF OBJECT_ID('{table_name}', 'U') IS NOT NULL DROP TABLE {table_name}\"\n",
    "cursor.execute(truncate_query)\n",
    "\n",
    "# Commit as alterações no banco de dados\n",
    "conn.commit()"
   ]
  },
  {
   "cell_type": "code",
   "execution_count": 9,
   "id": "5e87ccad-a1e1-47ef-acc7-dfd6bfc677c8",
   "metadata": {
    "tags": []
   },
   "outputs": [
    {
     "name": "stderr",
     "output_type": "stream",
     "text": [
      "ERROR:root:KeyboardInterrupt while sending command.\n",
      "Traceback (most recent call last):\n",
      "  File \"e:\\anaconda3\\Lib\\site-packages\\py4j\\java_gateway.py\", line 1038, in send_command\n",
      "    response = connection.send_command(command)\n",
      "               ^^^^^^^^^^^^^^^^^^^^^^^^^^^^^^^^\n",
      "  File \"e:\\anaconda3\\Lib\\site-packages\\py4j\\clientserver.py\", line 511, in send_command\n",
      "    answer = smart_decode(self.stream.readline()[:-1])\n",
      "                          ^^^^^^^^^^^^^^^^^^^^^^\n",
      "  File \"e:\\anaconda3\\Lib\\socket.py\", line 706, in readinto\n",
      "    return self._sock.recv_into(b)\n",
      "           ^^^^^^^^^^^^^^^^^^^^^^^\n",
      "KeyboardInterrupt\n"
     ]
    },
    {
     "ename": "KeyboardInterrupt",
     "evalue": "",
     "output_type": "error",
     "traceback": [
      "\u001b[1;31m---------------------------------------------------------------------------\u001b[0m",
      "\u001b[1;31mKeyboardInterrupt\u001b[0m                         Traceback (most recent call last)",
      "Cell \u001b[1;32mIn[9], line 11\u001b[0m\n\u001b[0;32m      1\u001b[0m \u001b[39m# Escreva os novos dados em 'Participantes' usando a conexão JDBC\u001b[39;00m\n\u001b[0;32m      2\u001b[0m dfPreencher\u001b[39m.\u001b[39mwrite \\\n\u001b[0;32m      3\u001b[0m         \u001b[39m.\u001b[39mformat(\u001b[39m\"\u001b[39m\u001b[39mjdbc\u001b[39m\u001b[39m\"\u001b[39m) \\\n\u001b[0;32m      4\u001b[0m         \u001b[39m.\u001b[39moption(\u001b[39m\"\u001b[39m\u001b[39murl\u001b[39m\u001b[39m\"\u001b[39m, url) \\\n\u001b[0;32m      5\u001b[0m         \u001b[39m.\u001b[39moption(\u001b[39m\"\u001b[39m\u001b[39mdriver\u001b[39m\u001b[39m\"\u001b[39m,\u001b[39m\"\u001b[39m\u001b[39mcom.microsoft.sqlserver.jdbc.SQLServerDriver\u001b[39m\u001b[39m\"\u001b[39m)\\\n\u001b[0;32m      6\u001b[0m         \u001b[39m.\u001b[39moption(\u001b[39m\"\u001b[39m\u001b[39mssl\u001b[39m\u001b[39m\"\u001b[39m, \u001b[39m\"\u001b[39m\u001b[39mtrue\u001b[39m\u001b[39m\"\u001b[39m)\\\n\u001b[0;32m      7\u001b[0m         \u001b[39m.\u001b[39moption(\u001b[39m\"\u001b[39m\u001b[39mtrustServerCertificate\u001b[39m\u001b[39m\"\u001b[39m, \u001b[39m\"\u001b[39m\u001b[39mtrue\u001b[39m\u001b[39m\"\u001b[39m)\\\n\u001b[0;32m      8\u001b[0m         \u001b[39m.\u001b[39moption(\u001b[39m\"\u001b[39m\u001b[39mdbtable\u001b[39m\u001b[39m\"\u001b[39m, table_name) \\\n\u001b[0;32m      9\u001b[0m         \u001b[39m.\u001b[39moption(\u001b[39m\"\u001b[39m\u001b[39muser\u001b[39m\u001b[39m\"\u001b[39m, username) \\\n\u001b[0;32m     10\u001b[0m         \u001b[39m.\u001b[39moption(\u001b[39m\"\u001b[39m\u001b[39mpassword\u001b[39m\u001b[39m\"\u001b[39m, password)\\\n\u001b[1;32m---> 11\u001b[0m         \u001b[39m.\u001b[39moption(\u001b[39m\"\u001b[39m\u001b[39mSaveMode\u001b[39m\u001b[39m\"\u001b[39m, \u001b[39m\"\u001b[39m\u001b[39moverWrite\u001b[39m\u001b[39m\"\u001b[39m)\u001b[39m.\u001b[39msave()\n",
      "File \u001b[1;32me:\\anaconda3\\Lib\\site-packages\\pyspark\\sql\\readwriter.py:1396\u001b[0m, in \u001b[0;36mDataFrameWriter.save\u001b[1;34m(self, path, format, mode, partitionBy, **options)\u001b[0m\n\u001b[0;32m   1394\u001b[0m     \u001b[39mself\u001b[39m\u001b[39m.\u001b[39mformat(\u001b[39mformat\u001b[39m)\n\u001b[0;32m   1395\u001b[0m \u001b[39mif\u001b[39;00m path \u001b[39mis\u001b[39;00m \u001b[39mNone\u001b[39;00m:\n\u001b[1;32m-> 1396\u001b[0m     \u001b[39mself\u001b[39m\u001b[39m.\u001b[39m_jwrite\u001b[39m.\u001b[39msave()\n\u001b[0;32m   1397\u001b[0m \u001b[39melse\u001b[39;00m:\n\u001b[0;32m   1398\u001b[0m     \u001b[39mself\u001b[39m\u001b[39m.\u001b[39m_jwrite\u001b[39m.\u001b[39msave(path)\n",
      "File \u001b[1;32me:\\anaconda3\\Lib\\site-packages\\py4j\\java_gateway.py:1321\u001b[0m, in \u001b[0;36mJavaMember.__call__\u001b[1;34m(self, *args)\u001b[0m\n\u001b[0;32m   1314\u001b[0m args_command, temp_args \u001b[39m=\u001b[39m \u001b[39mself\u001b[39m\u001b[39m.\u001b[39m_build_args(\u001b[39m*\u001b[39margs)\n\u001b[0;32m   1316\u001b[0m command \u001b[39m=\u001b[39m proto\u001b[39m.\u001b[39mCALL_COMMAND_NAME \u001b[39m+\u001b[39m\\\n\u001b[0;32m   1317\u001b[0m     \u001b[39mself\u001b[39m\u001b[39m.\u001b[39mcommand_header \u001b[39m+\u001b[39m\\\n\u001b[0;32m   1318\u001b[0m     args_command \u001b[39m+\u001b[39m\\\n\u001b[0;32m   1319\u001b[0m     proto\u001b[39m.\u001b[39mEND_COMMAND_PART\n\u001b[1;32m-> 1321\u001b[0m answer \u001b[39m=\u001b[39m \u001b[39mself\u001b[39m\u001b[39m.\u001b[39mgateway_client\u001b[39m.\u001b[39msend_command(command)\n\u001b[0;32m   1322\u001b[0m return_value \u001b[39m=\u001b[39m get_return_value(\n\u001b[0;32m   1323\u001b[0m     answer, \u001b[39mself\u001b[39m\u001b[39m.\u001b[39mgateway_client, \u001b[39mself\u001b[39m\u001b[39m.\u001b[39mtarget_id, \u001b[39mself\u001b[39m\u001b[39m.\u001b[39mname)\n\u001b[0;32m   1325\u001b[0m \u001b[39mfor\u001b[39;00m temp_arg \u001b[39min\u001b[39;00m temp_args:\n",
      "File \u001b[1;32me:\\anaconda3\\Lib\\site-packages\\py4j\\java_gateway.py:1038\u001b[0m, in \u001b[0;36mGatewayClient.send_command\u001b[1;34m(self, command, retry, binary)\u001b[0m\n\u001b[0;32m   1036\u001b[0m connection \u001b[39m=\u001b[39m \u001b[39mself\u001b[39m\u001b[39m.\u001b[39m_get_connection()\n\u001b[0;32m   1037\u001b[0m \u001b[39mtry\u001b[39;00m:\n\u001b[1;32m-> 1038\u001b[0m     response \u001b[39m=\u001b[39m connection\u001b[39m.\u001b[39msend_command(command)\n\u001b[0;32m   1039\u001b[0m     \u001b[39mif\u001b[39;00m binary:\n\u001b[0;32m   1040\u001b[0m         \u001b[39mreturn\u001b[39;00m response, \u001b[39mself\u001b[39m\u001b[39m.\u001b[39m_create_connection_guard(connection)\n",
      "File \u001b[1;32me:\\anaconda3\\Lib\\site-packages\\py4j\\clientserver.py:511\u001b[0m, in \u001b[0;36mClientServerConnection.send_command\u001b[1;34m(self, command)\u001b[0m\n\u001b[0;32m    509\u001b[0m \u001b[39mtry\u001b[39;00m:\n\u001b[0;32m    510\u001b[0m     \u001b[39mwhile\u001b[39;00m \u001b[39mTrue\u001b[39;00m:\n\u001b[1;32m--> 511\u001b[0m         answer \u001b[39m=\u001b[39m smart_decode(\u001b[39mself\u001b[39m\u001b[39m.\u001b[39mstream\u001b[39m.\u001b[39mreadline()[:\u001b[39m-\u001b[39m\u001b[39m1\u001b[39m])\n\u001b[0;32m    512\u001b[0m         logger\u001b[39m.\u001b[39mdebug(\u001b[39m\"\u001b[39m\u001b[39mAnswer received: \u001b[39m\u001b[39m{0}\u001b[39;00m\u001b[39m\"\u001b[39m\u001b[39m.\u001b[39mformat(answer))\n\u001b[0;32m    513\u001b[0m         \u001b[39m# Happens when a the other end is dead. There might be an empty\u001b[39;00m\n\u001b[0;32m    514\u001b[0m         \u001b[39m# answer before the socket raises an error.\u001b[39;00m\n",
      "File \u001b[1;32me:\\anaconda3\\Lib\\socket.py:706\u001b[0m, in \u001b[0;36mSocketIO.readinto\u001b[1;34m(self, b)\u001b[0m\n\u001b[0;32m    704\u001b[0m \u001b[39mwhile\u001b[39;00m \u001b[39mTrue\u001b[39;00m:\n\u001b[0;32m    705\u001b[0m     \u001b[39mtry\u001b[39;00m:\n\u001b[1;32m--> 706\u001b[0m         \u001b[39mreturn\u001b[39;00m \u001b[39mself\u001b[39m\u001b[39m.\u001b[39m_sock\u001b[39m.\u001b[39mrecv_into(b)\n\u001b[0;32m    707\u001b[0m     \u001b[39mexcept\u001b[39;00m timeout:\n\u001b[0;32m    708\u001b[0m         \u001b[39mself\u001b[39m\u001b[39m.\u001b[39m_timeout_occurred \u001b[39m=\u001b[39m \u001b[39mTrue\u001b[39;00m\n",
      "\u001b[1;31mKeyboardInterrupt\u001b[0m: "
     ]
    }
   ],
   "source": [
    "# Escreva os novos dados em 'Participantes' usando a conexão JDBC\n",
    "dfPreencher.write \\\n",
    "        .format(\"jdbc\") \\\n",
    "        .option(\"url\", url) \\\n",
    "        .option(\"driver\",\"com.microsoft.sqlserver.jdbc.SQLServerDriver\")\\\n",
    "        .option(\"ssl\", \"true\")\\\n",
    "        .option(\"trustServerCertificate\", \"true\")\\\n",
    "        .option(\"dbtable\", table_name) \\\n",
    "        .option(\"user\", username) \\\n",
    "        .option(\"password\", password)\\\n",
    "        .option(\"SaveMode\", \"overWrite\").save()\n",
    "  \n"
   ]
  },
  {
   "cell_type": "code",
   "execution_count": null,
   "id": "dafe0615",
   "metadata": {
    "tags": []
   },
   "outputs": [
    {
     "name": "stdout",
     "output_type": "stream",
     "text": [
      "Tabela ParticipantesAGR criada com sucesso no banco de dados.\n"
     ]
    }
   ],
   "source": [
    "print(f'Tabela {table_name} criada com sucesso no banco de dados.')\n"
   ]
  },
  {
   "cell_type": "code",
   "execution_count": null,
   "id": "6de4ad95-23a6-45f1-af4d-d657f218bd8f",
   "metadata": {},
   "outputs": [],
   "source": [
    "spark.stop()"
   ]
  }
 ],
 "metadata": {
  "kernelspec": {
   "display_name": "Python 3 (ipykernel)",
   "language": "python",
   "name": "python3"
  },
  "language_info": {
   "codemirror_mode": {
    "name": "ipython",
    "version": 3
   },
   "file_extension": ".py",
   "mimetype": "text/x-python",
   "name": "python",
   "nbconvert_exporter": "python",
   "pygments_lexer": "ipython3",
   "version": "3.11.3"
  }
 },
 "nbformat": 4,
 "nbformat_minor": 5
}
