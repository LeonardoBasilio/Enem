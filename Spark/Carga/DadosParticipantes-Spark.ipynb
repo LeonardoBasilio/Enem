{
 "cells": [
  {
   "cell_type": "markdown",
   "id": "0f115781",
   "metadata": {},
   "source": [
    "## Importação das Bibiliotecas"
   ]
  },
  {
   "cell_type": "code",
   "execution_count": 1,
   "id": "b2595d63-db8f-47d8-9b6d-dd142460985a",
   "metadata": {
    "tags": []
   },
   "outputs": [],
   "source": [
    "from pyspark.sql import SparkSession\n",
    "from sqlalchemy import create_engine\n",
    "import pandas as pd\n",
    "import pyodbc\n",
    "import pyspark.sql.functions as F"
   ]
  },
  {
   "cell_type": "code",
   "execution_count": 2,
   "id": "137c301b-7b56-434b-bd08-979c6717af70",
   "metadata": {
    "tags": []
   },
   "outputs": [],
   "source": [
    "# Crie um SparkSession\n",
    "spark = SparkSession.builder.appName(\"LerDadosEnem\").getOrCreate()\n"
   ]
  },
  {
   "cell_type": "markdown",
   "id": "a92050d4",
   "metadata": {},
   "source": [
    "## Processo de Leitura do CSV de Participantes\n"
   ]
  },
  {
   "cell_type": "code",
   "execution_count": 3,
   "id": "158e76e5",
   "metadata": {
    "tags": []
   },
   "outputs": [],
   "source": [
    "#Path dos arquivos\n",
    "\n",
    "caminho_arquivo_2022 = r'E:\\Estudos\\SQL\\Datasets\\ENEM\\2022\\microdados_enem_2022\\DADOS\\MICRODADOS_ENEM_2022.csv'\n",
    "caminho_arquivo_2021 = r'E:\\Estudos\\SQL\\Datasets\\ENEM\\2021\\microdados_enem_2021\\DADOS\\MICRODADOS_ENEM_2021.csv'\n",
    "caminho_arquivo_2020 = r'E:\\Estudos\\SQL\\Datasets\\ENEM\\2020\\microdados_enem_2020\\DADOS\\MICRODADOS_ENEM_2020.csv'\n",
    "caminho_arquivo_2019 = r'E:\\Estudos\\SQL\\Datasets\\ENEM\\2019\\microdados_enem_2019\\DADOS\\MICRODADOS_ENEM_2019.csv'"
   ]
  },
  {
   "cell_type": "code",
   "execution_count": 8,
   "id": "326d8fa5",
   "metadata": {
    "tags": []
   },
   "outputs": [],
   "source": [
    "#Função Paa ler os arquivos CSV\n",
    "def lerCSV(spark, caminho_arquivo):\n",
    "    df = spark.read.csv(caminho_arquivo, sep=';', header=True, inferSchema=True, encoding='ISO-8859-1')\n",
    "    colunas_selecionadas = [F.col(df.columns[i]) for i in range(0, 12)] + [F.col(df.columns[i]) for i in range(31, 35)] + [F.col(df.columns[39])] + [F.col(df.columns[56])]\n",
    "    return df.select(colunas_selecionadas)\n"
   ]
  },
  {
   "cell_type": "code",
   "execution_count": 9,
   "id": "6c885188-20cd-42c8-b472-465b93b8354d",
   "metadata": {
    "tags": []
   },
   "outputs": [],
   "source": [
    "##Chama função quer ler o arquivo CSV e Transforma para DF.SPARK\n",
    "\n",
    "dfDadosParticipantes22 = lerCSV(spark, caminho_arquivo_2022)\n",
    "dfDadosParticipantes21 = lerCSV(spark, caminho_arquivo_2021)\n",
    "dfDadosParticipantes20 = lerCSV(spark, caminho_arquivo_2020)\n",
    "dfDadosParticipantes19 = lerCSV(spark, caminho_arquivo_2019)\n",
    "\n"
   ]
  },
  {
   "cell_type": "code",
   "execution_count": 10,
   "id": "9bf255a1-b7ac-44b1-b5ef-52f40d5cecd3",
   "metadata": {
    "tags": []
   },
   "outputs": [],
   "source": [
    "#Unir os DF em um só \n",
    "\n",
    "dfDadosParticipantes = dfDadosParticipantes22.union(dfDadosParticipantes21).union(dfDadosParticipantes20).union(dfDadosParticipantes19)\n"
   ]
  },
  {
   "cell_type": "code",
   "execution_count": 11,
   "id": "68561606",
   "metadata": {},
   "outputs": [
    {
     "name": "stdout",
     "output_type": "stream",
     "text": [
      "+------------+------+---------------+-------+---------------+-----------+----------------+---------------+---------------+---------+---------+------------+----------+----------+----------+----------+---------+----+\n",
      "|NU_INSCRICAO|NU_ANO|TP_FAIXA_ETARIA|TP_SEXO|TP_ESTADO_CIVIL|TP_COR_RACA|TP_NACIONALIDADE|TP_ST_CONCLUSAO|TP_ANO_CONCLUIU|TP_ESCOLA|TP_ENSINO|IN_TREINEIRO|NU_NOTA_CN|NU_NOTA_CH|NU_NOTA_LC|NU_NOTA_MT|TP_LINGUA|Q006|\n",
      "+------------+------+---------------+-------+---------------+-----------+----------------+---------------+---------------+---------+---------+------------+----------+----------+----------+----------+---------+----+\n",
      "|210057943671|  2022|             14|      M|              2|          2|               1|              1|              2|        1|     null|           0|      null|      null|      null|      null|        0|   B|\n",
      "|210057516120|  2022|             14|      M|              2|          1|               1|              1|             16|        1|     null|           0|      null|      null|      null|      null|        0|   Q|\n",
      "|210057280536|  2022|              5|      F|              1|          2|               1|              1|              2|        1|     null|           0|     421.1|     546.0|     498.8|     565.3|        1|   B|\n",
      "|210055724397|  2022|              6|      M|              1|          3|               1|              1|              2|        1|     null|           0|     490.7|     388.6|     357.8|     416.0|        1|   A|\n",
      "|210055097896|  2022|              4|      M|              0|          3|               1|              1|              1|        1|     null|           0|      null|      null|      null|      null|        0|   B|\n",
      "|210057850231|  2022|              5|      F|              1|          3|               1|              1|              2|        1|     null|           0|      null|      null|      null|      null|        1|   C|\n",
      "|210056305481|  2022|              4|      M|              1|          2|               1|              1|              2|        1|     null|           0|      null|      null|      null|      null|        0|   B|\n",
      "|210055778089|  2022|              6|      F|              1|          2|               1|              1|              0|        1|     null|           0|     398.1|     427.3|     400.2|     404.9|        1|   B|\n",
      "|210057252239|  2022|              8|      F|              1|          3|               1|              1|              0|        1|     null|           0|      null|      null|      null|      null|        1|   B|\n",
      "|210055461467|  2022|              4|      F|              1|          3|               1|              1|              1|        1|     null|           0|     467.5|     461.0|     466.7|     435.3|        1|   B|\n",
      "|210055665589|  2022|              4|      F|              1|          3|               1|              1|              2|        1|     null|           0|      null|      null|      null|      null|        1|   A|\n",
      "|210054972570|  2022|              2|      F|              1|          1|               1|              2|              0|        3|        1|           0|     458.7|     539.8|     488.2|     456.8|        1|   B|\n",
      "|210055449344|  2022|              4|      M|              1|          2|               1|              1|              1|        1|     null|           0|      null|      null|      null|      null|        1|   B|\n",
      "|210057944037|  2022|              6|      F|              1|          3|               1|              1|              0|        1|     null|           0|      null|      null|      null|      null|        1|   C|\n",
      "|210054861834|  2022|              7|      M|              1|          2|               2|              1|              3|        1|     null|           0|      null|      null|      null|      null|        1|   C|\n",
      "|210055201589|  2022|              8|      F|              1|          3|               1|              2|              0|        2|        1|           0|      null|      null|      null|      null|        1|   B|\n",
      "|210056844882|  2022|              5|      F|              1|          2|               1|              1|              0|        1|     null|           0|      null|      null|      null|      null|        0|   B|\n",
      "|210056065100|  2022|              2|      F|              1|          3|               1|              3|              0|        1|     null|           1|     396.8|     528.7|     551.4|     536.0|        0|   B|\n",
      "|210057551883|  2022|              8|      F|              1|          2|               1|              1|              5|        1|     null|           0|     481.4|     603.6|     589.0|     695.0|        1|   B|\n",
      "|210054722657|  2022|              2|      F|              1|          1|               1|              3|              0|        1|     null|           1|      null|      null|      null|      null|        0|   D|\n",
      "+------------+------+---------------+-------+---------------+-----------+----------------+---------------+---------------+---------+---------+------------+----------+----------+----------+----------+---------+----+\n",
      "only showing top 20 rows\n",
      "\n"
     ]
    }
   ],
   "source": [
    "dfDadosParticipantes.show()"
   ]
  },
  {
   "cell_type": "code",
   "execution_count": 12,
   "id": "a0ddb3df",
   "metadata": {
    "tags": []
   },
   "outputs": [],
   "source": [
    "dfPreencher = dfDadosParticipantes.fillna(-2)  # Preenche com -2(sem ref), por exemplo\n"
   ]
  },
  {
   "cell_type": "code",
   "execution_count": 17,
   "id": "1347e2cb",
   "metadata": {},
   "outputs": [
    {
     "name": "stdout",
     "output_type": "stream",
     "text": [
      "+------------+------+---------------+-------+---------------+-----------+----------------+---------------+---------------+---------+---------+------------+----------+----------+----------+----------+---------+----+\n",
      "|NU_INSCRICAO|NU_ANO|TP_FAIXA_ETARIA|TP_SEXO|TP_ESTADO_CIVIL|TP_COR_RACA|TP_NACIONALIDADE|TP_ST_CONCLUSAO|TP_ANO_CONCLUIU|TP_ESCOLA|TP_ENSINO|IN_TREINEIRO|NU_NOTA_CN|NU_NOTA_CH|NU_NOTA_LC|NU_NOTA_MT|TP_LINGUA|Q006|\n",
      "+------------+------+---------------+-------+---------------+-----------+----------------+---------------+---------------+---------+---------+------------+----------+----------+----------+----------+---------+----+\n",
      "|210057943671|  2022|             14|      M|              2|          2|               1|              1|              2|        1|       -2|           0|      -2.0|      -2.0|      -2.0|      -2.0|        0|   B|\n",
      "|210057516120|  2022|             14|      M|              2|          1|               1|              1|             16|        1|       -2|           0|      -2.0|      -2.0|      -2.0|      -2.0|        0|   Q|\n",
      "|210057280536|  2022|              5|      F|              1|          2|               1|              1|              2|        1|       -2|           0|     421.1|     546.0|     498.8|     565.3|        1|   B|\n",
      "|210055724397|  2022|              6|      M|              1|          3|               1|              1|              2|        1|       -2|           0|     490.7|     388.6|     357.8|     416.0|        1|   A|\n",
      "|210055097896|  2022|              4|      M|              0|          3|               1|              1|              1|        1|       -2|           0|      -2.0|      -2.0|      -2.0|      -2.0|        0|   B|\n",
      "|210057850231|  2022|              5|      F|              1|          3|               1|              1|              2|        1|       -2|           0|      -2.0|      -2.0|      -2.0|      -2.0|        1|   C|\n",
      "|210056305481|  2022|              4|      M|              1|          2|               1|              1|              2|        1|       -2|           0|      -2.0|      -2.0|      -2.0|      -2.0|        0|   B|\n",
      "|210055778089|  2022|              6|      F|              1|          2|               1|              1|              0|        1|       -2|           0|     398.1|     427.3|     400.2|     404.9|        1|   B|\n",
      "|210057252239|  2022|              8|      F|              1|          3|               1|              1|              0|        1|       -2|           0|      -2.0|      -2.0|      -2.0|      -2.0|        1|   B|\n",
      "|210055461467|  2022|              4|      F|              1|          3|               1|              1|              1|        1|       -2|           0|     467.5|     461.0|     466.7|     435.3|        1|   B|\n",
      "|210055665589|  2022|              4|      F|              1|          3|               1|              1|              2|        1|       -2|           0|      -2.0|      -2.0|      -2.0|      -2.0|        1|   A|\n",
      "|210054972570|  2022|              2|      F|              1|          1|               1|              2|              0|        3|        1|           0|     458.7|     539.8|     488.2|     456.8|        1|   B|\n",
      "|210055449344|  2022|              4|      M|              1|          2|               1|              1|              1|        1|       -2|           0|      -2.0|      -2.0|      -2.0|      -2.0|        1|   B|\n",
      "|210057944037|  2022|              6|      F|              1|          3|               1|              1|              0|        1|       -2|           0|      -2.0|      -2.0|      -2.0|      -2.0|        1|   C|\n",
      "|210054861834|  2022|              7|      M|              1|          2|               2|              1|              3|        1|       -2|           0|      -2.0|      -2.0|      -2.0|      -2.0|        1|   C|\n",
      "|210055201589|  2022|              8|      F|              1|          3|               1|              2|              0|        2|        1|           0|      -2.0|      -2.0|      -2.0|      -2.0|        1|   B|\n",
      "|210056844882|  2022|              5|      F|              1|          2|               1|              1|              0|        1|       -2|           0|      -2.0|      -2.0|      -2.0|      -2.0|        0|   B|\n",
      "|210056065100|  2022|              2|      F|              1|          3|               1|              3|              0|        1|       -2|           1|     396.8|     528.7|     551.4|     536.0|        0|   B|\n",
      "|210057551883|  2022|              8|      F|              1|          2|               1|              1|              5|        1|       -2|           0|     481.4|     603.6|     589.0|     695.0|        1|   B|\n",
      "|210054722657|  2022|              2|      F|              1|          1|               1|              3|              0|        1|       -2|           1|      -2.0|      -2.0|      -2.0|      -2.0|        0|   D|\n",
      "+------------+------+---------------+-------+---------------+-----------+----------------+---------------+---------------+---------+---------+------------+----------+----------+----------+----------+---------+----+\n",
      "only showing top 20 rows\n",
      "\n"
     ]
    }
   ],
   "source": [
    "dfPreencher.show()"
   ]
  },
  {
   "cell_type": "markdown",
   "id": "1d1ed5ca",
   "metadata": {},
   "source": [
    "# Salvar em SQL \n",
    "Salvar os dados em uma tabela SQL\n"
   ]
  },
  {
   "cell_type": "markdown",
   "id": "0f1deb1f",
   "metadata": {},
   "source": [
    "## Parametrizando a conexão do Banco SQL SERVER"
   ]
  },
  {
   "cell_type": "code",
   "execution_count": 18,
   "id": "9e7396db",
   "metadata": {
    "tags": []
   },
   "outputs": [
    {
     "name": "stdout",
     "output_type": "stream",
     "text": [
      "jdbc:sqlserver://NOTEBOOK-LEO:1433;databaseName=Enem;\n"
     ]
    }
   ],
   "source": [
    "server_name = \"jdbc:sqlserver://NOTEBOOK-LEO:1433\"\n",
    "database_name = \"Enem\"\n",
    "table_name = \"Participantes\"\n",
    "username = \"bi_leonardobo\"\n",
    "password = \"0000\"\n",
    "url = server_name + \";\" + \"databaseName=\" + database_name + \";\"\n",
    "print(url)\n"
   ]
  },
  {
   "cell_type": "code",
   "execution_count": 19,
   "id": "45262d43",
   "metadata": {
    "tags": []
   },
   "outputs": [],
   "source": [
    "# Nome da nova tabela que será criada\n",
    "nomeTabela = 'Participantes'"
   ]
  },
  {
   "cell_type": "code",
   "execution_count": 21,
   "id": "b714419b-0c97-4b3a-a10b-08a39a11f1e7",
   "metadata": {
    "tags": []
   },
   "outputs": [
    {
     "name": "stdout",
     "output_type": "stream",
     "text": [
      "+------------+------+---------------+-------+---------------+-----------+----------------+---------------+---------------+---------+---------+------------+----------+----------+----------+----------+---------+\n",
      "|NU_INSCRICAO|NU_ANO|TP_FAIXA_ETARIA|TP_SEXO|TP_ESTADO_CIVIL|TP_COR_RACA|TP_NACIONALIDADE|TP_ST_CONCLUSAO|TP_ANO_CONCLUIU|TP_ESCOLA|TP_ENSINO|IN_TREINEIRO|NU_NOTA_CN|NU_NOTA_CH|NU_NOTA_LC|NU_NOTA_MT|TP_LINGUA|\n",
      "+------------+------+---------------+-------+---------------+-----------+----------------+---------------+---------------+---------+---------+------------+----------+----------+----------+----------+---------+\n",
      "|210055432769|  2022|             10|      F|              1|          1|               1|              1|              8|        1|       -2|           0|      -2.0|      -2.0|      -2.0|      -2.0|        0|\n",
      "|210055590133|  2022|              3|      F|              1|          4|               1|              2|              0|        2|        1|           0|     458.8|     491.6|     445.3|     532.8|        0|\n",
      "|210054560773|  2022|              4|      F|              1|          3|               1|              1|              2|        1|       -2|           0|      -2.0|      -2.0|      -2.0|      -2.0|        1|\n",
      "|210056376679|  2022|              2|      F|              1|          1|               1|              2|              0|        2|        1|           0|      -2.0|      -2.0|      -2.0|      -2.0|        1|\n",
      "|210055090240|  2022|              8|      F|              1|          3|               1|              1|              4|        1|       -2|           0|      -2.0|      -2.0|      -2.0|      -2.0|        1|\n",
      "|210057509062|  2022|              8|      M|              1|          2|               1|              1|              3|        1|       -2|           0|      -2.0|      -2.0|      -2.0|      -2.0|        1|\n",
      "|210056186398|  2022|              2|      F|              1|          3|               1|              2|              0|        2|        1|           0|     414.4|     426.9|     431.6|     366.6|        1|\n",
      "|210054775303|  2022|             10|      M|              1|          2|               1|              1|              9|        1|       -2|           0|     601.7|     662.0|     606.5|     688.2|        1|\n",
      "|210054964335|  2022|              2|      M|              1|          2|               1|              2|              0|        2|        1|           0|     470.7|     531.0|     372.1|     529.1|        0|\n",
      "|210057560475|  2022|              3|      F|              1|          3|               1|              2|              0|        2|        1|           0|     438.9|     503.0|     478.9|     469.4|        0|\n",
      "|210056212034|  2022|             14|      F|              1|          2|               1|              1|             16|        1|       -2|           0|      -2.0|      -2.0|      -2.0|      -2.0|        1|\n",
      "|210054987607|  2022|              1|      F|              1|          2|               1|              3|              0|        1|       -2|           1|     401.9|     432.1|     405.7|     491.0|        0|\n",
      "|210057167105|  2022|              3|      F|              1|          3|               1|              2|              0|        3|        1|           0|     449.3|     484.3|     524.7|     461.8|        1|\n",
      "|210054645025|  2022|              5|      M|              1|          1|               1|              1|              3|        1|       -2|           0|      -2.0|      -2.0|      -2.0|      -2.0|        0|\n",
      "|210056943230|  2022|              8|      F|              1|          3|               1|              1|              3|        1|       -2|           0|      -2.0|      -2.0|      -2.0|      -2.0|        1|\n",
      "|210055623153|  2022|              3|      F|              1|          1|               1|              2|              0|        2|        1|           0|     495.6|     549.9|     592.8|     557.2|        0|\n",
      "|210057566027|  2022|              3|      F|              1|          1|               1|              2|              0|        2|        1|           0|     519.0|     544.0|     542.1|     438.6|        0|\n",
      "|210054675743|  2022|              3|      F|              1|          1|               1|              2|              0|        2|        1|           0|     462.8|     482.3|     466.3|     446.6|        0|\n",
      "|210057561762|  2022|              3|      M|              1|          3|               1|              2|              0|        2|        1|           0|      -2.0|      -2.0|      -2.0|      -2.0|        0|\n",
      "|210057479916|  2022|              3|      M|              1|          3|               1|              1|              2|        1|       -2|           0|     450.8|     446.2|     371.5|     389.5|        1|\n",
      "|210056389670|  2022|              3|      F|              1|          3|               1|              2|              0|        2|        1|           0|      -2.0|      -2.0|      -2.0|      -2.0|        1|\n",
      "|210056911576|  2022|              2|      F|              1|          1|               1|              2|              0|        2|        1|           0|     457.9|     553.4|     514.3|     486.2|        0|\n",
      "|210054655305|  2022|              2|      M|              1|          1|               1|              3|              0|        1|       -2|           1|     436.0|     576.4|     566.2|     752.0|        0|\n",
      "|210054984053|  2022|             11|      F|              1|          3|               1|              1|              8|        1|       -2|           0|     439.4|     500.7|     522.4|     471.2|        1|\n",
      "|210057109605|  2022|              4|      F|              1|          2|               1|              1|              0|        1|       -2|           0|     474.1|     500.9|     524.2|     383.9|        1|\n",
      "|210054598251|  2022|             11|      F|              1|          3|               1|              1|              8|        1|       -2|           0|     458.1|     522.7|     441.6|     363.7|        0|\n",
      "|210054609649|  2022|              3|      M|              1|          3|               1|              2|              0|        3|        1|           0|     678.5|     664.2|     622.3|     744.9|        0|\n",
      "|210057820929|  2022|              7|      F|              1|          3|               1|              2|              0|        2|        1|           0|     493.8|     615.8|     578.1|     413.3|        0|\n",
      "|210057236814|  2022|              6|      F|              1|          3|               1|              1|              1|        1|       -2|           0|      -2.0|      -2.0|      -2.0|      -2.0|        1|\n",
      "|210057460886|  2022|              3|      F|              1|          2|               1|              1|              1|        1|       -2|           0|     438.0|     521.2|     432.0|     379.2|        0|\n",
      "|210055812168|  2022|              3|      M|              1|          3|               1|              2|              0|        2|        1|           0|     445.8|     577.0|     608.2|     553.6|        0|\n",
      "|210055663063|  2022|              4|      M|              2|          3|               1|              1|              1|        1|       -2|           0|     439.0|     483.2|     433.4|     434.4|        0|\n",
      "|210055353764|  2022|              3|      F|              1|          3|               1|              2|              0|        2|        1|           0|     449.1|     544.5|     520.4|     549.2|        1|\n",
      "|210057788356|  2022|              7|      M|              1|          3|               1|              1|              5|        1|       -2|           0|      -2.0|      -2.0|      -2.0|      -2.0|        1|\n",
      "|210055366842|  2022|              2|      F|              1|          4|               1|              2|              0|        2|        1|           0|     485.5|     452.5|     594.5|     470.5|        1|\n",
      "|210055441910|  2022|              7|      F|              1|          1|               1|              1|              3|        1|       -2|           0|      -2.0|      -2.0|      -2.0|      -2.0|        0|\n",
      "|210057260571|  2022|              9|      F|              1|          3|               1|              1|              5|        1|       -2|           0|     396.7|     405.8|     411.6|     421.8|        0|\n",
      "|210054969322|  2022|             11|      F|              1|          2|               1|              1|             10|        1|       -2|           0|     399.7|     383.7|     372.9|     366.5|        0|\n",
      "|210057632854|  2022|              3|      M|              1|          3|               1|              2|              0|        2|        1|           0|     465.3|     492.1|     428.0|     389.7|        1|\n",
      "|210057454035|  2022|              7|      F|              1|          3|               1|              1|              3|        1|       -2|           0|      -2.0|      -2.0|      -2.0|      -2.0|        0|\n",
      "+------------+------+---------------+-------+---------------+-----------+----------------+---------------+---------------+---------+---------+------------+----------+----------+----------+----------+---------+\n",
      "only showing top 40 rows\n",
      "\n",
      "17744217\n"
     ]
    }
   ],
   "source": [
    "#Conectando via jdbc\n",
    "#No método option, foi necessário passar os argumentos ssl e trustservercertificate como true, por se tratar de um banco local sem SSL.\n",
    "try:\n",
    "  jdbcDF = spark.read \\\n",
    "        .format(\"jdbc\") \\\n",
    "        .option(\"url\", url) \\\n",
    "        .option(\"driver\",\"com.microsoft.sqlserver.jdbc.SQLServerDriver\")\\\n",
    "        .option(\"ssl\", \"true\")\\\n",
    "        .option(\"trustServerCertificate\", \"true\")\\\n",
    "        .option(\"dbtable\", table_name) \\\n",
    "        .option(\"user\", username) \\\n",
    "        .option(\"password\", password).load()\n",
    "  \n",
    "  jdbcDF.show(40)\n",
    "  print(jdbcDF.count())\n",
    "except ValueError as error :\n",
    "    print(\"Connector write failed\", error)\n"
   ]
  },
  {
   "cell_type": "code",
   "execution_count": 22,
   "id": "6f3a8e0f-907e-4a25-aee7-793eac934db9",
   "metadata": {
    "tags": []
   },
   "outputs": [],
   "source": [
    "# Configurações do banco de dados\n",
    "server_name = \"NOTEBOOK-LEO\\\\SQLEXPRESS\"\n",
    " \n",
    "# Conecte-se ao banco de dados usando pyodbc\n",
    "conn = pyodbc.connect(f\"Driver={{SQL Server}};Server={server_name};Database={database_name};UID={username};PWD={password}\")\n",
    "\n",
    "# Crie um cursor\n",
    "cursor = conn.cursor()\n",
    "\n",
    "# Execute a operação DROP TABLE na tabela 'Participantes'\n",
    "truncate_query = \"DROP TABLE dbo.Participantes\"\n",
    "cursor.execute(truncate_query)\n",
    "\n",
    "# Commit as alterações no banco de dados\n",
    "conn.commit()"
   ]
  },
  {
   "cell_type": "code",
   "execution_count": 23,
   "id": "5e87ccad-a1e1-47ef-acc7-dfd6bfc677c8",
   "metadata": {
    "tags": []
   },
   "outputs": [],
   "source": [
    "# Escreva os novos dados em 'Participantes' usando a conexão JDBC\n",
    "dfPreencher.write \\\n",
    "        .format(\"jdbc\") \\\n",
    "        .option(\"url\", url) \\\n",
    "        .option(\"driver\",\"com.microsoft.sqlserver.jdbc.SQLServerDriver\")\\\n",
    "        .option(\"ssl\", \"true\")\\\n",
    "        .option(\"trustServerCertificate\", \"true\")\\\n",
    "        .option(\"dbtable\", table_name) \\\n",
    "        .option(\"user\", username) \\\n",
    "        .option(\"password\", password)\\\n",
    "        .option(\"SaveMode\", \"overWrite\").save()\n",
    "  \n"
   ]
  },
  {
   "cell_type": "code",
   "execution_count": 24,
   "id": "dafe0615",
   "metadata": {
    "tags": []
   },
   "outputs": [
    {
     "name": "stdout",
     "output_type": "stream",
     "text": [
      "Tabela Participantes criada com sucesso no banco de dados.\n"
     ]
    }
   ],
   "source": [
    "print(f'Tabela {nomeTabela} criada com sucesso no banco de dados.')\n"
   ]
  },
  {
   "cell_type": "code",
   "execution_count": 25,
   "id": "6de4ad95-23a6-45f1-af4d-d657f218bd8f",
   "metadata": {},
   "outputs": [],
   "source": [
    "spark.stop()"
   ]
  }
 ],
 "metadata": {
  "kernelspec": {
   "display_name": "Python 3 (ipykernel)",
   "language": "python",
   "name": "python3"
  },
  "language_info": {
   "codemirror_mode": {
    "name": "ipython",
    "version": 3
   },
   "file_extension": ".py",
   "mimetype": "text/x-python",
   "name": "python",
   "nbconvert_exporter": "python",
   "pygments_lexer": "ipython3",
   "version": "3.11.3"
  }
 },
 "nbformat": 4,
 "nbformat_minor": 5
}
