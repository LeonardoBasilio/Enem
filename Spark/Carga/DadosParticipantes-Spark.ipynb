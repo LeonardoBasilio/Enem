{
 "cells": [
  {
   "cell_type": "markdown",
   "id": "0f115781",
   "metadata": {},
   "source": [
    "## Importação das Bibiliotecas"
   ]
  },
  {
   "cell_type": "code",
   "execution_count": 17,
   "id": "b2595d63-db8f-47d8-9b6d-dd142460985a",
   "metadata": {
    "tags": []
   },
   "outputs": [],
   "source": [
    "from pyspark.sql import SparkSession\n",
    "from sqlalchemy import create_engine\n",
    "import pandas as pd\n",
    "import pyodbc\n",
    "import pyspark.sql.functions as F"
   ]
  },
  {
   "cell_type": "code",
   "execution_count": 18,
   "id": "137c301b-7b56-434b-bd08-979c6717af70",
   "metadata": {
    "tags": []
   },
   "outputs": [],
   "source": [
    "# Crie um SparkSession\n",
    "spark = SparkSession.builder.appName(\"LerDadosEnem\").getOrCreate()\n"
   ]
  },
  {
   "cell_type": "markdown",
   "id": "a92050d4",
   "metadata": {},
   "source": [
    "## Processo de Leitura do CSV de Participantes\n"
   ]
  },
  {
   "cell_type": "code",
   "execution_count": 19,
   "id": "158e76e5",
   "metadata": {
    "tags": []
   },
   "outputs": [],
   "source": [
    "#Path dos arquivos\n",
    "\n",
    "caminho_arquivo_2022 = r'E:\\Estudos\\SQL\\Datasets\\ENEM\\2022\\microdados_enem_2022\\DADOS\\MICRODADOS_ENEM_2022.csv'\n",
    "caminho_arquivo_2021 = r'E:\\Estudos\\SQL\\Datasets\\ENEM\\2021\\microdados_enem_2021\\DADOS\\MICRODADOS_ENEM_2021.csv'\n",
    "caminho_arquivo_2020 = r'E:\\Estudos\\SQL\\Datasets\\ENEM\\2020\\microdados_enem_2020\\DADOS\\MICRODADOS_ENEM_2020.csv'\n",
    "caminho_arquivo_2019 = r'E:\\Estudos\\SQL\\Datasets\\ENEM\\2019\\microdados_enem_2019\\DADOS\\MICRODADOS_ENEM_2019.csv'"
   ]
  },
  {
   "cell_type": "code",
   "execution_count": 24,
   "id": "326d8fa5",
   "metadata": {
    "tags": []
   },
   "outputs": [],
   "source": [
    "#Função Paa ler os arquivos CSV\n",
    "def lerCSV(spark, caminho_arquivo):\n",
    "    df = spark.read.csv(caminho_arquivo, sep=';', header=True, inferSchema=True, encoding='ISO-8859-1')\n",
    "    colunas_selecionadas = [F.col(df.columns[i]) for i in range(0, 12)] + [F.col(df.columns[i]) for i in range(23, 27)]  + [F.col(df.columns[i]) for i in range(31, 35)] + [F.col(df.columns[39])] + [F.col(df.columns[56])]\n",
    "    return df.select(colunas_selecionadas)\n"
   ]
  },
  {
   "cell_type": "code",
   "execution_count": 25,
   "id": "6c885188-20cd-42c8-b472-465b93b8354d",
   "metadata": {
    "tags": []
   },
   "outputs": [],
   "source": [
    "##Chama função quer ler o arquivo CSV e Transforma para DF.SPARK\n",
    "\n",
    "dfDadosParticipantes22 = lerCSV(spark, caminho_arquivo_2022)\n",
    "dfDadosParticipantes21 = lerCSV(spark, caminho_arquivo_2021)\n",
    "dfDadosParticipantes20 = lerCSV(spark, caminho_arquivo_2020)\n",
    "dfDadosParticipantes19 = lerCSV(spark, caminho_arquivo_2019)\n",
    "\n"
   ]
  },
  {
   "cell_type": "code",
   "execution_count": 26,
   "id": "9bf255a1-b7ac-44b1-b5ef-52f40d5cecd3",
   "metadata": {
    "tags": []
   },
   "outputs": [],
   "source": [
    "#Unir os DF em um só \n",
    "\n",
    "dfDadosParticipantes = dfDadosParticipantes22.union(dfDadosParticipantes21).union(dfDadosParticipantes20).union(dfDadosParticipantes19)\n"
   ]
  },
  {
   "cell_type": "code",
   "execution_count": 27,
   "id": "68561606",
   "metadata": {},
   "outputs": [
    {
     "name": "stdout",
     "output_type": "stream",
     "text": [
      "+------------+------+---------------+-------+---------------+-----------+----------------+---------------+---------------+---------+---------+------------+--------------+--------------+--------------+--------------+----------+----------+----------+----------+---------+----+\n",
      "|NU_INSCRICAO|NU_ANO|TP_FAIXA_ETARIA|TP_SEXO|TP_ESTADO_CIVIL|TP_COR_RACA|TP_NACIONALIDADE|TP_ST_CONCLUSAO|TP_ANO_CONCLUIU|TP_ESCOLA|TP_ENSINO|IN_TREINEIRO|TP_PRESENCA_CN|TP_PRESENCA_CH|TP_PRESENCA_LC|TP_PRESENCA_MT|NU_NOTA_CN|NU_NOTA_CH|NU_NOTA_LC|NU_NOTA_MT|TP_LINGUA|Q006|\n",
      "+------------+------+---------------+-------+---------------+-----------+----------------+---------------+---------------+---------+---------+------------+--------------+--------------+--------------+--------------+----------+----------+----------+----------+---------+----+\n",
      "|210057943671|  2022|             14|      M|              2|          2|               1|              1|              2|        1|     null|           0|             0|             0|             0|             0|      null|      null|      null|      null|        0|   B|\n",
      "|210057516120|  2022|             14|      M|              2|          1|               1|              1|             16|        1|     null|           0|             0|             0|             0|             0|      null|      null|      null|      null|        0|   Q|\n",
      "|210057280536|  2022|              5|      F|              1|          2|               1|              1|              2|        1|     null|           0|             1|             1|             1|             1|     421.1|     546.0|     498.8|     565.3|        1|   B|\n",
      "|210055724397|  2022|              6|      M|              1|          3|               1|              1|              2|        1|     null|           0|             1|             1|             1|             1|     490.7|     388.6|     357.8|     416.0|        1|   A|\n",
      "|210055097896|  2022|              4|      M|              0|          3|               1|              1|              1|        1|     null|           0|             0|             0|             0|             0|      null|      null|      null|      null|        0|   B|\n",
      "|210057850231|  2022|              5|      F|              1|          3|               1|              1|              2|        1|     null|           0|             0|             0|             0|             0|      null|      null|      null|      null|        1|   C|\n",
      "|210056305481|  2022|              4|      M|              1|          2|               1|              1|              2|        1|     null|           0|             0|             0|             0|             0|      null|      null|      null|      null|        0|   B|\n",
      "|210055778089|  2022|              6|      F|              1|          2|               1|              1|              0|        1|     null|           0|             1|             1|             1|             1|     398.1|     427.3|     400.2|     404.9|        1|   B|\n",
      "|210057252239|  2022|              8|      F|              1|          3|               1|              1|              0|        1|     null|           0|             0|             0|             0|             0|      null|      null|      null|      null|        1|   B|\n",
      "|210055461467|  2022|              4|      F|              1|          3|               1|              1|              1|        1|     null|           0|             1|             1|             1|             1|     467.5|     461.0|     466.7|     435.3|        1|   B|\n",
      "|210055665589|  2022|              4|      F|              1|          3|               1|              1|              2|        1|     null|           0|             0|             0|             0|             0|      null|      null|      null|      null|        1|   A|\n",
      "|210054972570|  2022|              2|      F|              1|          1|               1|              2|              0|        3|        1|           0|             1|             1|             1|             1|     458.7|     539.8|     488.2|     456.8|        1|   B|\n",
      "|210055449344|  2022|              4|      M|              1|          2|               1|              1|              1|        1|     null|           0|             0|             0|             0|             0|      null|      null|      null|      null|        1|   B|\n",
      "|210057944037|  2022|              6|      F|              1|          3|               1|              1|              0|        1|     null|           0|             0|             0|             0|             0|      null|      null|      null|      null|        1|   C|\n",
      "|210054861834|  2022|              7|      M|              1|          2|               2|              1|              3|        1|     null|           0|             0|             0|             0|             0|      null|      null|      null|      null|        1|   C|\n",
      "|210055201589|  2022|              8|      F|              1|          3|               1|              2|              0|        2|        1|           0|             0|             0|             0|             0|      null|      null|      null|      null|        1|   B|\n",
      "|210056844882|  2022|              5|      F|              1|          2|               1|              1|              0|        1|     null|           0|             0|             0|             0|             0|      null|      null|      null|      null|        0|   B|\n",
      "|210056065100|  2022|              2|      F|              1|          3|               1|              3|              0|        1|     null|           1|             1|             1|             1|             1|     396.8|     528.7|     551.4|     536.0|        0|   B|\n",
      "|210057551883|  2022|              8|      F|              1|          2|               1|              1|              5|        1|     null|           0|             1|             1|             1|             1|     481.4|     603.6|     589.0|     695.0|        1|   B|\n",
      "|210054722657|  2022|              2|      F|              1|          1|               1|              3|              0|        1|     null|           1|             0|             0|             0|             0|      null|      null|      null|      null|        0|   D|\n",
      "+------------+------+---------------+-------+---------------+-----------+----------------+---------------+---------------+---------+---------+------------+--------------+--------------+--------------+--------------+----------+----------+----------+----------+---------+----+\n",
      "only showing top 20 rows\n",
      "\n"
     ]
    }
   ],
   "source": [
    "dfDadosParticipantes.show()"
   ]
  },
  {
   "cell_type": "code",
   "execution_count": 29,
   "id": "a0ddb3df",
   "metadata": {
    "tags": []
   },
   "outputs": [],
   "source": [
    "# Lista das colunas que não devem ser afetadas\n",
    "colunas_nao_afetadas = ['NU_NOTA_CN', 'NU_NOTA_CH', 'NU_NOTA_LC', 'NU_NOTA_MT']\n"
   ]
  },
  {
   "cell_type": "code",
   "execution_count": 34,
   "id": "9a459e58",
   "metadata": {},
   "outputs": [],
   "source": [
    "for coluna in dfDadosParticipantes.columns:\n",
    "    if coluna not in colunas_nao_afetadas:\n",
    "        dfPreencher = dfDadosParticipantes.withColumn(coluna, F.when(F.col(coluna).isNull(), -2).otherwise(F.col(coluna)))\n"
   ]
  },
  {
   "cell_type": "code",
   "execution_count": 35,
   "id": "1347e2cb",
   "metadata": {},
   "outputs": [
    {
     "name": "stdout",
     "output_type": "stream",
     "text": [
      "+------------+------+---------------+-------+---------------+-----------+----------------+---------------+---------------+---------+---------+------------+--------------+--------------+--------------+--------------+----------+----------+----------+----------+---------+----+\n",
      "|NU_INSCRICAO|NU_ANO|TP_FAIXA_ETARIA|TP_SEXO|TP_ESTADO_CIVIL|TP_COR_RACA|TP_NACIONALIDADE|TP_ST_CONCLUSAO|TP_ANO_CONCLUIU|TP_ESCOLA|TP_ENSINO|IN_TREINEIRO|TP_PRESENCA_CN|TP_PRESENCA_CH|TP_PRESENCA_LC|TP_PRESENCA_MT|NU_NOTA_CN|NU_NOTA_CH|NU_NOTA_LC|NU_NOTA_MT|TP_LINGUA|Q006|\n",
      "+------------+------+---------------+-------+---------------+-----------+----------------+---------------+---------------+---------+---------+------------+--------------+--------------+--------------+--------------+----------+----------+----------+----------+---------+----+\n",
      "|210057943671|  2022|             14|      M|              2|          2|               1|              1|              2|        1|       -2|           0|             0|             0|             0|             0|      null|      null|      null|      null|        0|   B|\n",
      "|210057516120|  2022|             14|      M|              2|          1|               1|              1|             16|        1|       -2|           0|             0|             0|             0|             0|      null|      null|      null|      null|        0|   Q|\n",
      "|210057280536|  2022|              5|      F|              1|          2|               1|              1|              2|        1|       -2|           0|             1|             1|             1|             1|     421.1|     546.0|     498.8|     565.3|        1|   B|\n",
      "|210055724397|  2022|              6|      M|              1|          3|               1|              1|              2|        1|       -2|           0|             1|             1|             1|             1|     490.7|     388.6|     357.8|     416.0|        1|   A|\n",
      "|210055097896|  2022|              4|      M|              0|          3|               1|              1|              1|        1|       -2|           0|             0|             0|             0|             0|      null|      null|      null|      null|        0|   B|\n",
      "|210057850231|  2022|              5|      F|              1|          3|               1|              1|              2|        1|       -2|           0|             0|             0|             0|             0|      null|      null|      null|      null|        1|   C|\n",
      "|210056305481|  2022|              4|      M|              1|          2|               1|              1|              2|        1|       -2|           0|             0|             0|             0|             0|      null|      null|      null|      null|        0|   B|\n",
      "|210055778089|  2022|              6|      F|              1|          2|               1|              1|              0|        1|       -2|           0|             1|             1|             1|             1|     398.1|     427.3|     400.2|     404.9|        1|   B|\n",
      "|210057252239|  2022|              8|      F|              1|          3|               1|              1|              0|        1|       -2|           0|             0|             0|             0|             0|      null|      null|      null|      null|        1|   B|\n",
      "|210055461467|  2022|              4|      F|              1|          3|               1|              1|              1|        1|       -2|           0|             1|             1|             1|             1|     467.5|     461.0|     466.7|     435.3|        1|   B|\n",
      "|210055665589|  2022|              4|      F|              1|          3|               1|              1|              2|        1|       -2|           0|             0|             0|             0|             0|      null|      null|      null|      null|        1|   A|\n",
      "|210054972570|  2022|              2|      F|              1|          1|               1|              2|              0|        3|        1|           0|             1|             1|             1|             1|     458.7|     539.8|     488.2|     456.8|        1|   B|\n",
      "|210055449344|  2022|              4|      M|              1|          2|               1|              1|              1|        1|       -2|           0|             0|             0|             0|             0|      null|      null|      null|      null|        1|   B|\n",
      "|210057944037|  2022|              6|      F|              1|          3|               1|              1|              0|        1|       -2|           0|             0|             0|             0|             0|      null|      null|      null|      null|        1|   C|\n",
      "|210054861834|  2022|              7|      M|              1|          2|               2|              1|              3|        1|       -2|           0|             0|             0|             0|             0|      null|      null|      null|      null|        1|   C|\n",
      "|210055201589|  2022|              8|      F|              1|          3|               1|              2|              0|        2|        1|           0|             0|             0|             0|             0|      null|      null|      null|      null|        1|   B|\n",
      "|210056844882|  2022|              5|      F|              1|          2|               1|              1|              0|        1|       -2|           0|             0|             0|             0|             0|      null|      null|      null|      null|        0|   B|\n",
      "|210056065100|  2022|              2|      F|              1|          3|               1|              3|              0|        1|       -2|           1|             1|             1|             1|             1|     396.8|     528.7|     551.4|     536.0|        0|   B|\n",
      "|210057551883|  2022|              8|      F|              1|          2|               1|              1|              5|        1|       -2|           0|             1|             1|             1|             1|     481.4|     603.6|     589.0|     695.0|        1|   B|\n",
      "|210054722657|  2022|              2|      F|              1|          1|               1|              3|              0|        1|       -2|           1|             0|             0|             0|             0|      null|      null|      null|      null|        0|   D|\n",
      "+------------+------+---------------+-------+---------------+-----------+----------------+---------------+---------------+---------+---------+------------+--------------+--------------+--------------+--------------+----------+----------+----------+----------+---------+----+\n",
      "only showing top 20 rows\n",
      "\n"
     ]
    }
   ],
   "source": [
    "dfPreencher.show()\n"
   ]
  },
  {
   "cell_type": "markdown",
   "id": "1d1ed5ca",
   "metadata": {},
   "source": [
    "# Salvar em SQL \n",
    "Salvar os dados em uma tabela SQL\n"
   ]
  },
  {
   "cell_type": "markdown",
   "id": "0f1deb1f",
   "metadata": {},
   "source": [
    "## Parametrizando a conexão do Banco SQL SERVER"
   ]
  },
  {
   "cell_type": "code",
   "execution_count": 39,
   "id": "9e7396db",
   "metadata": {
    "tags": []
   },
   "outputs": [
    {
     "name": "stdout",
     "output_type": "stream",
     "text": [
      "jdbc:sqlserver://NOTEBOOK-LEO:1433;databaseName=Enem;\n"
     ]
    }
   ],
   "source": [
    "server_name = \"jdbc:sqlserver://NOTEBOOK-LEO:1433\"\n",
    "database_name = \"Enem\"\n",
    "table_name = \"Participantes\"\n",
    "username = \"bi_leonardobo\"\n",
    "password = \"0000\"\n",
    "url = server_name + \";\" + \"databaseName=\" + database_name + \";\"\n",
    "print(url)\n"
   ]
  },
  {
   "cell_type": "code",
   "execution_count": 40,
   "id": "45262d43",
   "metadata": {
    "tags": []
   },
   "outputs": [],
   "source": [
    "# Nome da nova tabela que será criada\n",
    "nomeTabela = 'Participantes'"
   ]
  },
  {
   "cell_type": "code",
   "execution_count": 41,
   "id": "b714419b-0c97-4b3a-a10b-08a39a11f1e7",
   "metadata": {
    "tags": []
   },
   "outputs": [
    {
     "name": "stdout",
     "output_type": "stream",
     "text": [
      "+------------+------+---------------+-------+---------------+-----------+----------------+---------------+---------------+---------+---------+------------+----------+----------+----------+----------+---------+----+\n",
      "|NU_INSCRICAO|NU_ANO|TP_FAIXA_ETARIA|TP_SEXO|TP_ESTADO_CIVIL|TP_COR_RACA|TP_NACIONALIDADE|TP_ST_CONCLUSAO|TP_ANO_CONCLUIU|TP_ESCOLA|TP_ENSINO|IN_TREINEIRO|NU_NOTA_CN|NU_NOTA_CH|NU_NOTA_LC|NU_NOTA_MT|TP_LINGUA|Q006|\n",
      "+------------+------+---------------+-------+---------------+-----------+----------------+---------------+---------------+---------+---------+------------+----------+----------+----------+----------+---------+----+\n",
      "|200003144145|  2020|              7|      F|              1|          3|               1|              1|              5|        1|       -2|           0|      -2.0|      -2.0|      -2.0|      -2.0|        0|   D|\n",
      "|200001899802|  2020|              7|      F|              1|          3|               1|              1|              4|        1|       -2|           0|      -2.0|      -2.0|      -2.0|      -2.0|        1|   D|\n",
      "|200003454373|  2020|              3|      M|              1|          3|               1|              2|              0|        2|        1|           0|     404.5|     469.9|     477.9|     493.7|        0|   B|\n",
      "|200003064345|  2020|             11|      M|              1|          2|               1|              1|              0|        1|       -2|           0|      -2.0|      -2.0|      -2.0|      -2.0|        0|   C|\n",
      "|200003532913|  2020|              5|      M|              1|          3|               2|              2|              0|        2|        1|           0|      -2.0|      -2.0|      -2.0|      -2.0|        1|   E|\n",
      "|200005438199|  2020|              3|      F|              1|          2|               1|              2|              0|        2|        1|           0|     512.6|     633.4|     524.6|     424.6|        1|   C|\n",
      "|200003734710|  2020|              3|      M|              1|          2|               1|              2|              0|        2|        1|           0|     567.0|     655.7|     546.9|     612.4|        0|   F|\n",
      "|200001444945|  2020|              4|      F|              3|          3|               2|              1|              2|        1|       -2|           0|      -2.0|      -2.0|      -2.0|      -2.0|        0|   B|\n",
      "|200005728786|  2020|              3|      M|              1|          1|               1|              2|              0|        2|        1|           0|      -2.0|      -2.0|      -2.0|      -2.0|        0|   A|\n",
      "|200002869719|  2020|             12|      F|              1|          3|               1|              1|             12|        1|       -2|           0|      -2.0|      -2.0|      -2.0|      -2.0|        1|   F|\n",
      "|200001085272|  2020|              6|      F|              1|          3|               1|              1|              5|        1|       -2|           0|     396.7|     427.4|     503.4|     412.3|        0|   C|\n",
      "|200003069642|  2020|              3|      F|              1|          3|               1|              2|              0|        2|        1|           0|     460.0|     518.3|     501.2|     371.0|        0|   D|\n",
      "|200004111905|  2020|              8|      M|              1|          3|               1|              1|              7|        1|       -2|           0|     478.0|     496.2|     523.3|     745.1|        0|   D|\n",
      "|200005190687|  2020|              2|      M|              1|          3|               1|              2|              0|        2|        1|           0|     387.7|     374.5|     381.5|     358.3|        0|   B|\n",
      "|200004741715|  2020|              3|      M|              1|          4|               1|              2|              0|        2|        1|           0|      -2.0|      -2.0|      -2.0|      -2.0|        1|   C|\n",
      "|200001655036|  2020|             13|      M|              3|          2|               1|              1|             14|        1|       -2|           0|      -2.0|      -2.0|      -2.0|      -2.0|        1|   C|\n",
      "|200004886894|  2020|             11|      M|              1|          1|               1|              1|              0|        1|       -2|           0|      -2.0|      -2.0|      -2.0|      -2.0|        1|   A|\n",
      "|200001715003|  2020|              4|      F|              1|          3|               1|              1|              2|        1|       -2|           0|     479.2|     407.0|     541.4|     373.8|        1|   C|\n",
      "|200001572725|  2020|              4|      M|              0|          3|               1|              2|              0|        2|        1|           0|     459.6|     529.6|     615.7|     587.4|        1|   B|\n",
      "|200003623656|  2020|              4|      F|              1|          2|               1|              1|              2|        1|       -2|           0|      -2.0|      -2.0|      -2.0|      -2.0|        0|   B|\n",
      "|200003738285|  2020|              9|      M|              1|          2|               1|              1|              6|        1|       -2|           0|      -2.0|      -2.0|      -2.0|      -2.0|        1|null|\n",
      "|200005566191|  2020|              7|      F|              1|          3|               1|              1|              3|        1|       -2|           0|     360.2|     412.6|     395.6|     345.2|        1|   B|\n",
      "|200003634204|  2020|              3|      F|              1|          3|               1|              2|              0|        2|        1|           0|      -2.0|      -2.0|      -2.0|      -2.0|        0|   A|\n",
      "|200004296252|  2020|             10|      F|              1|          1|               1|              1|              7|        1|       -2|           0|     642.3|     653.5|     597.0|     702.3|        1|   K|\n",
      "|200005268992|  2020|              3|      M|              1|          3|               1|              2|              0|        2|        1|           0|      -2.0|      -2.0|      -2.0|      -2.0|        1|   B|\n",
      "|200005988142|  2020|              5|      M|              1|          1|               1|              2|              0|        2|        1|           0|     517.3|     540.8|     538.8|     434.9|        1|   B|\n",
      "|200003030866|  2020|              7|      F|              1|          3|               1|              1|              4|        1|       -2|           0|      -2.0|      -2.0|      -2.0|      -2.0|        1|   B|\n",
      "|200003319154|  2020|              6|      M|              1|          3|               1|              1|              4|        1|       -2|           0|     539.4|     575.0|     519.2|     660.8|        1|   C|\n",
      "|200005520115|  2020|             11|      M|              0|          2|               1|              1|              0|        1|       -2|           0|      -2.0|      -2.0|      -2.0|      -2.0|        0|   A|\n",
      "|200004886383|  2020|              4|      F|              1|          3|               1|              1|              0|        1|       -2|           0|      -2.0|     349.4|     376.4|      -2.0|        0|   M|\n",
      "|200002953227|  2020|             11|      M|              1|          2|               1|              1|             10|        1|       -2|           0|     424.8|     571.8|     620.0|     359.4|        1|   D|\n",
      "|200003609571|  2020|              9|      F|              1|          3|               1|              1|              6|        1|       -2|           0|      -2.0|     376.0|     495.9|      -2.0|        1|null|\n",
      "|200006539192|  2020|              1|      F|              1|          1|               1|              4|              0|        1|       -2|           0|      -2.0|      -2.0|      -2.0|      -2.0|        0|   N|\n",
      "|200003423636|  2020|              3|      F|              1|          3|               1|              2|              0|        3|        1|           0|     460.8|     534.8|     568.4|     532.2|        1|   B|\n",
      "|200001557292|  2020|             11|      M|              1|          1|               1|              1|             10|        1|       -2|           0|     518.8|     497.5|     500.9|     576.0|        0|   C|\n",
      "|200006571237|  2020|              6|      F|              1|          2|               1|              1|              0|        1|       -2|           0|      -2.0|      -2.0|      -2.0|      -2.0|        1|   C|\n",
      "|200001737957|  2020|             14|      M|              1|          3|               1|              1|             14|        1|       -2|           0|      -2.0|     341.0|     381.3|      -2.0|        1|   A|\n",
      "|200002686148|  2020|             13|      F|              1|          3|               1|              1|             14|        1|       -2|           0|      -2.0|      -2.0|      -2.0|      -2.0|        0|   I|\n",
      "|200002565199|  2020|              2|      M|              1|          1|               1|              2|              0|        2|        1|           0|     414.3|     474.6|     483.9|     433.4|        0|   F|\n",
      "|200002677769|  2020|             10|      F|              1|          2|               1|              1|              0|        1|       -2|           0|      -2.0|      -2.0|      -2.0|      -2.0|        0|   B|\n",
      "+------------+------+---------------+-------+---------------+-----------+----------------+---------------+---------------+---------+---------+------------+----------+----------+----------+----------+---------+----+\n",
      "only showing top 40 rows\n",
      "\n",
      "17744217\n"
     ]
    }
   ],
   "source": [
    "#Conectando via jdbc\n",
    "#No método option, foi necessário passar os argumentos ssl e trustservercertificate como true, por se tratar de um banco local sem SSL.\n",
    "try:\n",
    "  jdbcDF = spark.read \\\n",
    "        .format(\"jdbc\") \\\n",
    "        .option(\"url\", url) \\\n",
    "        .option(\"driver\",\"com.microsoft.sqlserver.jdbc.SQLServerDriver\")\\\n",
    "        .option(\"ssl\", \"true\")\\\n",
    "        .option(\"trustServerCertificate\", \"true\")\\\n",
    "        .option(\"dbtable\", table_name) \\\n",
    "        .option(\"user\", username) \\\n",
    "        .option(\"password\", password).load()\n",
    "  \n",
    "  jdbcDF.show(40)\n",
    "  print(jdbcDF.count())\n",
    "except ValueError as error :\n",
    "    print(\"Connector write failed\", error)\n"
   ]
  },
  {
   "cell_type": "code",
   "execution_count": 42,
   "id": "6f3a8e0f-907e-4a25-aee7-793eac934db9",
   "metadata": {
    "tags": []
   },
   "outputs": [],
   "source": [
    "# Configurações do banco de dados\n",
    "server_name = \"NOTEBOOK-LEO\\\\SQLEXPRESS\"\n",
    " \n",
    "# Conecte-se ao banco de dados usando pyodbc\n",
    "conn = pyodbc.connect(f\"Driver={{SQL Server}};Server={server_name};Database={database_name};UID={username};PWD={password}\")\n",
    "\n",
    "# Crie um cursor\n",
    "cursor = conn.cursor()\n",
    "\n",
    "# Execute a operação DROP TABLE na tabela 'Participantes'\n",
    "truncate_query = \"DROP TABLE dbo.Participantes\"\n",
    "cursor.execute(truncate_query)\n",
    "\n",
    "# Commit as alterações no banco de dados\n",
    "conn.commit()"
   ]
  },
  {
   "cell_type": "code",
   "execution_count": 43,
   "id": "5e87ccad-a1e1-47ef-acc7-dfd6bfc677c8",
   "metadata": {
    "tags": []
   },
   "outputs": [],
   "source": [
    "# Escreva os novos dados em 'Participantes' usando a conexão JDBC\n",
    "dfPreencher.write \\\n",
    "        .format(\"jdbc\") \\\n",
    "        .option(\"url\", url) \\\n",
    "        .option(\"driver\",\"com.microsoft.sqlserver.jdbc.SQLServerDriver\")\\\n",
    "        .option(\"ssl\", \"true\")\\\n",
    "        .option(\"trustServerCertificate\", \"true\")\\\n",
    "        .option(\"dbtable\", table_name) \\\n",
    "        .option(\"user\", username) \\\n",
    "        .option(\"password\", password)\\\n",
    "        .option(\"SaveMode\", \"overWrite\").save()\n",
    "  \n"
   ]
  },
  {
   "cell_type": "code",
   "execution_count": 15,
   "id": "dafe0615",
   "metadata": {
    "tags": []
   },
   "outputs": [
    {
     "name": "stdout",
     "output_type": "stream",
     "text": [
      "Tabela Participantes criada com sucesso no banco de dados.\n"
     ]
    }
   ],
   "source": [
    "print(f'Tabela {nomeTabela} criada com sucesso no banco de dados.')\n"
   ]
  },
  {
   "cell_type": "code",
   "execution_count": 16,
   "id": "6de4ad95-23a6-45f1-af4d-d657f218bd8f",
   "metadata": {},
   "outputs": [],
   "source": [
    "spark.stop()"
   ]
  }
 ],
 "metadata": {
  "kernelspec": {
   "display_name": "Python 3 (ipykernel)",
   "language": "python",
   "name": "python3"
  },
  "language_info": {
   "codemirror_mode": {
    "name": "ipython",
    "version": 3
   },
   "file_extension": ".py",
   "mimetype": "text/x-python",
   "name": "python",
   "nbconvert_exporter": "python",
   "pygments_lexer": "ipython3",
   "version": "3.11.3"
  }
 },
 "nbformat": 4,
 "nbformat_minor": 5
}
