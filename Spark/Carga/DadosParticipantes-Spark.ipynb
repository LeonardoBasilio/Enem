{
 "cells": [
  {
   "cell_type": "markdown",
   "id": "0f115781",
   "metadata": {},
   "source": [
    "## Importação das Bibiliotecas"
   ]
  },
  {
   "cell_type": "code",
   "execution_count": 54,
   "id": "b2595d63-db8f-47d8-9b6d-dd142460985a",
   "metadata": {
    "tags": []
   },
   "outputs": [],
   "source": [
    "from pyspark.sql import SparkSession\n",
    "from sqlalchemy import create_engine\n",
    "import pandas as pd\n",
    "import pyodbc\n",
    "import pyspark.sql.functions as F"
   ]
  },
  {
   "cell_type": "code",
   "execution_count": 55,
   "id": "137c301b-7b56-434b-bd08-979c6717af70",
   "metadata": {
    "tags": []
   },
   "outputs": [],
   "source": [
    "# Crie um SparkSession\n",
    "spark = SparkSession.builder.appName(\"LerDadosEnem\").getOrCreate()\n"
   ]
  },
  {
   "cell_type": "markdown",
   "id": "a92050d4",
   "metadata": {},
   "source": [
    "## Processo de Leitura do CSV de Participantes\n"
   ]
  },
  {
   "cell_type": "code",
   "execution_count": 56,
   "id": "158e76e5",
   "metadata": {
    "tags": []
   },
   "outputs": [],
   "source": [
    "#Path dos arquivos\n",
    "\n",
    "caminho_arquivo_2022 = r'E:\\Estudos\\SQL\\Datasets\\ENEM\\2022\\microdados_enem_2022\\DADOS\\MICRODADOS_ENEM_2022.csv'\n",
    "caminho_arquivo_2021 = r'E:\\Estudos\\SQL\\Datasets\\ENEM\\2021\\microdados_enem_2021\\DADOS\\MICRODADOS_ENEM_2021.csv'\n",
    "caminho_arquivo_2020 = r'E:\\Estudos\\SQL\\Datasets\\ENEM\\2020\\microdados_enem_2020\\DADOS\\MICRODADOS_ENEM_2020.csv'\n",
    "caminho_arquivo_2019 = r'E:\\Estudos\\SQL\\Datasets\\ENEM\\2019\\microdados_enem_2019\\DADOS\\MICRODADOS_ENEM_2019.csv'"
   ]
  },
  {
   "cell_type": "code",
   "execution_count": 76,
   "id": "326d8fa5",
   "metadata": {
    "tags": []
   },
   "outputs": [],
   "source": [
    "#Função Paa ler os arquivos CSV\n",
    "def lerCSV(spark, caminho_arquivo):\n",
    "    df = spark.read.csv(caminho_arquivo, sep=';', header=True, inferSchema=True, encoding='ISO-8859-1')\n",
    "    colunas_selecionadas = [F.col(df.columns[i]) for i in range(0, 12)] + [F.col(df.columns[i]) for i in range(31, 34)] + [F.col(df.columns[39])]\n",
    "    return df.select(colunas_selecionadas)\n"
   ]
  },
  {
   "cell_type": "code",
   "execution_count": 77,
   "id": "6c885188-20cd-42c8-b472-465b93b8354d",
   "metadata": {
    "tags": []
   },
   "outputs": [],
   "source": [
    "##Chama função quer ler o arquivo CSV e Transforma para DF.SPARK\n",
    "\n",
    "dfDadosParticipantes22 = lerCSV(spark, caminho_arquivo_2022)\n",
    "dfDadosParticipantes21 = lerCSV(spark, caminho_arquivo_2021)\n",
    "dfDadosParticipantes20 = lerCSV(spark, caminho_arquivo_2020)\n",
    "dfDadosParticipantes19 = lerCSV(spark, caminho_arquivo_2019)\n",
    "\n"
   ]
  },
  {
   "cell_type": "code",
   "execution_count": 78,
   "id": "9bf255a1-b7ac-44b1-b5ef-52f40d5cecd3",
   "metadata": {
    "tags": []
   },
   "outputs": [],
   "source": [
    "#Unir os DF em um só \n",
    "\n",
    "dfDadosParticipantes = dfDadosParticipantes22.union(dfDadosParticipantes21).union(dfDadosParticipantes20).union(dfDadosParticipantes19)\n"
   ]
  },
  {
   "cell_type": "code",
   "execution_count": 79,
   "id": "68561606",
   "metadata": {},
   "outputs": [
    {
     "name": "stdout",
     "output_type": "stream",
     "text": [
      "+------------+------+---------------+-------+---------------+-----------+----------------+---------------+---------------+---------+---------+------------+----------+----------+----------+---------+\n",
      "|NU_INSCRICAO|NU_ANO|TP_FAIXA_ETARIA|TP_SEXO|TP_ESTADO_CIVIL|TP_COR_RACA|TP_NACIONALIDADE|TP_ST_CONCLUSAO|TP_ANO_CONCLUIU|TP_ESCOLA|TP_ENSINO|IN_TREINEIRO|NU_NOTA_CN|NU_NOTA_CH|NU_NOTA_LC|TP_LINGUA|\n",
      "+------------+------+---------------+-------+---------------+-----------+----------------+---------------+---------------+---------+---------+------------+----------+----------+----------+---------+\n",
      "|210057943671|  2022|             14|      M|              2|          2|               1|              1|              2|        1|     null|           0|      null|      null|      null|        0|\n",
      "|210057516120|  2022|             14|      M|              2|          1|               1|              1|             16|        1|     null|           0|      null|      null|      null|        0|\n",
      "|210057280536|  2022|              5|      F|              1|          2|               1|              1|              2|        1|     null|           0|     421.1|     546.0|     498.8|        1|\n",
      "|210055724397|  2022|              6|      M|              1|          3|               1|              1|              2|        1|     null|           0|     490.7|     388.6|     357.8|        1|\n",
      "|210055097896|  2022|              4|      M|              0|          3|               1|              1|              1|        1|     null|           0|      null|      null|      null|        0|\n",
      "|210057850231|  2022|              5|      F|              1|          3|               1|              1|              2|        1|     null|           0|      null|      null|      null|        1|\n",
      "|210056305481|  2022|              4|      M|              1|          2|               1|              1|              2|        1|     null|           0|      null|      null|      null|        0|\n",
      "|210055778089|  2022|              6|      F|              1|          2|               1|              1|              0|        1|     null|           0|     398.1|     427.3|     400.2|        1|\n",
      "|210057252239|  2022|              8|      F|              1|          3|               1|              1|              0|        1|     null|           0|      null|      null|      null|        1|\n",
      "|210055461467|  2022|              4|      F|              1|          3|               1|              1|              1|        1|     null|           0|     467.5|     461.0|     466.7|        1|\n",
      "|210055665589|  2022|              4|      F|              1|          3|               1|              1|              2|        1|     null|           0|      null|      null|      null|        1|\n",
      "|210054972570|  2022|              2|      F|              1|          1|               1|              2|              0|        3|        1|           0|     458.7|     539.8|     488.2|        1|\n",
      "|210055449344|  2022|              4|      M|              1|          2|               1|              1|              1|        1|     null|           0|      null|      null|      null|        1|\n",
      "|210057944037|  2022|              6|      F|              1|          3|               1|              1|              0|        1|     null|           0|      null|      null|      null|        1|\n",
      "|210054861834|  2022|              7|      M|              1|          2|               2|              1|              3|        1|     null|           0|      null|      null|      null|        1|\n",
      "|210055201589|  2022|              8|      F|              1|          3|               1|              2|              0|        2|        1|           0|      null|      null|      null|        1|\n",
      "|210056844882|  2022|              5|      F|              1|          2|               1|              1|              0|        1|     null|           0|      null|      null|      null|        0|\n",
      "|210056065100|  2022|              2|      F|              1|          3|               1|              3|              0|        1|     null|           1|     396.8|     528.7|     551.4|        0|\n",
      "|210057551883|  2022|              8|      F|              1|          2|               1|              1|              5|        1|     null|           0|     481.4|     603.6|     589.0|        1|\n",
      "|210054722657|  2022|              2|      F|              1|          1|               1|              3|              0|        1|     null|           1|      null|      null|      null|        0|\n",
      "+------------+------+---------------+-------+---------------+-----------+----------------+---------------+---------------+---------+---------+------------+----------+----------+----------+---------+\n",
      "only showing top 20 rows\n",
      "\n"
     ]
    }
   ],
   "source": [
    "dfDadosParticipantes.show()"
   ]
  },
  {
   "cell_type": "code",
   "execution_count": 80,
   "id": "a0ddb3df",
   "metadata": {
    "tags": []
   },
   "outputs": [],
   "source": [
    "dfPreencher = dfDadosParticipantes.fillna(-2)  # Preenche com -2(sem ref), por exemplo\n"
   ]
  },
  {
   "cell_type": "code",
   "execution_count": 81,
   "id": "1347e2cb",
   "metadata": {},
   "outputs": [
    {
     "name": "stdout",
     "output_type": "stream",
     "text": [
      "+------------+------+---------------+-------+---------------+-----------+----------------+---------------+---------------+---------+---------+------------+----------+----------+----------+---------+\n",
      "|NU_INSCRICAO|NU_ANO|TP_FAIXA_ETARIA|TP_SEXO|TP_ESTADO_CIVIL|TP_COR_RACA|TP_NACIONALIDADE|TP_ST_CONCLUSAO|TP_ANO_CONCLUIU|TP_ESCOLA|TP_ENSINO|IN_TREINEIRO|NU_NOTA_CN|NU_NOTA_CH|NU_NOTA_LC|TP_LINGUA|\n",
      "+------------+------+---------------+-------+---------------+-----------+----------------+---------------+---------------+---------+---------+------------+----------+----------+----------+---------+\n",
      "|210057943671|  2022|             14|      M|              2|          2|               1|              1|              2|        1|       -2|           0|      -2.0|      -2.0|      -2.0|        0|\n",
      "|210057516120|  2022|             14|      M|              2|          1|               1|              1|             16|        1|       -2|           0|      -2.0|      -2.0|      -2.0|        0|\n",
      "|210057280536|  2022|              5|      F|              1|          2|               1|              1|              2|        1|       -2|           0|     421.1|     546.0|     498.8|        1|\n",
      "|210055724397|  2022|              6|      M|              1|          3|               1|              1|              2|        1|       -2|           0|     490.7|     388.6|     357.8|        1|\n",
      "|210055097896|  2022|              4|      M|              0|          3|               1|              1|              1|        1|       -2|           0|      -2.0|      -2.0|      -2.0|        0|\n",
      "|210057850231|  2022|              5|      F|              1|          3|               1|              1|              2|        1|       -2|           0|      -2.0|      -2.0|      -2.0|        1|\n",
      "|210056305481|  2022|              4|      M|              1|          2|               1|              1|              2|        1|       -2|           0|      -2.0|      -2.0|      -2.0|        0|\n",
      "|210055778089|  2022|              6|      F|              1|          2|               1|              1|              0|        1|       -2|           0|     398.1|     427.3|     400.2|        1|\n",
      "|210057252239|  2022|              8|      F|              1|          3|               1|              1|              0|        1|       -2|           0|      -2.0|      -2.0|      -2.0|        1|\n",
      "|210055461467|  2022|              4|      F|              1|          3|               1|              1|              1|        1|       -2|           0|     467.5|     461.0|     466.7|        1|\n",
      "|210055665589|  2022|              4|      F|              1|          3|               1|              1|              2|        1|       -2|           0|      -2.0|      -2.0|      -2.0|        1|\n",
      "|210054972570|  2022|              2|      F|              1|          1|               1|              2|              0|        3|        1|           0|     458.7|     539.8|     488.2|        1|\n",
      "|210055449344|  2022|              4|      M|              1|          2|               1|              1|              1|        1|       -2|           0|      -2.0|      -2.0|      -2.0|        1|\n",
      "|210057944037|  2022|              6|      F|              1|          3|               1|              1|              0|        1|       -2|           0|      -2.0|      -2.0|      -2.0|        1|\n",
      "|210054861834|  2022|              7|      M|              1|          2|               2|              1|              3|        1|       -2|           0|      -2.0|      -2.0|      -2.0|        1|\n",
      "|210055201589|  2022|              8|      F|              1|          3|               1|              2|              0|        2|        1|           0|      -2.0|      -2.0|      -2.0|        1|\n",
      "|210056844882|  2022|              5|      F|              1|          2|               1|              1|              0|        1|       -2|           0|      -2.0|      -2.0|      -2.0|        0|\n",
      "|210056065100|  2022|              2|      F|              1|          3|               1|              3|              0|        1|       -2|           1|     396.8|     528.7|     551.4|        0|\n",
      "|210057551883|  2022|              8|      F|              1|          2|               1|              1|              5|        1|       -2|           0|     481.4|     603.6|     589.0|        1|\n",
      "|210054722657|  2022|              2|      F|              1|          1|               1|              3|              0|        1|       -2|           1|      -2.0|      -2.0|      -2.0|        0|\n",
      "+------------+------+---------------+-------+---------------+-----------+----------------+---------------+---------------+---------+---------+------------+----------+----------+----------+---------+\n",
      "only showing top 20 rows\n",
      "\n"
     ]
    }
   ],
   "source": [
    "dfPreencher.show()"
   ]
  },
  {
   "cell_type": "markdown",
   "id": "1d1ed5ca",
   "metadata": {},
   "source": [
    "# Salvar em SQL \n",
    "Salvar os dados em uma tabela SQL\n"
   ]
  },
  {
   "cell_type": "markdown",
   "id": "0f1deb1f",
   "metadata": {},
   "source": [
    "## Parametrizando a conexão do Banco SQL SERVER"
   ]
  },
  {
   "cell_type": "code",
   "execution_count": 82,
   "id": "9e7396db",
   "metadata": {
    "tags": []
   },
   "outputs": [
    {
     "name": "stdout",
     "output_type": "stream",
     "text": [
      "jdbc:sqlserver://NOTEBOOK-LEO:1433;databaseName=Enem;\n"
     ]
    }
   ],
   "source": [
    "server_name = \"jdbc:sqlserver://NOTEBOOK-LEO:1433\"\n",
    "database_name = \"Enem\"\n",
    "table_name = \"Participantes\"\n",
    "username = \"bi_leonardobo\"\n",
    "password = \"0000\"\n",
    "url = server_name + \";\" + \"databaseName=\" + database_name + \";\"\n",
    "print(url)\n"
   ]
  },
  {
   "cell_type": "code",
   "execution_count": 83,
   "id": "45262d43",
   "metadata": {
    "tags": []
   },
   "outputs": [],
   "source": [
    "# Nome da nova tabela que será criada\n",
    "nomeTabela = 'Participantes'"
   ]
  },
  {
   "cell_type": "code",
   "execution_count": 84,
   "id": "b714419b-0c97-4b3a-a10b-08a39a11f1e7",
   "metadata": {
    "tags": []
   },
   "outputs": [
    {
     "name": "stdout",
     "output_type": "stream",
     "text": [
      "+------------+------+---------------+-------+---------------+-----------+----------------+---------------+---------------+---------+---------+------------+--------------+--------------+--------------+--------------+-----------+-----------+-----------+-----------+----------+----------+----------+----------+--------------------+--------------------+--------------------+--------------------+---------+--------------------+--------------------+--------------------+--------------------+\n",
      "|NU_INSCRICAO|NU_ANO|TP_FAIXA_ETARIA|TP_SEXO|TP_ESTADO_CIVIL|TP_COR_RACA|TP_NACIONALIDADE|TP_ST_CONCLUSAO|TP_ANO_CONCLUIU|TP_ESCOLA|TP_ENSINO|IN_TREINEIRO|TP_PRESENCA_CN|TP_PRESENCA_CH|TP_PRESENCA_LC|TP_PRESENCA_MT|CO_PROVA_CN|CO_PROVA_CH|CO_PROVA_LC|CO_PROVA_MT|NU_NOTA_CN|NU_NOTA_CH|NU_NOTA_LC|NU_NOTA_MT|     TX_RESPOSTAS_CN|     TX_RESPOSTAS_CH|     TX_RESPOSTAS_LC|     TX_RESPOSTAS_MT|TP_LINGUA|      TX_GABARITO_CN|      TX_GABARITO_CH|      TX_GABARITO_LC|      TX_GABARITO_MT|\n",
      "+------------+------+---------------+-------+---------------+-----------+----------------+---------------+---------------+---------+---------+------------+--------------+--------------+--------------+--------------+-----------+-----------+-----------+-----------+----------+----------+----------+----------+--------------------+--------------------+--------------------+--------------------+---------+--------------------+--------------------+--------------------+--------------------+\n",
      "|210055148108|  2022|             12|      F|              2|          3|               1|              1|             16|        1|       -2|           0|             1|             1|             1|             1|       1088|       1058|       1067|       1077|     469.4|     366.9|     343.9|     435.1|BCBCBABCADECECDDB...|CBEDCEEAECAEDADCD...|BCDEDBCDCCACDDEEB...|BACBDDDADCABCEDCA...|        0|DDCBBCCDDAADBAABE...|CEDAAADBAECBCDDAD...|CDBEDACDEACAABDBD...|CCCCBXCBABECBEABD...|\n",
      "|210054848938|  2022|             11|      M|              1|          3|               1|              1|              7|        1|       -2|           0|             1|             1|             1|             1|       1087|       1056|       1066|       1078|     439.9|     325.2|     451.8|     476.9|DABDCBABCDEEACBAA...|CEEAAEABCEABABEAB...|ACEDADEBCACADAEDE...|ACEBECABAEEAEACBC...|        1|DDECDBEACCAEBEAEB...|ECBABCDDAAECBCBEC...|DECDBDCEAADDBCABE...|BEEDAEABDDCEBDBAA...|\n",
      "|210056758205|  2022|              1|      F|              1|          1|               1|              3|              0|        1|       -2|           1|             1|             1|             1|             1|       1085|       1057|       1068|       1075|     395.4|     496.8|     493.1|     376.2|EECBAACBDDBDEDBEA...|ACCAAAEDDADCCCECA...|DDEDBCCCDEBBEACBA...|CDDBCEAADCBCEDBDC...|        0|ADBADABEABCEEEACC...|CBECABBCDEACDCEDA...|BDECDAADCECCCDCCE...|ECDABEBDCEECDBDCC...|\n",
      "|210057644683|  2022|              5|      F|              1|          3|               1|              1|              2|        1|       -2|           0|             1|             1|             1|             1|       1088|       1058|       1067|       1077|     393.8|     475.9|     420.8|     541.0|DACBABDAEABBCBCEC...|AECDAEACDEBEBCEAC...|EBBAECCBDDBEADBAD...|DADABAEAEAECBEACE...|        0|DDCBBCCDDAADBAABE...|CEDAAADBAECBCDDAD...|CDBEDACDEACAABDBD...|CCCCBXCBABECBEABD...|\n",
      "|210057857984|  2022|             14|      M|              3|          3|               1|              1|             16|        1|       -2|           0|             1|             1|             1|             1|       1086|       1055|       1065|       1076|     552.9|     591.2|     559.4|     689.3|EEBCBEBEBACAAABDB...|AEABCCDBDDADECCEB...|DBBBEEAEAAADBDEAB...|CBCCACDBEEACDBBDC...|        0|EACDDEBEACCCDABCE...|DEABEEDAEBAAECBEC...|DCBDEEDCAAEAAACAB...|DBAAACEBEDAECCBEC...|\n",
      "|210055346072|  2022|              4|      F|              1|          1|               1|              1|              2|        1|       -2|           0|             1|             1|             1|             1|       1085|       1057|       1068|       1075|     504.4|     617.0|     672.1|     715.4|BDCBBEBCAABACEBDA...|BBACEDDEDECCDAECA...|BDECDCCCDACDBADBB...|BCDCDCACDEBADECBC...|        0|ADBADABEABCEEEACC...|CBECABBCDEACDCEDA...|BDECDAADCECCCDCCE...|ECDABEBDCEECDBDCC...|\n",
      "|210054616680|  2022|             10|      F|              2|          3|               1|              2|              0|        2|        1|           0|             0|             1|             1|             0|         -2|       1058|       1067|         -2|      -2.0|     491.3|     511.0|      -2.0|                null|BBDDCAECDDBAAEBAC...|CEDEACEBCABDBDAEA...|                null|        0|                null|CEDAAADBAECBCDDAD...|CDBEDACDEACAABDBD...|                null|\n",
      "|210055706695|  2022|              2|      F|              1|          2|               1|              3|              0|        1|       -2|           1|             1|             1|             1|             1|       1087|       1056|       1066|       1078|     398.3|     483.9|     556.0|     492.7|ABDBBCACCABDEABED...|DBBABADECAEBBBCEA...|DEDDBDDBCADACCEAA...|CAEDACCECEADBBECA...|        1|DDECDBEACCAEBEAEB...|ECBABCDDAAECBCBEC...|DECDBDCEAADDBCABE...|BEEDAEABDDCEBDBAA...|\n",
      "|210054587191|  2022|             11|      M|              0|          1|               1|              1|             13|        1|       -2|           0|             1|             1|             1|             1|       1087|       1056|       1066|       1078|     494.2|     506.2|     510.3|     714.6|ABEDCCABADABCBEED...|EBEBBADDCDACCBACD...|ACEBACDDCADABEAAC...|BAECACADDBCEBBBAB...|        1|DDECDBEACCAEBEAEB...|ECBABCDDAAECBCBEC...|DECDBDCEAADDBCABE...|BEEDAEABDDCEBDBAA...|\n",
      "|210057231412|  2022|              7|      F|              2|          3|               1|              1|              0|        1|       -2|           0|             0|             0|             0|             0|         -2|         -2|         -2|         -2|      -2.0|      -2.0|      -2.0|      -2.0|                null|                null|                null|                null|        1|                null|                null|                null|                null|\n",
      "|210057825825|  2022|              8|      F|              1|          3|               1|              1|              5|        1|       -2|           0|             1|             1|             1|             1|       1085|       1057|       1068|       1075|     509.1|     551.7|     533.5|     508.0|ADDEBCCAABEDBDBBD...|DADCEBBCDCDCECBAA...|DDCCECCEDACCBACDA...|DDBCECEDBCCEECBED...|        0|ADBADABEABCEEEACC...|CBECABBCDEACDCEDA...|BDECDAADCECCCDCCE...|ECDABEBDCEECDBDCC...|\n",
      "|210057264281|  2022|              5|      F|              1|          1|               1|              1|              3|        1|       -2|           0|             1|             1|             1|             1|       1189|       1178|       1182|       1185|     508.3|     633.7|     601.2|     634.2|CACBCCADEAEDCDDBB...|CDCAAAEBEBCBBDDAA...|CDBDDBAABDEDBDEAA...|BCBBBDEBEAACBAAAD...|        0|DDCBBCCDDAADBAABE...|CEDAAADBAECBCDDAD...|CDBEDACDEACAABDBD...|CCCCBXCBABECBEABD...|\n",
      "|210054499326|  2022|              7|      F|              1|          1|               1|              1|              5|        1|       -2|           0|             1|             1|             1|             1|       1087|       1056|       1066|       1078|     543.0|     623.9|     567.5|     521.2|EDABDBEBCCBACAADB...|EBDCBCDDBDECBBBAC...|DECDBEDDCACACACEA...|CAEBABABDCBDCBADB...|        0|DDECDBEACCAEBEAEB...|ECBABCDDAAECBCBEC...|DECDBDCEAADDBCABE...|BEEDAEABDDCEBDBAA...|\n",
      "|210055800853|  2022|              3|      M|              1|          3|               1|              2|              0|        2|        1|           0|             1|             1|             1|             1|       1085|       1057|       1068|       1075|     468.0|     499.3|     471.3|     473.4|CBCDDEBACBCBBBABA...|CEAECEDCCCDBBBEDC...|ACABEBCBDBAD*ECAB...|DBDBABCDCACCBBDAC...|        1|ADBADABEABCEEEACC...|CBECABBCDEACDCEDA...|BDECDAADCECCCDCCE...|ECDABEBDCEECDBDCC...|\n",
      "|210057553889|  2022|              4|      F|              1|          3|               1|              1|              1|        1|       -2|           0|             1|             1|             1|             1|       1085|       1057|       1068|       1075|     485.6|     561.6|     528.0|     494.6|ACCAAEDCEAEBCEBBA...|BBECEBBECCACADADA...|ABCCECCBDACAAECDB...|BCBBDABBAAEB.ACCE...|        1|ADBADABEABCEEEACC...|CBECABBCDEACDCEDA...|BDECDAADCECCCDCCE...|ECDABEBDCEECDBDCC...|\n",
      "|210057404863|  2022|              4|      F|              1|          1|               1|              1|              1|        1|       -2|           0|             1|             1|             1|             1|       1085|       1057|       1068|       1075|     487.6|     518.9|     606.6|     620.3|EBCBCBCAEABEDADDB...|DCBBCBEADBDCAAECD...|AADAECCADCBADBCBB...|BCDCDBBDACDCADCCD...|        1|ADBADABEABCEEEACC...|CBECABBCDEACDCEDA...|BDECDAADCECCCDCCE...|ECDABEBDCEECDBDCC...|\n",
      "|210055619489|  2022|              3|      M|              1|          1|               1|              1|              1|        1|       -2|           0|             1|             1|             1|             1|       1088|       1058|       1067|       1077|     486.9|     572.6|     571.2|     579.8|CDDDCDCEEAABDABAA...|ABCAAECCDEAABCDBA...|ACDEADDAADBDDEAEA...|AADBAAEAEDADADACD...|        1|DDCBBCCDDAADBAABE...|CEDAAADBAECBCDDAD...|CDBEDACDEACAABDBD...|CCCCBXCBABECBEABD...|\n",
      "|210056262715|  2022|              8|      F|              2|          3|               1|              1|              5|        1|       -2|           0|             1|             1|             1|             1|       1086|       1055|       1065|       1076|     580.7|     634.2|     625.8|     586.1|EACAEEBCACBCCCBBB...|DEACCEDADBADBBBEC...|EAEAAECAABABBDEEB...|ABBCABACEDACBDADC...|        1|EACDDEBEACCCDABCE...|DEABEEDAEBAAECBEC...|DCBDEEDCAAEAAACAB...|DBAAACEBEDAECCBEC...|\n",
      "|210057779128|  2022|              2|      F|              1|          3|               1|              2|              0|        2|        1|           0|             0|             0|             0|             0|         -2|         -2|         -2|         -2|      -2.0|      -2.0|      -2.0|      -2.0|                null|                null|                null|                null|        1|                null|                null|                null|                null|\n",
      "|210055618051|  2022|              3|      M|              1|          3|               1|              1|              1|        1|       -2|           0|             0|             0|             0|             0|         -2|         -2|         -2|         -2|      -2.0|      -2.0|      -2.0|      -2.0|                null|                null|                null|                null|        0|                null|                null|                null|                null|\n",
      "|210056733685|  2022|             12|      M|              2|          2|               1|              1|              8|        1|       -2|           0|             0|             0|             0|             0|         -2|         -2|         -2|         -2|      -2.0|      -2.0|      -2.0|      -2.0|                null|                null|                null|                null|        0|                null|                null|                null|                null|\n",
      "|210056651710|  2022|              3|      M|              1|          3|               1|              2|              0|        2|        1|           0|             0|             0|             0|             0|         -2|         -2|         -2|         -2|      -2.0|      -2.0|      -2.0|      -2.0|                null|                null|                null|                null|        0|                null|                null|                null|                null|\n",
      "|210057199597|  2022|             14|      F|              1|          1|               1|              1|             16|        1|       -2|           0|             0|             0|             0|             0|         -2|         -2|         -2|         -2|      -2.0|      -2.0|      -2.0|      -2.0|                null|                null|                null|                null|        1|                null|                null|                null|                null|\n",
      "|210057976605|  2022|              7|      F|              1|          3|               1|              1|              2|        1|       -2|           0|             1|             1|             1|             1|       1086|       1055|       1065|       1076|     462.3|     479.1|     532.5|     382.9|ACBDCEBACBDAEECCB...|DAACABAAEEBECADDA...|DDDDCEBBABAADDEDE...|DDAECDCEDCBEBCABD...|        0|EACDDEBEACCCDABCE...|DEABEEDAEBAAECBEC...|DCBDEEDCAAEAAACAB...|DBAAACEBEDAECCBEC...|\n",
      "|210056674588|  2022|              2|      M|              1|          1|               1|              2|              0|        3|        1|           0|             1|             1|             1|             1|       1086|       1055|       1065|       1076|     554.9|     617.3|     468.3|     687.1|DADCDECABCCDDABDA...|DEACEEDBEDAAECBEC...|DBBCECBAACDCEBEEA...|BAEAACDBECACBCBDE...|        0|EACDDEBEACCCDABCE...|DEABEEDAEBAAECBEC...|DCBDEEDCAAEAAACAB...|DBAAACEBEDAECCBEC...|\n",
      "|210055058683|  2022|              3|      M|              0|          1|               1|              1|              1|        1|       -2|           0|             1|             1|             1|             1|       1088|       1058|       1067|       1077|     590.2|     619.1|     579.2|     633.4|BBCCEDCEDABDCDEDC...|CECAAADDCECEADDDC...|CDBEDCEEBABDDCCAA...|DCBCBDCCCEDDBBDDD...|        0|DDCBBCCDDAADBAABE...|CEDAAADBAECBCDDAD...|CDBEDACDEACAABDBD...|CCCCBXCBABECBEABD...|\n",
      "|210055678506|  2022|              5|      F|              1|          3|               1|              1|              2|        1|       -2|           0|             1|             1|             1|             1|       1087|       1056|       1066|       1078|     550.5|     564.0|     540.7|     383.2|ADECCBDBBC*.DBAAB...|EDACBCCDCDDBBCBAC...|DEDBBDDBCDDCEBDEB...|CECEBCEACCBBECBDC...|        0|DDECDBEACCAEBEAEB...|ECBABCDDAAECBCBEC...|DECDBDCEAADDBCABE...|BEEDAEABDDCEBDBAA...|\n",
      "|210056052075|  2022|              3|      F|              1|          1|               1|              1|              1|        1|       -2|           0|             1|             1|             1|             1|       1087|       1056|       1066|       1078|     504.4|     568.8|     531.6|     573.3|DCCDCCADEAAEDACBB...|BCDABBDDADEBBDBEC...|DAEAADCBCACBEECAE...|BAEAACEBDAABCEDCC...|        1|DDECDBEACCAEBEAEB...|ECBABCDDAAECBCBEC...|DECDBDCEAADDBCABE...|BEEDAEABDDCEBDBAA...|\n",
      "|210057295925|  2022|              6|      F|              1|          3|               1|              1|              4|        1|       -2|           0|             1|             1|             1|             1|       1087|       1056|       1066|       1078|     635.1|     696.2|     683.5|     821.2|CBDCDCEDDCACBEDBD...|EAADBCDDAADCBCBBC...|DCEAAEDBCAEADCAAA...|BBEDAEACDABEBDBAA...|        1|DDECDBEACCAEBEAEB...|ECBABCDDAAECBCBEC...|DECDBDCEAADDBCABE...|BEEDAEABDDCEBDBAA...|\n",
      "|210057767337|  2022|              4|      M|              1|          1|               1|              1|              2|        1|       -2|           0|             1|             1|             1|             1|       1086|       1055|       1065|       1076|     540.5|     590.8|     615.4|     641.6|DAEEBBBAAADCCAADA...|AEACCDDADDAEEBBEC...|EDAAAEABAECBBDBEB...|DBBCECCBECECBCCBA...|        1|EACDDEBEACCCDABCE...|DEABEEDAEBAAECBEC...|DCBDEEDCAAEAAACAB...|DBAAACEBEDAECCBEC...|\n",
      "|210056429798|  2022|              2|      F|              1|          3|               1|              2|              0|        2|        1|           0|             1|             1|             1|             1|       1086|       1055|       1065|       1076|     576.2|     601.4|     571.3|     621.2|ECBABECABDCCDABEE...|DEABEEDAEDADDCAEC...|EDCAACDDABEBBDBCB...|CCCCACCBDAACBBBBC...|        1|EACDDEBEACCCDABCE...|DEABEEDAEBAAECBEC...|DCBDEEDCAAEAAACAB...|DBAAACEBEDAECCBEC...|\n",
      "|210056085639|  2022|              3|      M|              1|          1|               1|              2|              0|        2|        1|           0|             0|             0|             0|             0|         -2|         -2|         -2|         -2|      -2.0|      -2.0|      -2.0|      -2.0|                null|                null|                null|                null|        1|                null|                null|                null|                null|\n",
      "|210054519596|  2022|             13|      M|              1|          3|               1|              1|             16|        1|       -2|           0|             0|             0|             0|             0|         -2|         -2|         -2|         -2|      -2.0|      -2.0|      -2.0|      -2.0|                null|                null|                null|                null|        1|                null|                null|                null|                null|\n",
      "|210057573514|  2022|              4|      F|              1|          3|               1|              1|              1|        1|       -2|           0|             0|             0|             0|             0|         -2|         -2|         -2|         -2|      -2.0|      -2.0|      -2.0|      -2.0|                null|                null|                null|                null|        0|                null|                null|                null|                null|\n",
      "|210057389823|  2022|              3|      F|              1|          3|               1|              1|              1|        1|       -2|           0|             0|             0|             0|             0|         -2|         -2|         -2|         -2|      -2.0|      -2.0|      -2.0|      -2.0|                null|                null|                null|                null|        0|                null|                null|                null|                null|\n",
      "|210055015257|  2022|              2|      F|              1|          5|               1|              2|              0|        2|        1|           0|             0|             0|             0|             0|         -2|         -2|         -2|         -2|      -2.0|      -2.0|      -2.0|      -2.0|                null|                null|                null|                null|        1|                null|                null|                null|                null|\n",
      "|210056577777|  2022|              3|      F|              1|          1|               1|              2|              0|        2|        1|           0|             1|             1|             1|             1|       1086|       1055|       1065|       1076|     489.8|     515.0|     523.1|     596.9|CBDDBECDABDACCDDB...|CAADBDABEEABDCBBB...|DCBDEDBBAEABCDBBD...|DACCBCBEECACADBCD...|        0|EACDDEBEACCCDABCE...|DEABEEDAEBAAECBEC...|DCBDEEDCAAEAAACAB...|DBAAACEBEDAECCBEC...|\n",
      "|210055258989|  2022|              2|      M|              1|          3|               1|              3|              0|        1|       -2|           1|             1|             1|             1|             1|       1088|       1058|       1067|       1077|     418.7|     508.2|     443.0|     574.2|DBDABCCECBDBEBCCA...|DBDAAEEDCBABADDDE...|BEBCCDAEBDBCBBABD...|BEDDCADEBBCCBDACA...|        0|DDCBBCCDDAADBAABE...|CEDAAADBAECBCDDAD...|CDBEDACDEACAABDBD...|CCCCBXCBABECBEABD...|\n",
      "|210057944911|  2022|              3|      F|              1|          1|               1|              2|              0|        2|        1|           0|             1|             1|             1|             1|       1085|       1057|       1068|       1075|     509.9|     453.9|     514.3|     490.5|EECABDAEABDDBEACE...|EACCBEEADCABECBDB...|EEDDDCCEDAACBDCEA...|CDEAAECBCCCEDDBCD...|        0|ADBADABEABCEEEACC...|CBECABBCDEACDCEDA...|BDECDAADCECCCDCCE...|ECDABEBDCEECDBDCC...|\n",
      "|210054578866|  2022|              6|      F|              1|          1|               1|              1|              3|        1|       -2|           0|             1|             1|             1|             1|       1086|       1055|       1065|       1076|     523.5|     632.1|     623.9|     760.9|ECBACACAAADCCAACD...|DEABEEDADDADEBBEB...|EACAAECBACABBDBEB...|DBAAACEBECADCCABC...|        1|EACDDEBEACCCDABCE...|DEABEEDAEBAAECBEC...|DCBDEEDCAAEAAACAB...|DBAAACEBEDAECCBEC...|\n",
      "+------------+------+---------------+-------+---------------+-----------+----------------+---------------+---------------+---------+---------+------------+--------------+--------------+--------------+--------------+-----------+-----------+-----------+-----------+----------+----------+----------+----------+--------------------+--------------------+--------------------+--------------------+---------+--------------------+--------------------+--------------------+--------------------+\n",
      "only showing top 40 rows\n",
      "\n",
      "14305911\n"
     ]
    }
   ],
   "source": [
    "#Conectando via jdbc\n",
    "#No método option, foi necessário passar os argumentos ssl e trustservercertificate como true, por se tratar de um banco local sem SSL.\n",
    "try:\n",
    "  jdbcDF = spark.read \\\n",
    "        .format(\"jdbc\") \\\n",
    "        .option(\"url\", url) \\\n",
    "        .option(\"driver\",\"com.microsoft.sqlserver.jdbc.SQLServerDriver\")\\\n",
    "        .option(\"ssl\", \"true\")\\\n",
    "        .option(\"trustServerCertificate\", \"true\")\\\n",
    "        .option(\"dbtable\", table_name) \\\n",
    "        .option(\"user\", username) \\\n",
    "        .option(\"password\", password).load()\n",
    "  \n",
    "  jdbcDF.show(40)\n",
    "  print(jdbcDF.count())\n",
    "except ValueError as error :\n",
    "    print(\"Connector write failed\", error)\n"
   ]
  },
  {
   "cell_type": "code",
   "execution_count": 85,
   "id": "6f3a8e0f-907e-4a25-aee7-793eac934db9",
   "metadata": {
    "tags": []
   },
   "outputs": [],
   "source": [
    "# Configurações do banco de dados\n",
    "server_name = \"NOTEBOOK-LEO\\\\SQLEXPRESS\"\n",
    " \n",
    "# Conecte-se ao banco de dados usando pyodbc\n",
    "conn = pyodbc.connect(f\"Driver={{SQL Server}};Server={server_name};Database={database_name};UID={username};PWD={password}\")\n",
    "\n",
    "# Crie um cursor\n",
    "cursor = conn.cursor()\n",
    "\n",
    "# Execute a operação DROP TABLE na tabela 'Participantes'\n",
    "truncate_query = \"DROP TABLE dbo.Participantes\"\n",
    "cursor.execute(truncate_query)\n",
    "\n",
    "# Commit as alterações no banco de dados\n",
    "conn.commit()"
   ]
  },
  {
   "cell_type": "code",
   "execution_count": 86,
   "id": "5e87ccad-a1e1-47ef-acc7-dfd6bfc677c8",
   "metadata": {
    "tags": []
   },
   "outputs": [],
   "source": [
    "# Escreva os novos dados em 'Participantes' usando a conexão JDBC\n",
    "dfPreencher.write \\\n",
    "        .format(\"jdbc\") \\\n",
    "        .option(\"url\", url) \\\n",
    "        .option(\"driver\",\"com.microsoft.sqlserver.jdbc.SQLServerDriver\")\\\n",
    "        .option(\"ssl\", \"true\")\\\n",
    "        .option(\"trustServerCertificate\", \"true\")\\\n",
    "        .option(\"dbtable\", table_name) \\\n",
    "        .option(\"user\", username) \\\n",
    "        .option(\"password\", password)\\\n",
    "        .option(\"SaveMode\", \"overWrite\").save()\n",
    "  \n"
   ]
  },
  {
   "cell_type": "code",
   "execution_count": 87,
   "id": "dafe0615",
   "metadata": {
    "tags": []
   },
   "outputs": [
    {
     "name": "stdout",
     "output_type": "stream",
     "text": [
      "Tabela Participantes criada com sucesso no banco de dados.\n"
     ]
    }
   ],
   "source": [
    "print(f'Tabela {nomeTabela} criada com sucesso no banco de dados.')\n"
   ]
  },
  {
   "cell_type": "code",
   "execution_count": 88,
   "id": "6de4ad95-23a6-45f1-af4d-d657f218bd8f",
   "metadata": {},
   "outputs": [],
   "source": [
    "spark.stop()"
   ]
  }
 ],
 "metadata": {
  "kernelspec": {
   "display_name": "Python 3 (ipykernel)",
   "language": "python",
   "name": "python3"
  },
  "language_info": {
   "codemirror_mode": {
    "name": "ipython",
    "version": 3
   },
   "file_extension": ".py",
   "mimetype": "text/x-python",
   "name": "python",
   "nbconvert_exporter": "python",
   "pygments_lexer": "ipython3",
   "version": "3.11.3"
  }
 },
 "nbformat": 4,
 "nbformat_minor": 5
}
