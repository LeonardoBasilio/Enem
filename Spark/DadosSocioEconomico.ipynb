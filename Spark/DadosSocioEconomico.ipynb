{
 "cells": [
  {
   "cell_type": "markdown",
   "id": "a31e718b-14d9-4751-9dec-71f56129a085",
   "metadata": {},
   "source": [
    "## Importação das Bibiliotecas"
   ]
  },
  {
   "cell_type": "code",
   "execution_count": 1,
   "id": "cc20c5a9-44d0-4ee3-ac2c-0f588099a1c7",
   "metadata": {
    "tags": []
   },
   "outputs": [],
   "source": [
    "from pyspark.sql import SparkSession\n",
    "import pandas as pd\n",
    "from sqlalchemy import create_engine\n",
    "import pyodbc"
   ]
  },
  {
   "cell_type": "markdown",
   "id": "a92050d4",
   "metadata": {},
   "source": [
    "## Criando uma SparkSession"
   ]
  },
  {
   "cell_type": "code",
   "execution_count": 2,
   "id": "137c301b-7b56-434b-bd08-979c6717af70",
   "metadata": {},
   "outputs": [],
   "source": [
    "spark = SparkSession.builder.appName(\"LerDadosEnem\").getOrCreate()\n"
   ]
  },
  {
   "cell_type": "markdown",
   "id": "1a8ed9e6-77de-42fb-96ed-d1b23d0251a4",
   "metadata": {},
   "source": [
    "## Processo de Leitura do CSV de Participantes\n"
   ]
  },
  {
   "cell_type": "code",
   "execution_count": 6,
   "id": "158e76e5",
   "metadata": {},
   "outputs": [],
   "source": [
    "arqEnem = 'E:\\Estudos\\SQL\\Datasets\\microdados_enem_2022\\DADOS\\MICRODADOS_ENEM_2022.csv'\n",
    "\n",
    "dfDadosGerais = spark.read.csv(arqEnem, sep=';', header=True, inferSchema=True, encoding='ISO-8859-1')\n"
   ]
  },
  {
   "cell_type": "code",
   "execution_count": 9,
   "id": "326d8fa5",
   "metadata": {},
   "outputs": [],
   "source": [
    "dfDadosSocioEconomico = dfDadosGerais.select(dfDadosGerais.columns[51:76])"
   ]
  },
  {
   "cell_type": "code",
   "execution_count": 10,
   "id": "8b889869-4d51-4802-9259-f27d6fb5db0b",
   "metadata": {
    "tags": []
   },
   "outputs": [
    {
     "name": "stdout",
     "output_type": "stream",
     "text": [
      "+----+----+----+----+----+----+----+----+----+----+----+----+----+----+----+----+----+----+----+----+----+----+----+----+----+\n",
      "|Q001|Q002|Q003|Q004|Q005|Q006|Q007|Q008|Q009|Q010|Q011|Q012|Q013|Q014|Q015|Q016|Q017|Q018|Q019|Q020|Q021|Q022|Q023|Q024|Q025|\n",
      "+----+----+----+----+----+----+----+----+----+----+----+----+----+----+----+----+----+----+----+----+----+----+----+----+----+\n",
      "|   A|   A|   A|   B|   3|   B|   B|   B|   B|   B|   B|   B|   A|   B|   B|   B|   A|   A|   A|   A|   A|   A|   A|   A|   A|\n",
      "|   D|   D|   E|   E|   3|   Q|   D|   E|   E|   E|   E|   E|   E|   E|   E|   E|   E|   B|   E|   B|   B|   E|   B|   E|   B|\n",
      "|   E|   F|   A|   D|   2|   B|   A|   B|   C|   A|   A|   B|   B|   A|   A|   A|   A|   A|   A|   A|   A|   C|   A|   A|   B|\n",
      "|   C|   A|   A|   B|   3|   A|   A|   C|   D|   A|   A|   B|   A|   B|   A|   B|   A|   A|   C|   A|   A|   C|   B|   B|   B|\n",
      "|   D|   B|   A|   B|   2|   B|   A|   B|   B|   A|   A|   B|   A|   A|   A|   A|   A|   A|   A|   A|   A|   B|   A|   A|   A|\n",
      "|   E|   C|   B|   B|   4|   C|   A|   C|   C|   A|   A|   B|   B|   B|   A|   B|   A|   A|   C|   A|   B|   D|   A|   A|   B|\n",
      "|   B|   B|   B|   B|   3|   B|   A|   B|   D|   A|   A|   B|   A|   A|   A|   A|   A|   A|   C|   A|   A|   C|   A|   A|   B|\n",
      "|   E|   E|   B|   B|   5|   B|   A|   B|   C|   B|   A|   C|   B|   A|   A|   B|   A|   A|   C|   A|   A|   E|   A|   A|   B|\n",
      "|   A|   D|   A|   A|   5|   B|   A|   B|   C|   A|   A|   B|   A|   A|   A|   A|   A|   A|   B|   A|   A|   B|   A|   A|   B|\n",
      "|   E|   E|   B|   B|   2|   B|   A|   B|   B|   A|   A|   B|   A|   A|   A|   A|   A|   A|   B|   A|   A|   B|   A|   A|   B|\n",
      "|   E|   B|   A|   A|   5|   A|   A|   B|   C|   A|   A|   B|   A|   A|   A|   A|   A|   A|   B|   A|   A|   B|   A|   A|   B|\n",
      "|   E|   E|   B|   A|   4|   B|   A|   B|   C|   A|   B|   B|   A|   A|   A|   A|   A|   A|   B|   A|   A|   C|   A|   A|   B|\n",
      "|   D|   B|   F|   A|   2|   B|   A|   B|   B|   A|   A|   B|   A|   A|   A|   A|   A|   A|   B|   A|   A|   B|   A|   B|   B|\n",
      "|   C|   E|   C|   D|   4|   C|   A|   B|   B|   A|   A|   B|   A|   A|   A|   B|   A|   A|   B|   A|   A|   D|   A|   A|   B|\n",
      "|   E|   E|   B|   B|   3|   C|   A|   B|   C|   A|   B|   B|   A|   B|   B|   B|   A|   A|   B|   A|   B|   C|   A|   B|   B|\n",
      "|   B|   C|   B|   B|   2|   B|   A|   B|   B|   A|   A|   B|   A|   A|   A|   A|   A|   A|   B|   A|   A|   C|   A|   A|   B|\n",
      "|   A|   D|   B|   B|   4|   B|   A|   B|   C|   A|   A|   B|   A|   A|   A|   A|   A|   A|   B|   A|   A|   B|   A|   A|   B|\n",
      "|   G|   F|   F|   F|   2|   B|   A|   B|   C|   B|   A|   B|   A|   B|   A|   B|   A|   A|   B|   A|   A|   C|   B|   B|   B|\n",
      "|   B|   F|   A|   D|   6|   B|   A|   B|   E|   B|   B|   B|   A|   B|   A|   A|   A|   A|   B|   A|   A|   D|   A|   A|   B|\n",
      "|   D|   B|   F|   D|   5|   D|   D|   C|   D|   B|   B|   B|   A|   B|   A|   B|   A|   A|   C|   B|   B|   E|   A|   A|   B|\n",
      "+----+----+----+----+----+----+----+----+----+----+----+----+----+----+----+----+----+----+----+----+----+----+----+----+----+\n",
      "only showing top 20 rows\n",
      "\n"
     ]
    }
   ],
   "source": [
    "dfDadosSocioEconomico.show()"
   ]
  },
  {
   "cell_type": "code",
   "execution_count": 11,
   "id": "a0ddb3df",
   "metadata": {},
   "outputs": [],
   "source": [
    "dfPreencher = dfDadosSocioEconomico.fillna(-2)  # Preenche com -2(sem ref), por exemplo\n"
   ]
  },
  {
   "cell_type": "markdown",
   "id": "1d1ed5ca",
   "metadata": {},
   "source": [
    "# Salvar em SQL \n",
    "Salvar os dados em uma tabela SQL\n"
   ]
  },
  {
   "cell_type": "markdown",
   "id": "0f1deb1f",
   "metadata": {},
   "source": [
    "## Parametrizando a conexão do Banco SQL SERVER Usando JDBC"
   ]
  },
  {
   "cell_type": "code",
   "execution_count": 12,
   "id": "9e7396db",
   "metadata": {},
   "outputs": [
    {
     "name": "stdout",
     "output_type": "stream",
     "text": [
      "jdbc:sqlserver://NOTEBOOK-LEO:1433;databaseName=Enem;\n"
     ]
    }
   ],
   "source": [
    "server_name = \"jdbc:sqlserver://NOTEBOOK-LEO:1433\"\n",
    "database_name = \"Enem\"\n",
    "table_name = \"SocioEconomico\"\n",
    "username = \"bi_leonardobo\"\n",
    "password = \"0000\"\n",
    "url = server_name + \";\" + \"databaseName=\" + database_name + \";\"\n",
    "print(url)\n"
   ]
  },
  {
   "cell_type": "code",
   "execution_count": 13,
   "id": "45262d43",
   "metadata": {},
   "outputs": [],
   "source": [
    "# Nome da nova tabela que será criada\n",
    "nomeTabela = table_name"
   ]
  },
  {
   "cell_type": "code",
   "execution_count": 14,
   "id": "6f3a8e0f-907e-4a25-aee7-793eac934db9",
   "metadata": {
    "tags": []
   },
   "outputs": [],
   "source": [
    "# Configurações do banco de dados em ODBC para dropar\n",
    "server_name = \"NOTEBOOK-LEO\\\\SQLEXPRESS\"\n",
    " \n",
    "# Conecte-se ao banco de dados usando pyodbc\n",
    "conn = pyodbc.connect(f\"Driver={{SQL Server}};Server={server_name};Database={database_name};UID={username};PWD={password}\")\n",
    "\n",
    "# Crie um cursor\n",
    "cursor = conn.cursor()\n",
    "\n",
    "# Execute a operação DROP TABLE na tabela 'Participantes'\n",
    "truncate_query = f\"IF OBJECT_ID('{table_name}', 'U') IS NOT NULL DROP TABLE {table_name}\"\n",
    "cursor.execute(truncate_query)\n",
    "\n",
    "# Commit as alterações no banco de dados\n",
    "conn.commit()"
   ]
  },
  {
   "cell_type": "code",
   "execution_count": 15,
   "id": "5e87ccad-a1e1-47ef-acc7-dfd6bfc677c8",
   "metadata": {
    "tags": []
   },
   "outputs": [],
   "source": [
    "# Escreva os novos dados em 'Participantes' usando a conexão JDBC\n",
    "dfPreencher.write \\\n",
    "        .format(\"jdbc\") \\\n",
    "        .option(\"url\", url) \\\n",
    "        .option(\"driver\",\"com.microsoft.sqlserver.jdbc.SQLServerDriver\")\\\n",
    "        .option(\"ssl\", \"true\")\\\n",
    "        .option(\"trustServerCertificate\", \"true\")\\\n",
    "        .option(\"dbtable\", table_name) \\\n",
    "        .option(\"user\", username) \\\n",
    "        .option(\"password\", password)\\\n",
    "        .option(\"SaveMode\", \"overWrite\").save()\n",
    "  \n"
   ]
  },
  {
   "cell_type": "code",
   "execution_count": 16,
   "id": "dafe0615",
   "metadata": {},
   "outputs": [
    {
     "name": "stdout",
     "output_type": "stream",
     "text": [
      "Tabela SocioEconomico criada com sucesso no banco de dados.\n"
     ]
    }
   ],
   "source": [
    "print(f'Tabela {nomeTabela} criada com sucesso no banco de dados.')\n"
   ]
  }
 ],
 "metadata": {
  "kernelspec": {
   "display_name": "Python 3 (ipykernel)",
   "language": "python",
   "name": "python3"
  },
  "language_info": {
   "codemirror_mode": {
    "name": "ipython",
    "version": 3
   },
   "file_extension": ".py",
   "mimetype": "text/x-python",
   "name": "python",
   "nbconvert_exporter": "python",
   "pygments_lexer": "ipython3",
   "version": "3.10.9"
  }
 },
 "nbformat": 4,
 "nbformat_minor": 5
}
