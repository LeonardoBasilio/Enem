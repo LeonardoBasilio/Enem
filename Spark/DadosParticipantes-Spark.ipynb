{
 "cells": [
  {
   "cell_type": "markdown",
   "id": "0f115781",
   "metadata": {},
   "source": [
    "## Importação das Bibiliotecas"
   ]
  },
  {
   "cell_type": "code",
   "execution_count": 4,
   "id": "b2595d63-db8f-47d8-9b6d-dd142460985a",
   "metadata": {
    "tags": []
   },
   "outputs": [],
   "source": [
    "from pyspark.sql import SparkSession\n",
    "# Crie um SparkSession\n",
    "spark = SparkSession.builder.appName(\"LerDadosEnem\").getOrCreate()\n"
   ]
  },
  {
   "cell_type": "code",
   "execution_count": 5,
   "id": "1849a24f",
   "metadata": {},
   "outputs": [],
   "source": [
    "import pandas as pd\n",
    "from sqlalchemy import create_engine\n",
    "import pymssql"
   ]
  },
  {
   "cell_type": "markdown",
   "id": "a92050d4",
   "metadata": {},
   "source": [
    "## Processo de Leitura do CSV de Provas\n"
   ]
  },
  {
   "cell_type": "code",
   "execution_count": 6,
   "id": "158e76e5",
   "metadata": {},
   "outputs": [],
   "source": [
    "arqEnem = 'E:\\Estudos\\SQL\\Datasets\\microdados_enem_2022\\DADOS\\MICRODADOS_ENEM_2022.csv'\n",
    "\n",
    "dfDadosGerais = spark.read.csv(arqEnem, sep=';', header=True, inferSchema=True, encoding='ISO-8859-1')\n"
   ]
  },
  {
   "cell_type": "code",
   "execution_count": 7,
   "id": "326d8fa5",
   "metadata": {},
   "outputs": [],
   "source": [
    "dfParticipantes = dfDadosGerais.select(dfDadosGerais.columns[:12])"
   ]
  },
  {
   "cell_type": "code",
   "execution_count": 8,
   "id": "cf38d7d8",
   "metadata": {
    "scrolled": true
   },
   "outputs": [
    {
     "name": "stdout",
     "output_type": "stream",
     "text": [
      "+------------+------+---------------+-------+---------------+-----------+----------------+---------------+---------------+---------+---------+------------+\n",
      "|NU_INSCRICAO|NU_ANO|TP_FAIXA_ETARIA|TP_SEXO|TP_ESTADO_CIVIL|TP_COR_RACA|TP_NACIONALIDADE|TP_ST_CONCLUSAO|TP_ANO_CONCLUIU|TP_ESCOLA|TP_ENSINO|IN_TREINEIRO|\n",
      "+------------+------+---------------+-------+---------------+-----------+----------------+---------------+---------------+---------+---------+------------+\n",
      "|210057943671|  2022|             14|      M|              2|          2|               1|              1|              2|        1|     null|           0|\n",
      "|210057516120|  2022|             14|      M|              2|          1|               1|              1|             16|        1|     null|           0|\n",
      "|210057280536|  2022|              5|      F|              1|          2|               1|              1|              2|        1|     null|           0|\n",
      "|210055724397|  2022|              6|      M|              1|          3|               1|              1|              2|        1|     null|           0|\n",
      "|210055097896|  2022|              4|      M|              0|          3|               1|              1|              1|        1|     null|           0|\n",
      "|210057850231|  2022|              5|      F|              1|          3|               1|              1|              2|        1|     null|           0|\n",
      "|210056305481|  2022|              4|      M|              1|          2|               1|              1|              2|        1|     null|           0|\n",
      "|210055778089|  2022|              6|      F|              1|          2|               1|              1|              0|        1|     null|           0|\n",
      "|210057252239|  2022|              8|      F|              1|          3|               1|              1|              0|        1|     null|           0|\n",
      "|210055461467|  2022|              4|      F|              1|          3|               1|              1|              1|        1|     null|           0|\n",
      "|210055665589|  2022|              4|      F|              1|          3|               1|              1|              2|        1|     null|           0|\n",
      "|210054972570|  2022|              2|      F|              1|          1|               1|              2|              0|        3|        1|           0|\n",
      "|210055449344|  2022|              4|      M|              1|          2|               1|              1|              1|        1|     null|           0|\n",
      "|210057944037|  2022|              6|      F|              1|          3|               1|              1|              0|        1|     null|           0|\n",
      "|210054861834|  2022|              7|      M|              1|          2|               2|              1|              3|        1|     null|           0|\n",
      "|210055201589|  2022|              8|      F|              1|          3|               1|              2|              0|        2|        1|           0|\n",
      "|210056844882|  2022|              5|      F|              1|          2|               1|              1|              0|        1|     null|           0|\n",
      "|210056065100|  2022|              2|      F|              1|          3|               1|              3|              0|        1|     null|           1|\n",
      "|210057551883|  2022|              8|      F|              1|          2|               1|              1|              5|        1|     null|           0|\n",
      "|210054722657|  2022|              2|      F|              1|          1|               1|              3|              0|        1|     null|           1|\n",
      "+------------+------+---------------+-------+---------------+-----------+----------------+---------------+---------------+---------+---------+------------+\n",
      "only showing top 20 rows\n",
      "\n"
     ]
    }
   ],
   "source": [
    "dfParticipantes.show()\n"
   ]
  },
  {
   "cell_type": "code",
   "execution_count": 9,
   "id": "a0ddb3df",
   "metadata": {},
   "outputs": [],
   "source": [
    "dfPreencher = dfParticipantes.fillna(-2)  # Preenche com -2(sem ref), por exemplo\n"
   ]
  },
  {
   "cell_type": "code",
   "execution_count": 11,
   "id": "1b3f5e91-1a27-4192-ac18-c418e2a64672",
   "metadata": {
    "tags": []
   },
   "outputs": [],
   "source": [
    "dfDadosPd = dfPreencher.toPandas()"
   ]
  },
  {
   "cell_type": "markdown",
   "id": "1d1ed5ca",
   "metadata": {},
   "source": [
    "# Salvar em SQL \n",
    "Salvar os dados em uma tabela SQL\n"
   ]
  },
  {
   "cell_type": "markdown",
   "id": "0f1deb1f",
   "metadata": {},
   "source": [
    "## Parametrizando a conexão do Banco SQL SERVER"
   ]
  },
  {
   "cell_type": "code",
   "execution_count": 12,
   "id": "9e7396db",
   "metadata": {},
   "outputs": [],
   "source": [
    "server = 'NOTEBOOK-LEO\\\\SQLEXPRESS'\n",
    "database = 'Enem'\n",
    "username = 'bi_leonardobo'\n",
    "password = '0000'\n"
   ]
  },
  {
   "cell_type": "code",
   "execution_count": 13,
   "id": "45262d43",
   "metadata": {},
   "outputs": [],
   "source": [
    "# Nome da nova tabela que será criada\n",
    "nomeTabela = 'Participantes'"
   ]
  },
  {
   "cell_type": "code",
   "execution_count": 14,
   "id": "efc4192e",
   "metadata": {},
   "outputs": [],
   "source": [
    "# Conexão de String utilizando a biblioteca pymssql\n",
    "connection_string = f'mssql+pymssql://{username}:{password}@{server}/{database}'"
   ]
  },
  {
   "cell_type": "code",
   "execution_count": 16,
   "id": "5e87ccad-a1e1-47ef-acc7-dfd6bfc677c8",
   "metadata": {
    "tags": []
   },
   "outputs": [],
   "source": [
    "engine = create_engine(connection_string)\n"
   ]
  },
  {
   "cell_type": "code",
   "execution_count": 18,
   "id": "b66b7553",
   "metadata": {},
   "outputs": [
    {
     "data": {
      "text/plain": [
       "3476105"
      ]
     },
     "execution_count": 18,
     "metadata": {},
     "output_type": "execute_result"
    }
   ],
   "source": [
    "dfDadosPd.to_sql(nomeTabela, con=engine, if_exists='replace', index=False)"
   ]
  },
  {
   "cell_type": "code",
   "execution_count": 19,
   "id": "dafe0615",
   "metadata": {},
   "outputs": [
    {
     "name": "stdout",
     "output_type": "stream",
     "text": [
      "Tabela Participantes criada com sucesso no banco de dados.\n"
     ]
    }
   ],
   "source": [
    "print(f'Tabela {nomeTabela} criada com sucesso no banco de dados.')\n"
   ]
  },
  {
   "cell_type": "code",
   "execution_count": null,
   "id": "6de4ad95-23a6-45f1-af4d-d657f218bd8f",
   "metadata": {},
   "outputs": [],
   "source": []
  }
 ],
 "metadata": {
  "kernelspec": {
   "display_name": "Python 3 (ipykernel)",
   "language": "python",
   "name": "python3"
  },
  "language_info": {
   "codemirror_mode": {
    "name": "ipython",
    "version": 3
   },
   "file_extension": ".py",
   "mimetype": "text/x-python",
   "name": "python",
   "nbconvert_exporter": "python",
   "pygments_lexer": "ipython3",
   "version": "3.11.3"
  }
 },
 "nbformat": 4,
 "nbformat_minor": 5
}
