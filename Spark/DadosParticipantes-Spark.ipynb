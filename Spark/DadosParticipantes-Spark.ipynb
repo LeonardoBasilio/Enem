{
 "cells": [
  {
   "cell_type": "markdown",
   "id": "0f115781",
   "metadata": {},
   "source": [
    "## Importação das Bibiliotecas"
   ]
  },
  {
   "cell_type": "code",
   "execution_count": 1,
   "id": "b2595d63-db8f-47d8-9b6d-dd142460985a",
   "metadata": {
    "tags": []
   },
   "outputs": [],
   "source": [
    "from pyspark.sql import SparkSession\n",
    "import pandas as pd\n",
    "from sqlalchemy import create_engine\n",
    "import pyodbc"
   ]
  },
  {
   "cell_type": "code",
   "execution_count": 2,
   "id": "137c301b-7b56-434b-bd08-979c6717af70",
   "metadata": {
    "tags": []
   },
   "outputs": [],
   "source": [
    "# Crie um SparkSession\n",
    "spark = SparkSession.builder.appName(\"LerDadosEnem\").getOrCreate()\n"
   ]
  },
  {
   "cell_type": "markdown",
   "id": "a92050d4",
   "metadata": {},
   "source": [
    "## Processo de Leitura do CSV de Participantes\n"
   ]
  },
  {
   "cell_type": "code",
   "execution_count": 3,
   "id": "158e76e5",
   "metadata": {
    "tags": []
   },
   "outputs": [],
   "source": [
    "#Path dos arquivos\n",
    "\n",
    "caminho_arquivo_2022 = r'E:\\Estudos\\SQL\\Datasets\\ENEM\\2022\\microdados_enem_2022\\DADOS\\MICRODADOS_ENEM_2022.csv'\n",
    "caminho_arquivo_2021 = r'E:\\Estudos\\SQL\\Datasets\\ENEM\\2021\\microdados_enem_2021\\DADOS\\MICRODADOS_ENEM_2021.csv'\n",
    "caminho_arquivo_2020 = r'E:\\Estudos\\SQL\\Datasets\\ENEM\\2021\\microdados_enem_2021\\DADOS\\MICRODADOS_ENEM_2021.csv'\n",
    "caminho_arquivo_2019 = r'E:\\Estudos\\SQL\\Datasets\\ENEM\\2021\\microdados_enem_2021\\DADOS\\MICRODADOS_ENEM_2021.csv'"
   ]
  },
  {
   "cell_type": "code",
   "execution_count": 4,
   "id": "326d8fa5",
   "metadata": {
    "tags": []
   },
   "outputs": [],
   "source": [
    "#Função Paa ler os arquivos CSV\n",
    "def lerCSV(spark, caminho_arquivo):\n",
    "    df = spark.read.csv(caminho_arquivo, sep=';', header=True, inferSchema=True, encoding='ISO-8859-1')\n",
    "    colunas_selecionadas = df.columns[:12]\n",
    "    return df.select(colunas_selecionadas)\n"
   ]
  },
  {
   "cell_type": "code",
   "execution_count": 5,
   "id": "6c885188-20cd-42c8-b472-465b93b8354d",
   "metadata": {
    "tags": []
   },
   "outputs": [],
   "source": [
    "##Chama função quer ler o arquivo CSV e Transforma para DF.SPARK\n",
    "\n",
    "dfDadosParticipantes22 = lerCSV(spark, caminho_arquivo_2022)\n",
    "dfDadosParticipantes21 = lerCSV(spark, caminho_arquivo_2021)\n",
    "dfDadosParticipantes20 = lerCSV(spark, caminho_arquivo_2020)\n",
    "dfDadosParticipantes19 = lerCSV(spark, caminho_arquivo_2019)\n",
    "\n"
   ]
  },
  {
   "cell_type": "code",
   "execution_count": 6,
   "id": "9bf255a1-b7ac-44b1-b5ef-52f40d5cecd3",
   "metadata": {
    "tags": []
   },
   "outputs": [],
   "source": [
    "#Unir os DF em um só \n",
    "\n",
    "dfDadosParticipantes = dfDadosParticipantes22.union(dfDadosParticipantes21).union(dfDadosParticipantes20).union(dfDadosParticipantes19)\n"
   ]
  },
  {
   "cell_type": "code",
   "execution_count": 8,
   "id": "a0ddb3df",
   "metadata": {
    "tags": []
   },
   "outputs": [],
   "source": [
    "dfPreencher = dfDadosParticipantes.fillna(-2)  # Preenche com -2(sem ref), por exemplo\n"
   ]
  },
  {
   "cell_type": "markdown",
   "id": "1d1ed5ca",
   "metadata": {},
   "source": [
    "# Salvar em SQL \n",
    "Salvar os dados em uma tabela SQL\n"
   ]
  },
  {
   "cell_type": "markdown",
   "id": "0f1deb1f",
   "metadata": {},
   "source": [
    "## Parametrizando a conexão do Banco SQL SERVER"
   ]
  },
  {
   "cell_type": "code",
   "execution_count": 9,
   "id": "9e7396db",
   "metadata": {
    "tags": []
   },
   "outputs": [
    {
     "name": "stdout",
     "output_type": "stream",
     "text": [
      "jdbc:sqlserver://NOTEBOOK-LEO:1433;databaseName=Enem;\n"
     ]
    }
   ],
   "source": [
    "server_name = \"jdbc:sqlserver://NOTEBOOK-LEO:1433\"\n",
    "database_name = \"Enem\"\n",
    "table_name = \"Participantes\"\n",
    "username = \"bi_leonardobo\"\n",
    "password = \"0000\"\n",
    "url = server_name + \";\" + \"databaseName=\" + database_name + \";\"\n",
    "print(url)\n"
   ]
  },
  {
   "cell_type": "code",
   "execution_count": 10,
   "id": "45262d43",
   "metadata": {
    "tags": []
   },
   "outputs": [],
   "source": [
    "# Nome da nova tabela que será criada\n",
    "nomeTabela = 'Participantes'"
   ]
  },
  {
   "cell_type": "code",
   "execution_count": 11,
   "id": "b714419b-0c97-4b3a-a10b-08a39a11f1e7",
   "metadata": {
    "tags": []
   },
   "outputs": [
    {
     "name": "stdout",
     "output_type": "stream",
     "text": [
      "+------------+------+---------------+-------+---------------+-----------+----------------+---------------+---------------+---------+---------+------------+\n",
      "|NU_INSCRICAO|NU_ANO|TP_FAIXA_ETARIA|TP_SEXO|TP_ESTADO_CIVIL|TP_COR_RACA|TP_NACIONALIDADE|TP_ST_CONCLUSAO|TP_ANO_CONCLUIU|TP_ESCOLA|TP_ENSINO|IN_TREINEIRO|\n",
      "+------------+------+---------------+-------+---------------+-----------+----------------+---------------+---------------+---------+---------+------------+\n",
      "|210056184466|  2022|             15|      M|              2|          3|               1|              1|             16|        1|       -2|           0|\n",
      "|210057595890|  2022|             13|      F|              1|          3|               1|              1|              0|        1|       -2|           0|\n",
      "|210056438520|  2022|              2|      M|              0|          1|               1|              2|              0|        2|        1|           0|\n",
      "|210054953601|  2022|             14|      F|              1|          0|               1|              1|             16|        1|       -2|           0|\n",
      "|210056939504|  2022|              2|      F|              1|          4|               1|              3|              0|        1|       -2|           1|\n",
      "|210056042202|  2022|              5|      F|              1|          1|               1|              1|              3|        1|       -2|           0|\n",
      "|210055938726|  2022|             11|      F|              1|          3|               1|              1|              9|        1|       -2|           0|\n",
      "|210056336753|  2022|             13|      F|              1|          3|               1|              1|             16|        1|       -2|           0|\n",
      "|210057730128|  2022|              1|      F|              0|          3|               1|              3|              0|        1|       -2|           1|\n",
      "|210056788460|  2022|              5|      F|              1|          1|               1|              1|              3|        1|       -2|           0|\n",
      "|210057299186|  2022|              3|      M|              1|          3|               1|              2|              0|        2|        1|           0|\n",
      "|210056454744|  2022|              2|      F|              1|          3|               1|              2|              0|        2|        1|           0|\n",
      "|210054743946|  2022|             12|      F|              1|          3|               1|              1|             13|        1|       -2|           0|\n",
      "|210055685057|  2022|              3|      M|              1|          3|               1|              2|              0|        2|        1|           0|\n",
      "|210056452639|  2022|              3|      F|              1|          3|               1|              2|              0|        2|        1|           0|\n",
      "|210056890191|  2022|              3|      F|              1|          1|               1|              2|              0|        2|        2|           0|\n",
      "|210056301386|  2022|              6|      F|              1|          3|               1|              1|              3|        1|       -2|           0|\n",
      "|210055259879|  2022|              4|      F|              1|          3|               1|              1|              0|        1|       -2|           0|\n",
      "|210056935615|  2022|              4|      M|              1|          1|               1|              1|              2|        1|       -2|           0|\n",
      "|210054593796|  2022|             11|      M|              1|          1|               1|              1|             10|        1|       -2|           0|\n",
      "|210055470533|  2022|              4|      F|              1|          3|               1|              2|              0|        2|        1|           0|\n",
      "|210057507731|  2022|             14|      M|              2|          1|               1|              1|             16|        1|       -2|           0|\n",
      "|210057268612|  2022|              2|      F|              1|          3|               1|              2|              0|        2|        1|           0|\n",
      "|210057739729|  2022|              4|      F|              1|          3|               1|              1|              2|        1|       -2|           0|\n",
      "|210055489958|  2022|              3|      F|              1|          3|               1|              2|              0|        2|        1|           0|\n",
      "|210055396762|  2022|              2|      F|              1|          1|               1|              2|              0|        2|        1|           0|\n",
      "|210056287157|  2022|              5|      F|              1|          2|               1|              1|              2|        1|       -2|           0|\n",
      "|210054773610|  2022|             14|      F|              2|          3|               1|              1|              0|        1|       -2|           0|\n",
      "|210056279013|  2022|              7|      F|              1|          1|               1|              1|              3|        1|       -2|           0|\n",
      "|210056337638|  2022|              2|      F|              1|          1|               1|              2|              0|        2|        1|           0|\n",
      "|210057800633|  2022|             11|      F|              1|          3|               1|              1|              9|        1|       -2|           0|\n",
      "|210055255566|  2022|              5|      M|              1|          1|               1|              1|              2|        1|       -2|           0|\n",
      "|210057078136|  2022|              4|      F|              1|          1|               1|              2|              0|        2|        1|           0|\n",
      "|210057002111|  2022|              9|      M|              1|          1|               1|              1|              7|        1|       -2|           0|\n",
      "|210054868543|  2022|             11|      M|              2|          3|               1|              1|              8|        1|       -2|           0|\n",
      "|210055939697|  2022|             11|      F|              1|          1|               1|              1|              0|        1|       -2|           0|\n",
      "|210057989251|  2022|              3|      M|              1|          1|               1|              1|              1|        1|       -2|           0|\n",
      "|210057006351|  2022|              3|      M|              1|          3|               1|              2|              0|        2|        1|           0|\n",
      "|210056199029|  2022|              6|      M|              1|          2|               1|              1|              2|        1|       -2|           0|\n",
      "|210057628347|  2022|              3|      F|              1|          2|               1|              2|              0|        2|        1|           0|\n",
      "+------------+------+---------------+-------+---------------+-----------+----------------+---------------+---------------+---------+---------+------------+\n",
      "only showing top 40 rows\n",
      "\n",
      "3476105\n"
     ]
    }
   ],
   "source": [
    "#Conectando via jdbc\n",
    "#No método option, foi necessário passar os argumentos ssl e trustservercertificate como true, por se tratar de um banco local sem SSL.\n",
    "try:\n",
    "  jdbcDF = spark.read \\\n",
    "        .format(\"jdbc\") \\\n",
    "        .option(\"url\", url) \\\n",
    "        .option(\"driver\",\"com.microsoft.sqlserver.jdbc.SQLServerDriver\")\\\n",
    "        .option(\"ssl\", \"true\")\\\n",
    "        .option(\"trustServerCertificate\", \"true\")\\\n",
    "        .option(\"dbtable\", table_name) \\\n",
    "        .option(\"user\", username) \\\n",
    "        .option(\"password\", password).load()\n",
    "  \n",
    "  jdbcDF.show(40)\n",
    "  print(jdbcDF.count())\n",
    "except ValueError as error :\n",
    "    print(\"Connector write failed\", error)\n"
   ]
  },
  {
   "cell_type": "code",
   "execution_count": 12,
   "id": "6f3a8e0f-907e-4a25-aee7-793eac934db9",
   "metadata": {
    "tags": []
   },
   "outputs": [],
   "source": [
    "# Configurações do banco de dados\n",
    "server_name = \"NOTEBOOK-LEO\\\\SQLEXPRESS\"\n",
    " \n",
    "# Conecte-se ao banco de dados usando pyodbc\n",
    "conn = pyodbc.connect(f\"Driver={{SQL Server}};Server={server_name};Database={database_name};UID={username};PWD={password}\")\n",
    "\n",
    "# Crie um cursor\n",
    "cursor = conn.cursor()\n",
    "\n",
    "# Execute a operação DROP TABLE na tabela 'Participantes'\n",
    "truncate_query = \"DROP TABLE dbo.Participantes\"\n",
    "cursor.execute(truncate_query)\n",
    "\n",
    "# Commit as alterações no banco de dados\n",
    "conn.commit()"
   ]
  },
  {
   "cell_type": "code",
   "execution_count": 13,
   "id": "5e87ccad-a1e1-47ef-acc7-dfd6bfc677c8",
   "metadata": {
    "tags": []
   },
   "outputs": [],
   "source": [
    "# Escreva os novos dados em 'Participantes' usando a conexão JDBC\n",
    "dfPreencher.write \\\n",
    "        .format(\"jdbc\") \\\n",
    "        .option(\"url\", url) \\\n",
    "        .option(\"driver\",\"com.microsoft.sqlserver.jdbc.SQLServerDriver\")\\\n",
    "        .option(\"ssl\", \"true\")\\\n",
    "        .option(\"trustServerCertificate\", \"true\")\\\n",
    "        .option(\"dbtable\", table_name) \\\n",
    "        .option(\"user\", username) \\\n",
    "        .option(\"password\", password)\\\n",
    "        .option(\"SaveMode\", \"overWrite\").save()\n",
    "  \n"
   ]
  },
  {
   "cell_type": "code",
   "execution_count": 14,
   "id": "dafe0615",
   "metadata": {
    "tags": []
   },
   "outputs": [
    {
     "name": "stdout",
     "output_type": "stream",
     "text": [
      "Tabela Participantes criada com sucesso no banco de dados.\n"
     ]
    }
   ],
   "source": [
    "print(f'Tabela {nomeTabela} criada com sucesso no banco de dados.')\n"
   ]
  },
  {
   "cell_type": "code",
   "execution_count": null,
   "id": "6de4ad95-23a6-45f1-af4d-d657f218bd8f",
   "metadata": {},
   "outputs": [],
   "source": []
  }
 ],
 "metadata": {
  "kernelspec": {
   "display_name": "Python 3 (ipykernel)",
   "language": "python",
   "name": "python3"
  },
  "language_info": {
   "codemirror_mode": {
    "name": "ipython",
    "version": 3
   },
   "file_extension": ".py",
   "mimetype": "text/x-python",
   "name": "python",
   "nbconvert_exporter": "python",
   "pygments_lexer": "ipython3",
   "version": "3.11.3"
  }
 },
 "nbformat": 4,
 "nbformat_minor": 5
}
