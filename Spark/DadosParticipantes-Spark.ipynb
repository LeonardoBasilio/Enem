{
 "cells": [
  {
   "cell_type": "markdown",
   "id": "0f115781",
   "metadata": {},
   "source": [
    "## Importação das Bibiliotecas"
   ]
  },
  {
   "cell_type": "code",
   "execution_count": 1,
   "id": "b2595d63-db8f-47d8-9b6d-dd142460985a",
   "metadata": {
    "tags": []
   },
   "outputs": [],
   "source": [
    "from pyspark.sql import SparkSession\n",
    "import pandas as pd\n",
    "from sqlalchemy import create_engine\n",
    "import pyodbc"
   ]
  },
  {
   "cell_type": "code",
   "execution_count": 2,
   "id": "137c301b-7b56-434b-bd08-979c6717af70",
   "metadata": {},
   "outputs": [],
   "source": [
    "# Crie um SparkSession\n",
    "spark = SparkSession.builder.appName(\"LerDadosEnem\").getOrCreate()\n"
   ]
  },
  {
   "cell_type": "markdown",
   "id": "a92050d4",
   "metadata": {},
   "source": [
    "## Processo de Leitura do CSV de Participantes\n"
   ]
  },
  {
   "cell_type": "code",
   "execution_count": 3,
   "id": "158e76e5",
   "metadata": {},
   "outputs": [],
   "source": [
    "arqEnem = 'E:\\Estudos\\SQL\\Datasets\\microdados_enem_2022\\DADOS\\MICRODADOS_ENEM_2022.csv'\n",
    "\n",
    "dfDadosGerais = spark.read.csv(arqEnem, sep=';', header=True, inferSchema=True, encoding='ISO-8859-1')\n"
   ]
  },
  {
   "cell_type": "code",
   "execution_count": 4,
   "id": "326d8fa5",
   "metadata": {},
   "outputs": [],
   "source": [
    "dfParticipantes = dfDadosGerais.select(dfDadosGerais.columns[:12])"
   ]
  },
  {
   "cell_type": "code",
   "execution_count": 5,
   "id": "a0ddb3df",
   "metadata": {},
   "outputs": [],
   "source": [
    "dfPreencher = dfParticipantes.fillna(-2)  # Preenche com -2(sem ref), por exemplo\n"
   ]
  },
  {
   "cell_type": "markdown",
   "id": "1d1ed5ca",
   "metadata": {},
   "source": [
    "# Salvar em SQL \n",
    "Salvar os dados em uma tabela SQL\n"
   ]
  },
  {
   "cell_type": "markdown",
   "id": "0f1deb1f",
   "metadata": {},
   "source": [
    "## Parametrizando a conexão do Banco SQL SERVER"
   ]
  },
  {
   "cell_type": "code",
   "execution_count": 6,
   "id": "9e7396db",
   "metadata": {},
   "outputs": [
    {
     "name": "stdout",
     "output_type": "stream",
     "text": [
      "jdbc:sqlserver://NOTEBOOK-LEO:1433;databaseName=Enem;\n"
     ]
    }
   ],
   "source": [
    "server_name = \"jdbc:sqlserver://NOTEBOOK-LEO:1433\"\n",
    "database_name = \"Enem\"\n",
    "table_name = \"Participantes\"\n",
    "username = \"bi_leonardobo\"\n",
    "password = \"0000\"\n",
    "url = server_name + \";\" + \"databaseName=\" + database_name + \";\"\n",
    "print(url)\n"
   ]
  },
  {
   "cell_type": "code",
   "execution_count": 7,
   "id": "45262d43",
   "metadata": {},
   "outputs": [],
   "source": [
    "# Nome da nova tabela que será criada\n",
    "nomeTabela = 'Participantes'"
   ]
  },
  {
   "cell_type": "code",
   "execution_count": 8,
   "id": "b714419b-0c97-4b3a-a10b-08a39a11f1e7",
   "metadata": {
    "tags": []
   },
   "outputs": [
    {
     "name": "stdout",
     "output_type": "stream",
     "text": [
      "+------------+------+---------------+-------+---------------+-----------+----------------+---------------+---------------+---------+---------+------------+\n",
      "|NU_INSCRICAO|NU_ANO|TP_FAIXA_ETARIA|TP_SEXO|TP_ESTADO_CIVIL|TP_COR_RACA|TP_NACIONALIDADE|TP_ST_CONCLUSAO|TP_ANO_CONCLUIU|TP_ESCOLA|TP_ENSINO|IN_TREINEIRO|\n",
      "+------------+------+---------------+-------+---------------+-----------+----------------+---------------+---------------+---------+---------+------------+\n",
      "|210057943671|  2022|             14|      M|              2|          2|               1|              1|              2|        1|       -2|           0|\n",
      "|210057516120|  2022|             14|      M|              2|          1|               1|              1|             16|        1|       -2|           0|\n",
      "|210055432769|  2022|             10|      F|              1|          1|               1|              1|              8|        1|       -2|           0|\n",
      "|210055590133|  2022|              3|      F|              1|          4|               1|              2|              0|        2|        1|           0|\n",
      "|210057280536|  2022|              5|      F|              1|          2|               1|              1|              2|        1|       -2|           0|\n",
      "|210055724397|  2022|              6|      M|              1|          3|               1|              1|              2|        1|       -2|           0|\n",
      "|210055097896|  2022|              4|      M|              0|          3|               1|              1|              1|        1|       -2|           0|\n",
      "|210057850231|  2022|              5|      F|              1|          3|               1|              1|              2|        1|       -2|           0|\n",
      "|210056305481|  2022|              4|      M|              1|          2|               1|              1|              2|        1|       -2|           0|\n",
      "|210055778089|  2022|              6|      F|              1|          2|               1|              1|              0|        1|       -2|           0|\n",
      "|210057252239|  2022|              8|      F|              1|          3|               1|              1|              0|        1|       -2|           0|\n",
      "|210055461467|  2022|              4|      F|              1|          3|               1|              1|              1|        1|       -2|           0|\n",
      "|210055665589|  2022|              4|      F|              1|          3|               1|              1|              2|        1|       -2|           0|\n",
      "|210054972570|  2022|              2|      F|              1|          1|               1|              2|              0|        3|        1|           0|\n",
      "|210055449344|  2022|              4|      M|              1|          2|               1|              1|              1|        1|       -2|           0|\n",
      "|210057944037|  2022|              6|      F|              1|          3|               1|              1|              0|        1|       -2|           0|\n",
      "|210054861834|  2022|              7|      M|              1|          2|               2|              1|              3|        1|       -2|           0|\n",
      "|210055201589|  2022|              8|      F|              1|          3|               1|              2|              0|        2|        1|           0|\n",
      "|210056844882|  2022|              5|      F|              1|          2|               1|              1|              0|        1|       -2|           0|\n",
      "|210056065100|  2022|              2|      F|              1|          3|               1|              3|              0|        1|       -2|           1|\n",
      "|210057551883|  2022|              8|      F|              1|          2|               1|              1|              5|        1|       -2|           0|\n",
      "|210054722657|  2022|              2|      F|              1|          1|               1|              3|              0|        1|       -2|           1|\n",
      "|210055739197|  2022|              1|      F|              1|          3|               1|              3|              0|        1|       -2|           1|\n",
      "|210056627737|  2022|              5|      F|              1|          3|               1|              1|              2|        1|       -2|           0|\n",
      "|210056235859|  2022|              4|      F|              1|          1|               1|              1|              0|        1|       -2|           0|\n",
      "|210057706656|  2022|              4|      M|              1|          3|               1|              1|              1|        1|       -2|           0|\n",
      "|210055059648|  2022|              8|      F|              1|          3|               1|              1|              6|        1|       -2|           0|\n",
      "|210055139127|  2022|              5|      M|              1|          3|               1|              1|              4|        1|       -2|           0|\n",
      "|210057454355|  2022|              2|      F|              1|          3|               1|              2|              0|        2|        1|           0|\n",
      "|210057728624|  2022|              7|      M|              1|          2|               1|              1|              3|        1|       -2|           0|\n",
      "|210056253979|  2022|              2|      F|              1|          1|               1|              2|              0|        2|        1|           0|\n",
      "|210057043682|  2022|              6|      M|              1|          3|               1|              1|              2|        1|       -2|           0|\n",
      "|210057510589|  2022|             11|      F|              1|          5|               1|              1|              8|        1|       -2|           0|\n",
      "|210056235916|  2022|              3|      F|              1|          3|               1|              1|              1|        1|       -2|           0|\n",
      "|210054534656|  2022|             12|      M|              1|          1|               1|              1|              0|        1|       -2|           0|\n",
      "|210056338475|  2022|              8|      F|              1|          3|               1|              1|              5|        1|       -2|           0|\n",
      "|210057182714|  2022|             10|      F|              1|          1|               1|              1|              7|        1|       -2|           0|\n",
      "|210056212765|  2022|             14|      F|              3|          3|               1|              1|             14|        1|       -2|           0|\n",
      "|210056917096|  2022|              7|      M|              1|          1|               1|              1|              5|        1|       -2|           0|\n",
      "|210056185147|  2022|              7|      F|              1|          3|               1|              1|              0|        1|       -2|           0|\n",
      "+------------+------+---------------+-------+---------------+-----------+----------------+---------------+---------------+---------+---------+------------+\n",
      "only showing top 40 rows\n",
      "\n",
      "3476105\n"
     ]
    }
   ],
   "source": [
    "#Conectando via jdbc\n",
    "#No método option, foi necessário passar os argumentos ssl e trustservercertificate como true, por se tratar de um banco local sem SSL.\n",
    "try:\n",
    "  jdbcDF = spark.read \\\n",
    "        .format(\"jdbc\") \\\n",
    "        .option(\"url\", url) \\\n",
    "        .option(\"driver\",\"com.microsoft.sqlserver.jdbc.SQLServerDriver\")\\\n",
    "        .option(\"ssl\", \"true\")\\\n",
    "        .option(\"trustServerCertificate\", \"true\")\\\n",
    "        .option(\"dbtable\", table_name) \\\n",
    "        .option(\"user\", username) \\\n",
    "        .option(\"password\", password).load()\n",
    "  \n",
    "  jdbcDF.show(40)\n",
    "  print(jdbcDF.count())\n",
    "except ValueError as error :\n",
    "    print(\"Connector write failed\", error)\n"
   ]
  },
  {
   "cell_type": "code",
   "execution_count": 9,
   "id": "6f3a8e0f-907e-4a25-aee7-793eac934db9",
   "metadata": {
    "tags": []
   },
   "outputs": [],
   "source": [
    "# Configurações do banco de dados\n",
    "server_name = \"NOTEBOOK-LEO\\\\SQLEXPRESS\"\n",
    " \n",
    "# Conecte-se ao banco de dados usando pyodbc\n",
    "conn = pyodbc.connect(f\"Driver={{SQL Server}};Server={server_name};Database={database_name};UID={username};PWD={password}\")\n",
    "\n",
    "# Crie um cursor\n",
    "cursor = conn.cursor()\n",
    "\n",
    "# Execute a operação DROP TABLE na tabela 'Participantes'\n",
    "truncate_query = \"DROP TABLE dbo.Participantes\"\n",
    "cursor.execute(truncate_query)\n",
    "\n",
    "# Commit as alterações no banco de dados\n",
    "conn.commit()"
   ]
  },
  {
   "cell_type": "code",
   "execution_count": 10,
   "id": "5e87ccad-a1e1-47ef-acc7-dfd6bfc677c8",
   "metadata": {
    "tags": []
   },
   "outputs": [],
   "source": [
    "# Escreva os novos dados em 'Participantes' usando a conexão JDBC\n",
    "dfPreencher.write \\\n",
    "        .format(\"jdbc\") \\\n",
    "        .option(\"url\", url) \\\n",
    "        .option(\"driver\",\"com.microsoft.sqlserver.jdbc.SQLServerDriver\")\\\n",
    "        .option(\"ssl\", \"true\")\\\n",
    "        .option(\"trustServerCertificate\", \"true\")\\\n",
    "        .option(\"dbtable\", table_name) \\\n",
    "        .option(\"user\", username) \\\n",
    "        .option(\"password\", password)\\\n",
    "        .option(\"SaveMode\", \"overWrite\").save()\n",
    "  \n"
   ]
  },
  {
   "cell_type": "code",
   "execution_count": 11,
   "id": "dafe0615",
   "metadata": {},
   "outputs": [
    {
     "name": "stdout",
     "output_type": "stream",
     "text": [
      "Tabela Participantes criada com sucesso no banco de dados.\n"
     ]
    }
   ],
   "source": [
    "print(f'Tabela {nomeTabela} criada com sucesso no banco de dados.')\n"
   ]
  },
  {
   "cell_type": "code",
   "execution_count": null,
   "id": "6de4ad95-23a6-45f1-af4d-d657f218bd8f",
   "metadata": {},
   "outputs": [],
   "source": []
  }
 ],
 "metadata": {
  "kernelspec": {
   "display_name": "Python 3 (ipykernel)",
   "language": "python",
   "name": "python3"
  },
  "language_info": {
   "codemirror_mode": {
    "name": "ipython",
    "version": 3
   },
   "file_extension": ".py",
   "mimetype": "text/x-python",
   "name": "python",
   "nbconvert_exporter": "python",
   "pygments_lexer": "ipython3",
   "version": "3.11.3"
  }
 },
 "nbformat": 4,
 "nbformat_minor": 5
}
