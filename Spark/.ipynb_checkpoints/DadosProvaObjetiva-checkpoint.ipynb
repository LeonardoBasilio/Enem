{
 "cells": [
  {
   "cell_type": "markdown",
   "id": "a31e718b-14d9-4751-9dec-71f56129a085",
   "metadata": {},
   "source": [
    "## Importação das Bibiliotecas"
   ]
  },
  {
   "cell_type": "code",
   "execution_count": 1,
   "id": "cc20c5a9-44d0-4ee3-ac2c-0f588099a1c7",
   "metadata": {
    "tags": []
   },
   "outputs": [],
   "source": [
    "from pyspark.sql import SparkSession\n",
    "import pandas as pd\n",
    "from sqlalchemy import create_engine\n",
    "import pyodbc"
   ]
  },
  {
   "cell_type": "markdown",
   "id": "a92050d4",
   "metadata": {},
   "source": [
    "## Criando uma SparkSession"
   ]
  },
  {
   "cell_type": "code",
   "execution_count": 4,
   "id": "137c301b-7b56-434b-bd08-979c6717af70",
   "metadata": {
    "tags": []
   },
   "outputs": [],
   "source": [
    "spark = SparkSession.builder.appName(\"LerDadosEnem\").getOrCreate()\n"
   ]
  },
  {
   "cell_type": "markdown",
   "id": "1a8ed9e6-77de-42fb-96ed-d1b23d0251a4",
   "metadata": {},
   "source": [
    "## Processo de Leitura do CSV de Participantes\n"
   ]
  },
  {
   "cell_type": "code",
   "execution_count": 6,
   "id": "158e76e5",
   "metadata": {
    "tags": []
   },
   "outputs": [],
   "source": [
    "arqEnem = r'E:\\Estudos\\SQL\\Datasets\\Enem\\2022\\microdados_enem_2022\\DADOS\\MICRODADOS_ENEM_2022.csv'\n",
    "\n",
    "dfDadosGerais = spark.read.csv(arqEnem, sep=';', header=True, inferSchema=True, encoding='ISO-8859-1')\n"
   ]
  },
  {
   "cell_type": "code",
   "execution_count": 7,
   "id": "326d8fa5",
   "metadata": {
    "tags": []
   },
   "outputs": [],
   "source": [
    "dfProvasObjetiva = dfDadosGerais.select(dfDadosGerais.columns[23:44])"
   ]
  },
  {
   "cell_type": "code",
   "execution_count": 8,
   "id": "8b889869-4d51-4802-9259-f27d6fb5db0b",
   "metadata": {
    "tags": []
   },
   "outputs": [
    {
     "name": "stdout",
     "output_type": "stream",
     "text": [
      "+--------------+--------------+--------------+--------------+-----------+-----------+-----------+-----------+----------+----------+----------+----------+--------------------+--------------------+--------------------+--------------------+---------+--------------------+--------------------+--------------------+--------------------+\n",
      "|TP_PRESENCA_CN|TP_PRESENCA_CH|TP_PRESENCA_LC|TP_PRESENCA_MT|CO_PROVA_CN|CO_PROVA_CH|CO_PROVA_LC|CO_PROVA_MT|NU_NOTA_CN|NU_NOTA_CH|NU_NOTA_LC|NU_NOTA_MT|     TX_RESPOSTAS_CN|     TX_RESPOSTAS_CH|     TX_RESPOSTAS_LC|     TX_RESPOSTAS_MT|TP_LINGUA|      TX_GABARITO_CN|      TX_GABARITO_CH|      TX_GABARITO_LC|      TX_GABARITO_MT|\n",
      "+--------------+--------------+--------------+--------------+-----------+-----------+-----------+-----------+----------+----------+----------+----------+--------------------+--------------------+--------------------+--------------------+---------+--------------------+--------------------+--------------------+--------------------+\n",
      "|             0|             0|             0|             0|       null|       null|       null|       null|      null|      null|      null|      null|                null|                null|                null|                null|        0|                null|                null|                null|                null|\n",
      "|             0|             0|             0|             0|       null|       null|       null|       null|      null|      null|      null|      null|                null|                null|                null|                null|        0|                null|                null|                null|                null|\n",
      "|             1|             1|             1|             1|       1087|       1056|       1066|       1078|     421.1|     546.0|     498.8|     565.3|DCDCEBADDABEDBCBE...|DBDABCADADECACBDC...|ABEABADCCADCAAAAC...|BDEBACECBCAEBABED...|        1|DDECDBEACCAEBEAEB...|ECBABCDDAAECBCBEC...|DECDBDCEAADDBCABE...|BEEDAEABDDCEBDBAA...|\n",
      "|             1|             1|             1|             1|       1088|       1058|       1067|       1077|     490.7|     388.6|     357.8|     416.0|BACBBABBCAABCABBC...|BBCAACACDCABCBACC...|ABACCCCBCBAADABBB...|BBBACCBABABBBBACD...|        1|DDCBBCCDDAADBAABE...|CEDAAADBAECBCDDAD...|CDBEDACDEACAABDBD...|CCCCBXCBABECBEABD...|\n",
      "|             0|             0|             0|             0|       null|       null|       null|       null|      null|      null|      null|      null|                null|                null|                null|                null|        0|                null|                null|                null|                null|\n",
      "|             0|             0|             0|             0|       null|       null|       null|       null|      null|      null|      null|      null|                null|                null|                null|                null|        1|                null|                null|                null|                null|\n",
      "|             0|             0|             0|             0|       null|       null|       null|       null|      null|      null|      null|      null|                null|                null|                null|                null|        0|                null|                null|                null|                null|\n",
      "|             1|             1|             1|             1|       1086|       1055|       1065|       1076|     398.1|     427.3|     400.2|     404.9|CBCCDBCACACABBDAE...|BABACCABCBADEABDD...|DACECBAEAABBEAACD...|DBCCABCCBCEEBCECB...|        1|EACDDEBEACCCDABCE...|DEABEEDAEBAAECBEC...|DCBDEEDCAAEAAACAB...|DBAAACEBEDAECCBEC...|\n",
      "|             0|             0|             0|             0|       null|       null|       null|       null|      null|      null|      null|      null|                null|                null|                null|                null|        1|                null|                null|                null|                null|\n",
      "|             1|             1|             1|             1|       1087|       1056|       1066|       1078|     467.5|     461.0|     466.7|     435.3|ACEAACADAEBADDCCA...|EAAABEADCDDCEAACD...|ECEABCBECEDACADAB...|BEBCCCABABCCDCCCB...|        1|DDECDBEACCAEBEAEB...|ECBABCDDAAECBCBEC...|DECDBDCEAADDBCABE...|BEEDAEABDDCEBDBAA...|\n",
      "|             0|             0|             0|             0|       null|       null|       null|       null|      null|      null|      null|      null|                null|                null|                null|                null|        1|                null|                null|                null|                null|\n",
      "|             1|             1|             1|             1|       1086|       1055|       1065|       1076|     458.7|     539.8|     488.2|     456.8|DDDDDBCDDDBDDADDD...|AEAADEDEDDADDDDED...|EABAAEAAAAAAAAEAA...|DDDDDCDEEDDCCDDDD...|        1|EACDDEBEACCCDABCE...|DEABEEDAEBAAECBEC...|DCBDEEDCAAEAAACAB...|DBAAACEBEDAECCBEC...|\n",
      "|             0|             0|             0|             0|       null|       null|       null|       null|      null|      null|      null|      null|                null|                null|                null|                null|        1|                null|                null|                null|                null|\n",
      "|             0|             0|             0|             0|       null|       null|       null|       null|      null|      null|      null|      null|                null|                null|                null|                null|        1|                null|                null|                null|                null|\n",
      "|             0|             0|             0|             0|       null|       null|       null|       null|      null|      null|      null|      null|                null|                null|                null|                null|        1|                null|                null|                null|                null|\n",
      "|             0|             0|             0|             0|       null|       null|       null|       null|      null|      null|      null|      null|                null|                null|                null|                null|        1|                null|                null|                null|                null|\n",
      "|             0|             0|             0|             0|       null|       null|       null|       null|      null|      null|      null|      null|                null|                null|                null|                null|        0|                null|                null|                null|                null|\n",
      "|             1|             1|             1|             1|       1086|       1055|       1065|       1076|     396.8|     528.7|     551.4|     536.0|ABEACDCACEADBDBDB...|CEABADCEDEBAECBAD...|CCBDBECEAECBDDECA...|CABACCAEEAABEDCCC...|        0|EACDDEBEACCCDABCE...|DEABEEDAEBAAECBEC...|DCBDEEDCAAEAAACAB...|DBAAACEBEDAECCBEC...|\n",
      "|             1|             1|             1|             1|       1088|       1058|       1067|       1077|     481.4|     603.6|     589.0|     695.0|DDCDACAEDAEDDBBDA...|DBDAAADEDEBBCDEAD...|ACDEACEBBDBEBEAAA...|CEBBBECAACBBBEAAD...|        1|DDCBBCCDDAADBAABE...|CEDAAADBAECBCDDAD...|CDBEDACDEACAABDBD...|CCCCBXCBABECBEABD...|\n",
      "|             0|             0|             0|             0|       null|       null|       null|       null|      null|      null|      null|      null|                null|                null|                null|                null|        0|                null|                null|                null|                null|\n",
      "+--------------+--------------+--------------+--------------+-----------+-----------+-----------+-----------+----------+----------+----------+----------+--------------------+--------------------+--------------------+--------------------+---------+--------------------+--------------------+--------------------+--------------------+\n",
      "only showing top 20 rows\n",
      "\n"
     ]
    }
   ],
   "source": [
    "dfProvasObjetiva.show()"
   ]
  },
  {
   "cell_type": "code",
   "execution_count": 9,
   "id": "a0ddb3df",
   "metadata": {
    "tags": []
   },
   "outputs": [],
   "source": [
    "dfPreencher = dfProvasObjetiva.fillna(-2)  # Preenche com -2(sem ref), por exemplo\n"
   ]
  },
  {
   "cell_type": "markdown",
   "id": "1d1ed5ca",
   "metadata": {},
   "source": [
    "# Salvar em SQL \n",
    "Salvar os dados em uma tabela SQL\n"
   ]
  },
  {
   "cell_type": "markdown",
   "id": "0f1deb1f",
   "metadata": {},
   "source": [
    "## Parametrizando a conexão do Banco SQL SERVER Usando JDBC"
   ]
  },
  {
   "cell_type": "code",
   "execution_count": 10,
   "id": "9e7396db",
   "metadata": {
    "tags": []
   },
   "outputs": [
    {
     "name": "stdout",
     "output_type": "stream",
     "text": [
      "jdbc:sqlserver://NOTEBOOK-LEO:1433;databaseName=Enem;\n"
     ]
    }
   ],
   "source": [
    "server_name = \"jdbc:sqlserver://NOTEBOOK-LEO:1433\"\n",
    "database_name = \"Enem\"\n",
    "table_name = \"ProvasObjetivas\"\n",
    "username = \"bi_leonardobo\"\n",
    "password = \"0000\"\n",
    "url = server_name + \";\" + \"databaseName=\" + database_name + \";\"\n",
    "print(url)\n"
   ]
  },
  {
   "cell_type": "code",
   "execution_count": 11,
   "id": "45262d43",
   "metadata": {
    "tags": []
   },
   "outputs": [],
   "source": [
    "# Nome da nova tabela que será criada\n",
    "nomeTabela = table_name"
   ]
  },
  {
   "cell_type": "code",
   "execution_count": 12,
   "id": "6f3a8e0f-907e-4a25-aee7-793eac934db9",
   "metadata": {
    "tags": []
   },
   "outputs": [],
   "source": [
    "# Configurações do banco de dados em ODBC para dropar\n",
    "server_name = \"NOTEBOOK-LEO\\\\SQLEXPRESS\"\n",
    " \n",
    "# Conecte-se ao banco de dados usando pyodbc\n",
    "conn = pyodbc.connect(f\"Driver={{SQL Server}};Server={server_name};Database={database_name};UID={username};PWD={password}\")\n",
    "\n",
    "# Crie um cursor\n",
    "cursor = conn.cursor()\n",
    "\n",
    "# Execute a operação DROP TABLE na tabela 'Participantes'\n",
    "truncate_query = f\"IF OBJECT_ID('{table_name}', 'U') IS NOT NULL DROP TABLE {table_name}\"\n",
    "cursor.execute(truncate_query)\n",
    "\n",
    "# Commit as alterações no banco de dados\n",
    "conn.commit()"
   ]
  },
  {
   "cell_type": "code",
   "execution_count": 13,
   "id": "5e87ccad-a1e1-47ef-acc7-dfd6bfc677c8",
   "metadata": {
    "tags": []
   },
   "outputs": [],
   "source": [
    "# Escreva os novos dados em 'Participantes' usando a conexão JDBC\n",
    "dfPreencher.write \\\n",
    "        .format(\"jdbc\") \\\n",
    "        .option(\"url\", url) \\\n",
    "        .option(\"driver\",\"com.microsoft.sqlserver.jdbc.SQLServerDriver\")\\\n",
    "        .option(\"ssl\", \"true\")\\\n",
    "        .option(\"trustServerCertificate\", \"true\")\\\n",
    "        .option(\"dbtable\", table_name) \\\n",
    "        .option(\"user\", username) \\\n",
    "        .option(\"password\", password)\\\n",
    "        .option(\"SaveMode\", \"overWrite\").save()\n",
    "  \n"
   ]
  },
  {
   "cell_type": "code",
   "execution_count": null,
   "id": "dafe0615",
   "metadata": {
    "tags": []
   },
   "outputs": [],
   "source": [
    "print(f'Tabela {nomeTabela} criada com sucesso no banco de dados.')\n"
   ]
  },
  {
   "cell_type": "code",
   "execution_count": null,
   "id": "6de4ad95-23a6-45f1-af4d-d657f218bd8f",
   "metadata": {},
   "outputs": [],
   "source": []
  },
  {
   "cell_type": "code",
   "execution_count": null,
   "id": "38d0b40d-2a48-40ba-b895-3ad862b5ce28",
   "metadata": {},
   "outputs": [],
   "source": []
  }
 ],
 "metadata": {
  "kernelspec": {
   "display_name": "Python 3 (ipykernel)",
   "language": "python",
   "name": "python3"
  },
  "language_info": {
   "codemirror_mode": {
    "name": "ipython",
    "version": 3
   },
   "file_extension": ".py",
   "mimetype": "text/x-python",
   "name": "python",
   "nbconvert_exporter": "python",
   "pygments_lexer": "ipython3",
   "version": "3.11.3"
  }
 },
 "nbformat": 4,
 "nbformat_minor": 5
}
