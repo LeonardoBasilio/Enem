{
 "cells": [
  {
   "cell_type": "markdown",
   "id": "a31e718b-14d9-4751-9dec-71f56129a085",
   "metadata": {},
   "source": [
    "## Importação das Bibiliotecas"
   ]
  },
  {
   "cell_type": "code",
   "execution_count": 3,
   "id": "cc20c5a9-44d0-4ee3-ac2c-0f588099a1c7",
   "metadata": {
    "tags": []
   },
   "outputs": [],
   "source": [
    "from pyspark.sql import SparkSession\n",
    "import pandas as pd\n",
    "from sqlalchemy import create_engine\n",
    "import pyodbc"
   ]
  },
  {
   "cell_type": "markdown",
   "id": "a92050d4",
   "metadata": {},
   "source": [
    "## Criando uma SparkSession"
   ]
  },
  {
   "cell_type": "code",
   "execution_count": 4,
   "id": "137c301b-7b56-434b-bd08-979c6717af70",
   "metadata": {
    "tags": []
   },
   "outputs": [],
   "source": [
    "spark = SparkSession.builder.appName(\"ReadExcel\").getOrCreate()\n"
   ]
  },
  {
   "cell_type": "markdown",
   "id": "1a8ed9e6-77de-42fb-96ed-d1b23d0251a4",
   "metadata": {},
   "source": [
    "## Processo de Leitura do Excel com Dime referente ao Dados dos Participantes\n",
    "\n"
   ]
  },
  {
   "cell_type": "code",
   "execution_count": 5,
   "id": "158e76e5",
   "metadata": {
    "tags": []
   },
   "outputs": [],
   "source": [
    "#Ler o arquivo em Excel em Pandas, devido o spark não ter uma função nativda\n",
    "arqEnem = 'E:\\Estudos\\SQL\\Dime\\DIME_ENEM_PARTICIPANTES.xlsx'\n",
    "\n",
    "# Ler a aba DIME_SEXO no arquivo Excel\n",
    "dfDadosGeraisSexoPD = pd.read_excel(arqEnem, sheet_name='DIME_SEXO')\n",
    "\n",
    "# Ler a aba DIME_FAIXA_ETARIA no arquivo Excel\n",
    "dfDadosGeraisFaixaEtariaPD = pd.read_excel(arqEnem, sheet_name='DIME_FAIXA_ETARIA')\n",
    "\n",
    "# Ler a aba DIME_RACA no arquivo Excel\n",
    "dfDadosGeraisRacaPD = pd.read_excel(arqEnem, sheet_name='DIME_RACA')\n",
    "\n",
    "# Ler a aba DIME_NACIONALIDADE no arquivo Excel\n",
    "dfDadosGeraisNacionalidadePD = pd.read_excel(arqEnem, sheet_name='DIME_NACIONALIDADE')\n",
    "\n",
    "# Ler a aba DIME_SITUACAO_CONCLUSAO no arquivo Excel\n",
    "dfDadosGeraisSituacaoConclusaoPD = pd.read_excel(arqEnem, sheet_name='DIME_SITUACAO_CONCLUSAO')\n",
    "\n",
    "# Ler a aba DIME_ANO_CONCLUSAO no arquivo Excel\n",
    "dfDadosGeraisAnoConclusaoPD = pd.read_excel(arqEnem, sheet_name='DIME_ANO_CONCLUSAO')\n",
    "\n",
    "# Ler a aba DIME_ESCOLA no arquivo Excel\n",
    "dfDadosGeraisEscolaPD = pd.read_excel(arqEnem, sheet_name='DIME_ESCOLA')\n",
    "\n",
    "# Ler a aba DIME_ENSINO no arquivo Excel\n",
    "dfDadosGeraisEnsinoPD = pd.read_excel(arqEnem, sheet_name='DIME_ENSINO')\n",
    "\n",
    "# Ler a aba DIME_TREINEIRO no arquivo Excel\n",
    "dfDadosGeraisTreineiroPD = pd.read_excel(arqEnem, sheet_name='DIME_TREINEIRO')\n",
    "\n",
    "# Ler a aba DIME_ESTADO_CIVIL no arquivo Excel\n",
    "dfDadosGeraisEstadoCivilPD = pd.read_excel(arqEnem, sheet_name='DIME_ESTADO_CIVIL')"
   ]
  },
  {
   "cell_type": "code",
   "execution_count": 6,
   "id": "6d1cb04a-9f67-4caa-a1f6-bb485d4a8cf4",
   "metadata": {
    "tags": []
   },
   "outputs": [
    {
     "name": "stdout",
     "output_type": "stream",
     "text": [
      "E:\\anaconda3\\python.exe\n"
     ]
    }
   ],
   "source": [
    "#Foi necessário configurar este Path para realizar a conversão\n",
    "import os\n",
    "\n",
    "print(os.environ.get('PYSPARK_PYTHON'))\n"
   ]
  },
  {
   "cell_type": "code",
   "execution_count": 7,
   "id": "83f2cd6e",
   "metadata": {
    "tags": []
   },
   "outputs": [],
   "source": [
    "# Se você já tem um DataFrame do Pandas, pode converter diretamente para um DataFrame do Spark usando o método createDataFrame do SparkSession\n",
    "dfDadosGeraisSexoSP              = spark.createDataFrame(dfDadosGeraisSexoPD)\n",
    "dfDadosGeraisFaixaEtariaSP       = spark.createDataFrame(dfDadosGeraisFaixaEtariaPD)\n",
    "dfDadosGeraisRacaSP              = spark.createDataFrame(dfDadosGeraisRacaPD)\n",
    "dfDadosGeraisNacionalidadeSP     = spark.createDataFrame(dfDadosGeraisNacionalidadePD)\n",
    "dfDadosGeraisSituacaoConclusaoSP = spark.createDataFrame(dfDadosGeraisSituacaoConclusaoPD)\n",
    "dfDadosGeraisAnoConclusaoSP      = spark.createDataFrame(dfDadosGeraisAnoConclusaoPD)\n",
    "dfDadosGeraisEscolaSP            = spark.createDataFrame(dfDadosGeraisEscolaPD)\n",
    "dfDadosGeraisEnsinoSP            = spark.createDataFrame(dfDadosGeraisEnsinoPD)\n",
    "dfDadosGeraisTreineiroSP         = spark.createDataFrame(dfDadosGeraisTreineiroPD)\n",
    "dfDadosGeraisEstadoCivilSP       = spark.createDataFrame(dfDadosGeraisEstadoCivilPD)\n",
    "  \n",
    "\n"
   ]
  },
  {
   "cell_type": "code",
   "execution_count": 8,
   "id": "a0ddb3df",
   "metadata": {
    "tags": []
   },
   "outputs": [],
   "source": [
    "dfDadosGeraisSexoSP              = dfDadosGeraisSexoSP.fillna(-2)               # Preenche com -2(sem ref), por exemplo\n",
    "dfDadosGeraisFaixaEtariaSP       = dfDadosGeraisFaixaEtariaSP.fillna(-2)        # Preenche com -2(sem ref), por exemplo\n",
    "dfDadosGeraisRacaSP              = dfDadosGeraisRacaSP.fillna(-2)               # Preenche com -2(sem ref), por exemplo\n",
    "dfDadosGeraisNacionalidadeSP     = dfDadosGeraisNacionalidadeSP.fillna(-2)      # Preenche com -2(sem ref), por exemplo\n",
    "dfDadosGeraisSituacaoConclusaoSP = dfDadosGeraisSituacaoConclusaoSP.fillna(-2)  # Preenche com -2(sem ref), por exemplo\n",
    "dfDadosGeraisAnoConclusaoSP      = dfDadosGeraisAnoConclusaoSP.fillna(-2)       # Preenche com -2(sem ref), por exemplo\n",
    "dfDadosGeraisEscolaSP            = dfDadosGeraisEscolaSP.fillna(-2)             # Preenche com -2(sem ref), por exemplo\n",
    "dfDadosGeraisEnsinoSP            = dfDadosGeraisEnsinoSP.fillna(-2)             # Preenche com -2(sem ref), por exemplo\n",
    "dfDadosGeraisTreineiroSP         = dfDadosGeraisTreineiroSP.fillna(-2)          # Preenche com -2(sem ref), por exemplo\n",
    "dfDadosGeraisEstadoCivilSP       = dfDadosGeraisEstadoCivilSP.fillna(-2)        # Preenche com -2(sem ref), por exemplo\n"
   ]
  },
  {
   "cell_type": "code",
   "execution_count": 9,
   "id": "a5fcd5bb-d9a2-490e-95b4-e16076cf4fcd",
   "metadata": {
    "tags": []
   },
   "outputs": [],
   "source": [
    "df = [dfDadosGeraisSexoSP,             \n",
    "dfDadosGeraisFaixaEtariaSP,      \n",
    "dfDadosGeraisRacaSP,             \n",
    "dfDadosGeraisNacionalidadeSP,    \n",
    "dfDadosGeraisSituacaoConclusaoSP,\n",
    "dfDadosGeraisAnoConclusaoSP,     \n",
    "dfDadosGeraisEscolaSP,           \n",
    "dfDadosGeraisEnsinoSP,           \n",
    "dfDadosGeraisTreineiroSP,\n",
    "dfDadosGeraisEstadoCivilSP]"
   ]
  },
  {
   "cell_type": "markdown",
   "id": "1d1ed5ca",
   "metadata": {},
   "source": [
    "# Salvar em SQL \n",
    "Salvar os dados em uma tabela SQL\n"
   ]
  },
  {
   "cell_type": "markdown",
   "id": "0f1deb1f",
   "metadata": {},
   "source": [
    "## Parametrizando a conexão do Banco SQL SERVER Usando JDBC"
   ]
  },
  {
   "cell_type": "code",
   "execution_count": 10,
   "id": "9e7396db",
   "metadata": {
    "tags": []
   },
   "outputs": [
    {
     "name": "stdout",
     "output_type": "stream",
     "text": [
      "jdbc:sqlserver://NOTEBOOK-LEO:1433;databaseName=Enem;\n"
     ]
    }
   ],
   "source": [
    "server_name = \"jdbc:sqlserver://NOTEBOOK-LEO:1433\"\n",
    "database_name = \"Enem\"\n",
    "username = \"bi_leonardobo\"\n",
    "password = \"0000\"\n",
    "url = server_name + \";\" + \"databaseName=\" + database_name + \";\"\n",
    "print(url)\n"
   ]
  },
  {
   "cell_type": "code",
   "execution_count": 11,
   "id": "95ecd806-ef8a-4f04-8ac3-5b5a6c57b854",
   "metadata": {
    "tags": []
   },
   "outputs": [],
   "source": [
    "# Nome das tabelas que serão criadas\n",
    "\n",
    "Tabelas = [\n",
    "    \"DimeSexo\",\n",
    "    \"DimeFaixaEtaria\",\n",
    "    \"DimeRaca\",\n",
    "    \"DimeNacionalidade\",\n",
    "    \"DimeSituacaoConclusao\",\n",
    "    \"DimeAnoConclusao\",\n",
    "    \"DimeEscola\",\n",
    "    \"DimeEnsino\",\n",
    "    \"DimeTreineiro\",\n",
    "    \"DimeEstadoCivil\"\n",
    "]\n"
   ]
  },
  {
   "cell_type": "code",
   "execution_count": 12,
   "id": "6f3a8e0f-907e-4a25-aee7-793eac934db9",
   "metadata": {
    "tags": []
   },
   "outputs": [],
   "source": [
    "# Configurações do banco de dados em ODBC para dropar\n",
    "server_name = \"NOTEBOOK-LEO\\\\SQLEXPRESS\"\n",
    " \n",
    "# Conecte-se ao banco de dados usando pyodbc\n",
    "conn = pyodbc.connect(f\"Driver={{SQL Server}};Server={server_name};Database={database_name};UID={username};PWD={password}\")\n",
    "i = 0\n",
    "while i < len(Tabelas):\n",
    "# Crie um cursor\n",
    "    cursor = conn.cursor()\n",
    "    Tabela_atual = Tabelas[i]\n",
    "# Execute a operação DROP TABLE na tabela 'Participantes'\n",
    "    truncate_query = f\"IF OBJECT_ID('{Tabela_atual}', 'U') IS NOT NULL DROP TABLE {Tabela_atual}\"\n",
    "    cursor.execute(truncate_query)\n",
    "    #print(truncate_query)\n",
    "# Commit as alterações no banco de dados\n",
    "    conn.commit()\n",
    "    i += 1\n",
    "          "
   ]
  },
  {
   "cell_type": "code",
   "execution_count": 13,
   "id": "5e87ccad-a1e1-47ef-acc7-dfd6bfc677c8",
   "metadata": {
    "tags": []
   },
   "outputs": [],
   "source": [
    "# Escreva os novos dados nas Dimes usando a conexão JDBC\n",
    "\n",
    "i = 0\n",
    "while i < len(Tabelas):\n",
    "    Tabela_Atual = Tabelas[i]\n",
    "    df_atual     = df[i]    \n",
    "    df_atual.write \\\n",
    "                .format(\"jdbc\") \\\n",
    "                .option(\"url\", url) \\\n",
    "                .option(\"driver\",\"com.microsoft.sqlserver.jdbc.SQLServerDriver\")\\\n",
    "                .option(\"ssl\", \"true\")\\\n",
    "                .option(\"trustServerCertificate\", \"true\")\\\n",
    "                .option(\"dbtable\", Tabela_Atual) \\\n",
    "                .option(\"user\", username) \\\n",
    "                .option(\"password\", password)\\\n",
    "                .option(\"SaveMode\", \"overWrite\").save()\n",
    "    i += 1"
   ]
  }
 ],
 "metadata": {
  "kernelspec": {
   "display_name": "Python 3 (ipykernel)",
   "language": "python",
   "name": "python3"
  },
  "language_info": {
   "codemirror_mode": {
    "name": "ipython",
    "version": 3
   },
   "file_extension": ".py",
   "mimetype": "text/x-python",
   "name": "python",
   "nbconvert_exporter": "python",
   "pygments_lexer": "ipython3",
   "version": "3.11.3"
  }
 },
 "nbformat": 4,
 "nbformat_minor": 5
}
