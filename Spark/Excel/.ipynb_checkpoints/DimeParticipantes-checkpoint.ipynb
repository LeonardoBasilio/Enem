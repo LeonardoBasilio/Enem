{
 "cells": [
  {
   "cell_type": "markdown",
   "id": "a31e718b-14d9-4751-9dec-71f56129a085",
   "metadata": {},
   "source": [
    "## Importação das Bibiliotecas"
   ]
  },
  {
   "cell_type": "code",
   "execution_count": 1,
   "id": "cc20c5a9-44d0-4ee3-ac2c-0f588099a1c7",
   "metadata": {
    "tags": []
   },
   "outputs": [],
   "source": [
    "from pyspark.sql import SparkSession\n",
    "import pandas as pd\n",
    "from sqlalchemy import create_engine\n",
    "import pyodbc"
   ]
  },
  {
   "cell_type": "markdown",
   "id": "a92050d4",
   "metadata": {},
   "source": [
    "## Criando uma SparkSession"
   ]
  },
  {
   "cell_type": "code",
   "execution_count": 2,
   "id": "137c301b-7b56-434b-bd08-979c6717af70",
   "metadata": {
    "tags": []
   },
   "outputs": [],
   "source": [
    "spark = SparkSession.builder.appName(\"ReadExcel\").getOrCreate()\n"
   ]
  },
  {
   "cell_type": "markdown",
   "id": "1a8ed9e6-77de-42fb-96ed-d1b23d0251a4",
   "metadata": {},
   "source": [
    "## Processo de Leitura do Excel com Dime referente ao Dados dos Participantes\n",
    "\n"
   ]
  },
  {
   "cell_type": "code",
   "execution_count": 3,
   "id": "158e76e5",
   "metadata": {
    "tags": []
   },
   "outputs": [],
   "source": [
    "#Ler o arquivo em Excel em Pandas, devido o spark não ter uma função nativda\n",
    "arqEnem = 'E:\\Estudos\\SQL\\Dime\\DIME_ENEM_PARTICIPANTES.xlsx'\n",
    "\n",
    "# Ler o arquivo Excel\n",
    "dfDadosGeraisPD = pd.read_excel(arqEnem, sheet_name='DIME_SEXO')\n"
   ]
  },
  {
   "cell_type": "code",
   "execution_count": 4,
   "id": "fd928140",
   "metadata": {
    "tags": []
   },
   "outputs": [
    {
     "name": "stdout",
     "output_type": "stream",
     "text": [
      "  TP_SEXO_ID TP_SEXO_DESCRICAO\n",
      "0          M         Masculino\n",
      "1          F         Feminino \n"
     ]
    }
   ],
   "source": [
    "print(dfDadosGeraisPD)"
   ]
  },
  {
   "cell_type": "code",
   "execution_count": 10,
   "id": "6d1cb04a-9f67-4caa-a1f6-bb485d4a8cf4",
   "metadata": {
    "tags": []
   },
   "outputs": [
    {
     "name": "stdout",
     "output_type": "stream",
     "text": [
      "E:\\anaconda3\\python.exe\n"
     ]
    }
   ],
   "source": [
    "#Foi necessário configurar este Path para realizar a conversão\n",
    "import os\n",
    "\n",
    "print(os.environ.get('PYSPARK_PYTHON'))\n"
   ]
  },
  {
   "cell_type": "code",
   "execution_count": 11,
   "id": "83f2cd6e",
   "metadata": {
    "tags": []
   },
   "outputs": [
    {
     "name": "stdout",
     "output_type": "stream",
     "text": [
      "+----------+-----------------+\n",
      "|TP_SEXO_ID|TP_SEXO_DESCRICAO|\n",
      "+----------+-----------------+\n",
      "|         M|        Masculino|\n",
      "|         F|        Feminino |\n",
      "+----------+-----------------+\n",
      "\n"
     ]
    }
   ],
   "source": [
    "# Se você já tem um DataFrame do Pandas, pode converter diretamente para um DataFrame do Spark usando o método createDataFrame do SparkSession\n",
    "dfDadosGerais = spark.createDataFrame(dfDadosGeraisPD)\n",
    "dfDadosGerais.show()\n",
    "\n",
    "\n"
   ]
  },
  {
   "cell_type": "code",
   "execution_count": 15,
   "id": "a0ddb3df",
   "metadata": {
    "tags": []
   },
   "outputs": [],
   "source": [
    "dfPreencher = dfDadosGerais.fillna(-2)  # Preenche com -2(sem ref), por exemplo\n"
   ]
  },
  {
   "cell_type": "markdown",
   "id": "1d1ed5ca",
   "metadata": {},
   "source": [
    "# Salvar em SQL \n",
    "Salvar os dados em uma tabela SQL\n"
   ]
  },
  {
   "cell_type": "markdown",
   "id": "0f1deb1f",
   "metadata": {},
   "source": [
    "## Parametrizando a conexão do Banco SQL SERVER Usando JDBC"
   ]
  },
  {
   "cell_type": "code",
   "execution_count": 16,
   "id": "9e7396db",
   "metadata": {
    "tags": []
   },
   "outputs": [
    {
     "name": "stdout",
     "output_type": "stream",
     "text": [
      "jdbc:sqlserver://NOTEBOOK-LEO:1433;databaseName=Enem;\n"
     ]
    }
   ],
   "source": [
    "server_name = \"jdbc:sqlserver://NOTEBOOK-LEO:1433\"\n",
    "database_name = \"Enem\"\n",
    "table_name = \"DimeSexo\"\n",
    "username = \"bi_leonardobo\"\n",
    "password = \"0000\"\n",
    "url = server_name + \";\" + \"databaseName=\" + database_name + \";\"\n",
    "print(url)\n"
   ]
  },
  {
   "cell_type": "code",
   "execution_count": 17,
   "id": "45262d43",
   "metadata": {
    "tags": []
   },
   "outputs": [],
   "source": [
    "# Nome da nova tabela que será criada\n",
    "nomeTabela = table_name"
   ]
  },
  {
   "cell_type": "code",
   "execution_count": 18,
   "id": "6f3a8e0f-907e-4a25-aee7-793eac934db9",
   "metadata": {
    "tags": []
   },
   "outputs": [],
   "source": [
    "# Configurações do banco de dados em ODBC para dropar\n",
    "server_name = \"NOTEBOOK-LEO\\\\SQLEXPRESS\"\n",
    " \n",
    "# Conecte-se ao banco de dados usando pyodbc\n",
    "conn = pyodbc.connect(f\"Driver={{SQL Server}};Server={server_name};Database={database_name};UID={username};PWD={password}\")\n",
    "\n",
    "# Crie um cursor\n",
    "cursor = conn.cursor()\n",
    "\n",
    "# Execute a operação DROP TABLE na tabela 'Participantes'\n",
    "truncate_query = f\"IF OBJECT_ID('{table_name}', 'U') IS NOT NULL DROP TABLE {table_name}\"\n",
    "cursor.execute(truncate_query)\n",
    "\n",
    "# Commit as alterações no banco de dados\n",
    "conn.commit()"
   ]
  },
  {
   "cell_type": "code",
   "execution_count": 19,
   "id": "5e87ccad-a1e1-47ef-acc7-dfd6bfc677c8",
   "metadata": {
    "tags": []
   },
   "outputs": [],
   "source": [
    "# Escreva os novos dados em 'Participantes' usando a conexão JDBC\n",
    "dfPreencher.write \\\n",
    "        .format(\"jdbc\") \\\n",
    "        .option(\"url\", url) \\\n",
    "        .option(\"driver\",\"com.microsoft.sqlserver.jdbc.SQLServerDriver\")\\\n",
    "        .option(\"ssl\", \"true\")\\\n",
    "        .option(\"trustServerCertificate\", \"true\")\\\n",
    "        .option(\"dbtable\", table_name) \\\n",
    "        .option(\"user\", username) \\\n",
    "        .option(\"password\", password)\\\n",
    "        .option(\"SaveMode\", \"overWrite\").save()\n",
    "  \n"
   ]
  },
  {
   "cell_type": "code",
   "execution_count": 20,
   "id": "dafe0615",
   "metadata": {
    "tags": []
   },
   "outputs": [
    {
     "name": "stdout",
     "output_type": "stream",
     "text": [
      "Tabela DimeSexo criada com sucesso no banco de dados.\n"
     ]
    }
   ],
   "source": [
    "print(f'Tabela {nomeTabela} criada com sucesso no banco de dados.')\n"
   ]
  },
  {
   "cell_type": "code",
   "execution_count": null,
   "id": "6de4ad95-23a6-45f1-af4d-d657f218bd8f",
   "metadata": {},
   "outputs": [],
   "source": []
  },
  {
   "cell_type": "code",
   "execution_count": null,
   "id": "6f0f3e90-7219-41ff-84b7-b27bb88d246f",
   "metadata": {},
   "outputs": [],
   "source": []
  }
 ],
 "metadata": {
  "kernelspec": {
   "display_name": "Python 3 (ipykernel)",
   "language": "python",
   "name": "python3"
  },
  "language_info": {
   "codemirror_mode": {
    "name": "ipython",
    "version": 3
   },
   "file_extension": ".py",
   "mimetype": "text/x-python",
   "name": "python",
   "nbconvert_exporter": "python",
   "pygments_lexer": "ipython3",
   "version": "3.11.3"
  }
 },
 "nbformat": 4,
 "nbformat_minor": 5
}
