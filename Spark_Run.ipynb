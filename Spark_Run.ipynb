{
 "cells": [
  {
   "cell_type": "markdown",
   "metadata": {},
   "source": [
    "#### Cria Sessão do Spark"
   ]
  },
  {
   "cell_type": "code",
   "execution_count": 5,
   "metadata": {},
   "outputs": [],
   "source": [
    "import os\n"
   ]
  },
  {
   "cell_type": "code",
   "execution_count": 18,
   "metadata": {},
   "outputs": [
    {
     "name": "stdout",
     "output_type": "stream",
     "text": [
      "Caminho atual: /app\n"
     ]
    }
   ],
   "source": [
    "# Obtém o caminho atual do usuário\n",
    "caminho_atual = os.getcwd()\n",
    "\n",
    "print(\"Caminho atual:\", caminho_atual)"
   ]
  },
  {
   "cell_type": "code",
   "execution_count": 21,
   "metadata": {},
   "outputs": [
    {
     "name": "stdout",
     "output_type": "stream",
     "text": [
      "Caminho até 'app': /app\n"
     ]
    }
   ],
   "source": [
    "# Encontre a posição da palavra \"\\Enem\" no caminho\n",
    "posicao = caminho_atual.find(\"app\")\n",
    "\n",
    "# Se o caminho \"\\Enem\" foi encontrado\n",
    "if posicao != -1:\n",
    "    # Extraia a substring até a posição de \"\\Enem\" e adicione o comprimento de \"\\Enem\" para incluir esse texto no caminho\n",
    "    caminho_enem = caminho_atual[:posicao + len(\"app\")]\n",
    "    print(\"Caminho até 'app':\", caminho_enem)\n",
    "else:\n",
    "    print(\"O caminho 'app' não foi encontrado.\")"
   ]
  },
  {
   "cell_type": "code",
   "execution_count": 22,
   "metadata": {},
   "outputs": [],
   "source": [
    "caminho_enem = caminho_enem + \"\\\\src\""
   ]
  },
  {
   "cell_type": "code",
   "execution_count": 27,
   "metadata": {},
   "outputs": [],
   "source": [
    "#Configuração dos Path's\n",
    "\n",
    "#os.environ[\"JAVA_HOME\"] = caminho_enem + \"\\\\Java\\\\jdk-17\\\\jdk-17.0.8\"\n",
    "os.environ[\"SPARK_HOME\"] = caminho_enem + \"/Spark/spark-3.4.1-bin-hadoop3-scala2.13\"\n",
    "os.environ['HADOOP_HOME'] = os.path.join(os.environ[\"SPARK_HOME\"], \"/hadoop\")\n",
    "os.environ[\"PYTHONPATH\"] = os.path.join(os.environ[\"SPARK_HOME\"], \"python/lib/py4j-0.10.9.5-src.zip\")"
   ]
  },
  {
   "cell_type": "code",
   "execution_count": null,
   "metadata": {},
   "outputs": [],
   "source": [
    "#Configuração dos Path's\n",
    "\n",
    "#os.environ[\"JAVA_HOME\"]  =  \"C:\\\\Java\\\\jdk-17\\\\jdk-17.0.8\"\n",
    "#os.environ[\"SPARK_HOME\"] =  \"C:\\\\Spark\\\\spark-3.4.1-bin-hadoop3-scala2.13\"\n",
    "#os.environ['HADOOP_HOME'] = \"C:\\\\Spark\\\\spark-3.4.1-bin-hadoop3-scala2.13\\\\hadoop\"\n",
    "#os.environ[\"PYTHONPATH\"] = r\"C:\\Spark\\spark-3.2.4-bin-hadoop2.7.2\\python\\lib\\py4j-0.10.9.5-src.zip\""
   ]
  },
  {
   "cell_type": "code",
   "execution_count": 28,
   "metadata": {},
   "outputs": [
    {
     "ename": "Exception",
     "evalue": "Unable to find py4j in /app\\src/Spark/spark-3.4.1-bin-hadoop3-scala2.13/python, your SPARK_HOME may not be configured correctly",
     "output_type": "error",
     "traceback": [
      "\u001b[0;31m---------------------------------------------------------------------------\u001b[0m",
      "\u001b[0;31mIndexError\u001b[0m                                Traceback (most recent call last)",
      "File \u001b[0;32m/usr/local/lib/python3.9/site-packages/findspark.py:159\u001b[0m, in \u001b[0;36minit\u001b[0;34m(spark_home, python_path, edit_rc, edit_profile)\u001b[0m\n\u001b[1;32m    158\u001b[0m \u001b[39mtry\u001b[39;00m:\n\u001b[0;32m--> 159\u001b[0m     py4j \u001b[39m=\u001b[39m glob(os\u001b[39m.\u001b[39;49mpath\u001b[39m.\u001b[39;49mjoin(spark_python, \u001b[39m\"\u001b[39;49m\u001b[39mlib\u001b[39;49m\u001b[39m\"\u001b[39;49m, \u001b[39m\"\u001b[39;49m\u001b[39mpy4j-*.zip\u001b[39;49m\u001b[39m\"\u001b[39;49m))[\u001b[39m0\u001b[39;49m]\n\u001b[1;32m    160\u001b[0m \u001b[39mexcept\u001b[39;00m \u001b[39mIndexError\u001b[39;00m:\n",
      "\u001b[0;31mIndexError\u001b[0m: list index out of range",
      "\nDuring handling of the above exception, another exception occurred:\n",
      "\u001b[0;31mException\u001b[0m                                 Traceback (most recent call last)",
      "\u001b[1;32mc:\\Users\\leoba\\Documents\\Enem\\Spark_Run.ipynb Cell 8\u001b[0m line \u001b[0;36m3\n\u001b[1;32m      <a href='vscode-notebook-cell:/c%3A/Users/leoba/Documents/Enem/Spark_Run.ipynb#X10sZmlsZQ%3D%3D?line=0'>1</a>\u001b[0m \u001b[39m# Avalia se conseguiu localizar o spark\u001b[39;00m\n\u001b[1;32m      <a href='vscode-notebook-cell:/c%3A/Users/leoba/Documents/Enem/Spark_Run.ipynb#X10sZmlsZQ%3D%3D?line=1'>2</a>\u001b[0m \u001b[39mimport\u001b[39;00m \u001b[39mfindspark\u001b[39;00m\n\u001b[0;32m----> <a href='vscode-notebook-cell:/c%3A/Users/leoba/Documents/Enem/Spark_Run.ipynb#X10sZmlsZQ%3D%3D?line=2'>3</a>\u001b[0m findspark\u001b[39m.\u001b[39;49minit()\n",
      "File \u001b[0;32m/usr/local/lib/python3.9/site-packages/findspark.py:161\u001b[0m, in \u001b[0;36minit\u001b[0;34m(spark_home, python_path, edit_rc, edit_profile)\u001b[0m\n\u001b[1;32m    159\u001b[0m         py4j \u001b[39m=\u001b[39m glob(os\u001b[39m.\u001b[39mpath\u001b[39m.\u001b[39mjoin(spark_python, \u001b[39m\"\u001b[39m\u001b[39mlib\u001b[39m\u001b[39m\"\u001b[39m, \u001b[39m\"\u001b[39m\u001b[39mpy4j-*.zip\u001b[39m\u001b[39m\"\u001b[39m))[\u001b[39m0\u001b[39m]\n\u001b[1;32m    160\u001b[0m     \u001b[39mexcept\u001b[39;00m \u001b[39mIndexError\u001b[39;00m:\n\u001b[0;32m--> 161\u001b[0m         \u001b[39mraise\u001b[39;00m \u001b[39mException\u001b[39;00m(\n\u001b[1;32m    162\u001b[0m             \u001b[39m\"\u001b[39m\u001b[39mUnable to find py4j in \u001b[39m\u001b[39m{}\u001b[39;00m\u001b[39m, your SPARK_HOME may not be configured correctly\u001b[39m\u001b[39m\"\u001b[39m\u001b[39m.\u001b[39mformat(\n\u001b[1;32m    163\u001b[0m                 spark_python\n\u001b[1;32m    164\u001b[0m             )\n\u001b[1;32m    165\u001b[0m         )\n\u001b[1;32m    166\u001b[0m     sys\u001b[39m.\u001b[39mpath[:\u001b[39m0\u001b[39m] \u001b[39m=\u001b[39m sys_path \u001b[39m=\u001b[39m [spark_python, py4j]\n\u001b[1;32m    167\u001b[0m \u001b[39melse\u001b[39;00m:\n\u001b[1;32m    168\u001b[0m     \u001b[39m# already imported, no need to patch sys.path\u001b[39;00m\n",
      "\u001b[0;31mException\u001b[0m: Unable to find py4j in /app\\src/Spark/spark-3.4.1-bin-hadoop3-scala2.13/python, your SPARK_HOME may not be configured correctly"
     ]
    }
   ],
   "source": [
    "# Avalia se conseguiu localizar o spark\n",
    "import findspark\n",
    "findspark.init()"
   ]
  },
  {
   "cell_type": "markdown",
   "metadata": {},
   "source": []
  },
  {
   "cell_type": "code",
   "execution_count": null,
   "metadata": {},
   "outputs": [],
   "source": [
    "from pyspark.sql import SparkSession\n",
    "spark = SparkSession.builder.master('local[*]').getOrCreate()\n"
   ]
  }
 ],
 "metadata": {
  "kernelspec": {
   "display_name": "python_docker",
   "language": "python",
   "name": "python_docker"
  },
  "language_info": {
   "codemirror_mode": {
    "name": "ipython",
    "version": 3
   },
   "file_extension": ".py",
   "mimetype": "text/x-python",
   "name": "python",
   "nbconvert_exporter": "python",
   "pygments_lexer": "ipython3",
   "version": "3.9.18"
  },
  "orig_nbformat": 4
 },
 "nbformat": 4,
 "nbformat_minor": 2
}
