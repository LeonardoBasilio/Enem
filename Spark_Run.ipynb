{
 "cells": [
  {
   "cell_type": "markdown",
   "metadata": {},
   "source": [
    "#### Cria Sessão do Spark"
   ]
  },
  {
   "cell_type": "code",
   "execution_count": 7,
   "metadata": {},
   "outputs": [],
   "source": [
    "import os\n"
   ]
  },
  {
   "cell_type": "code",
   "execution_count": 8,
   "metadata": {},
   "outputs": [
    {
     "name": "stdout",
     "output_type": "stream",
     "text": [
      "Caminho atual: c:\\Users\\leoba\\Documents\\Enem\\Notebooks\\PYSpark\n"
     ]
    }
   ],
   "source": [
    "# Obtém o caminho atual do usuário\n",
    "caminho_atual = os.getcwd()\n",
    "\n",
    "print(\"Caminho atual:\", caminho_atual)"
   ]
  },
  {
   "cell_type": "code",
   "execution_count": 16,
   "metadata": {},
   "outputs": [
    {
     "name": "stdout",
     "output_type": "stream",
     "text": [
      "Caminho até '\\Enem': c:\\Users\\leoba\\Documents\\Enem\n"
     ]
    }
   ],
   "source": [
    "# Encontre a posição da palavra \"\\Enem\" no caminho\n",
    "posicao = caminho_atual.find(\"\\\\Enem\")\n",
    "\n",
    "# Se o caminho \"\\Enem\" foi encontrado\n",
    "if posicao != -1:\n",
    "    # Extraia a substring até a posição de \"\\Enem\" e adicione o comprimento de \"\\Enem\" para incluir esse texto no caminho\n",
    "    caminho_enem = caminho_atual[:posicao + len(\"\\\\Enem\")]\n",
    "    print(\"Caminho até '\\\\Enem':\", caminho_enem)\n",
    "else:\n",
    "    print(\"O caminho '\\\\Enem' não foi encontrado.\")"
   ]
  },
  {
   "cell_type": "code",
   "execution_count": 17,
   "metadata": {},
   "outputs": [],
   "source": [
    "caminho_enem = caminho_enem + \"\\\\src\""
   ]
  },
  {
   "cell_type": "code",
   "execution_count": 19,
   "metadata": {},
   "outputs": [],
   "source": [
    "#Configuração dos Path's\n",
    "\n",
    "os.environ[\"JAVA_HOME\"] = caminho_enem + \"\\\\Java\\\\jdk-17\\\\jdk-17.0.8\"\n",
    "os.environ[\"SPARK_HOME\"] = caminho_enem + \"\\\\Spark\\\\spark-3.4.1-bin-hadoop3-scala2.13\"\n",
    "os.environ['HADOOP_HOME'] = os.path.join(os.environ[\"SPARK_HOME\"], \"/hadoop\")\n",
    "os.environ[\"PYTHONPATH\"] = os.path.join(os.environ[\"SPARK_HOME\"], \"python\\lib\\py4j-0.10.9.5-src.zip\")"
   ]
  },
  {
   "cell_type": "code",
   "execution_count": 5,
   "metadata": {},
   "outputs": [],
   "source": [
    "#Configuração dos Path's\n",
    "\n",
    "#os.environ[\"JAVA_HOME\"]  =  \"C:\\\\Java\\\\jdk-17\\\\jdk-17.0.8\"\n",
    "#os.environ[\"SPARK_HOME\"] =  \"C:\\\\Spark\\\\spark-3.4.1-bin-hadoop3-scala2.13\"\n",
    "#os.environ['HADOOP_HOME'] = \"C:\\\\Spark\\\\spark-3.4.1-bin-hadoop3-scala2.13\\\\hadoop\"\n",
    "#os.environ[\"PYTHONPATH\"] = r\"C:\\Spark\\spark-3.2.4-bin-hadoop2.7.2\\python\\lib\\py4j-0.10.9.5-src.zip\""
   ]
  },
  {
   "cell_type": "code",
   "execution_count": 20,
   "metadata": {},
   "outputs": [],
   "source": [
    "# Avalia se conseguiu localizar o spark\n",
    "import findspark\n",
    "findspark.init()"
   ]
  },
  {
   "cell_type": "markdown",
   "metadata": {},
   "source": []
  },
  {
   "cell_type": "code",
   "execution_count": 21,
   "metadata": {},
   "outputs": [],
   "source": [
    "from pyspark.sql import SparkSession\n",
    "spark = SparkSession.builder.master('local[*]').getOrCreate()\n"
   ]
  }
 ],
 "metadata": {
  "kernelspec": {
   "display_name": "mEnem",
   "language": "python",
   "name": "python3"
  },
  "language_info": {
   "codemirror_mode": {
    "name": "ipython",
    "version": 3
   },
   "file_extension": ".py",
   "mimetype": "text/x-python",
   "name": "python",
   "nbconvert_exporter": "python",
   "pygments_lexer": "ipython3",
   "version": "3.11.4"
  },
  "orig_nbformat": 4
 },
 "nbformat": 4,
 "nbformat_minor": 2
}
