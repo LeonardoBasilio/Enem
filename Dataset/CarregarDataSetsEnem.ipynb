{
 "cells": [
  {
   "cell_type": "markdown",
   "id": "a31e718b-14d9-4751-9dec-71f56129a085",
   "metadata": {},
   "source": [
    "## Importação das Bibiliotecas"
   ]
  },
  {
   "cell_type": "code",
   "execution_count": 2,
   "id": "cc20c5a9-44d0-4ee3-ac2c-0f588099a1c7",
   "metadata": {
    "tags": []
   },
   "outputs": [],
   "source": [
    "from pyspark.sql import SparkSession\n",
    "import pandas as pd\n",
    "from sqlalchemy import create_engine\n",
    "import pyodbc\n",
    "import os\n",
    "import numpy\n",
    "import spark"
   ]
  },
  {
   "cell_type": "code",
   "execution_count": 2,
   "id": "0f5fa1a0-9b49-472f-9cb3-268867a02c66",
   "metadata": {
    "tags": []
   },
   "outputs": [],
   "source": [
    "\n",
    "# Defina o HADOOP_HsOME e o HADOOP_HOME_DIR para evitar erros\n",
    "os.environ['HADOOP_HOME'] = r'C:\\Users\\leoba\\Documents\\Enem'\n",
    "os.environ['HADOOP_HOME_DIR'] = r'C:\\Users\\leoba\\Documents\\Enem'\n"
   ]
  },
  {
   "cell_type": "markdown",
   "id": "a92050d4",
   "metadata": {},
   "source": [
    "## Criando uma SparkSession"
   ]
  },
  {
   "cell_type": "code",
   "execution_count": 3,
   "id": "137c301b-7b56-434b-bd08-979c6717af70",
   "metadata": {},
   "outputs": [],
   "source": [
    "spark = SparkSession.builder.appName(\"LerDadosEnem\").getOrCreate()\n"
   ]
  },
  {
   "cell_type": "markdown",
   "id": "1a8ed9e6-77de-42fb-96ed-d1b23d0251a4",
   "metadata": {},
   "source": [
    "## Processo de Leitura do CSV de Participantes\n"
   ]
  },
  {
   "cell_type": "code",
   "execution_count": 4,
   "id": "a587bec3",
   "metadata": {},
   "outputs": [
    {
     "ename": "NameError",
     "evalue": "name '__file__' is not defined",
     "output_type": "error",
     "traceback": [
      "\u001b[1;31m---------------------------------------------------------------------------\u001b[0m",
      "\u001b[1;31mNameError\u001b[0m                                 Traceback (most recent call last)",
      "Cell \u001b[1;32mIn[4], line 2\u001b[0m\n\u001b[0;32m      1\u001b[0m \u001b[39m# Diretório do script Python em execução\u001b[39;00m\n\u001b[1;32m----> 2\u001b[0m diretorio_script \u001b[39m=\u001b[39m os\u001b[39m.\u001b[39mpath\u001b[39m.\u001b[39mdirname(os\u001b[39m.\u001b[39mpath\u001b[39m.\u001b[39mabspath(\u001b[39m__file__\u001b[39m))\n\u001b[0;32m      3\u001b[0m \u001b[39mprint\u001b[39m(diretorio_script)\n",
      "\u001b[1;31mNameError\u001b[0m: name '__file__' is not defined"
     ]
    }
   ],
   "source": [
    "# Diretório do seu projeto (ajuste conforme necessário)..\n",
    "diretorio_projeto = r'C:\\Caminho\\Para\\O\\Seu\\Projeto'\n",
    "\n",
    "# Diretório do script Python em execução\n",
    "diretorio_script = os.path.dirname(os.path."
   ]
  },
  {
   "cell_type": "code",
   "execution_count": 11,
   "id": "d274d98f-6627-4353-bcd9-1ff60159564f",
   "metadata": {
    "tags": []
   },
   "outputs": [],
   "source": [
    "#Path dos arquivos\n",
    "\n",
    "caminho_arquivo = r'Model\\MICRODADOS_ENEM_MODEL.CSV'\n"
   ]
  },
  {
   "cell_type": "code",
   "execution_count": 12,
   "id": "326d8fa5",
   "metadata": {},
   "outputs": [],
   "source": [
    "#Função Paa ler os arquivos CSV\n",
    "def lerCSV(spark, caminho_arquivo):\n",
    "    df = spark.read.csv(caminho_arquivo, sep=';', header=True, inferSchema=True, encoding='ISO-8859-1')\n",
    "    colunas_selecionadas = df.columns[:12]\n",
    "    return df.select(colunas_selecionadas)\n"
   ]
  },
  {
   "cell_type": "code",
   "execution_count": 13,
   "id": "8b889869-4d51-4802-9259-f27d6fb5db0b",
   "metadata": {
    "tags": []
   },
   "outputs": [],
   "source": [
    "##Chama função quer ler o arquivo CSV e Transforma para DF.SPARK\n",
    "\n",
    "dfDadosParticipantes = lerCSV(spark, caminho_arquivo)\n",
    "\n"
   ]
  },
  {
   "cell_type": "code",
   "execution_count": 15,
   "id": "55e1e0ae",
   "metadata": {},
   "outputs": [
    {
     "name": "stdout",
     "output_type": "stream",
     "text": [
      "+------------+------+---------------+-------+---------------+-----------+----------------+---------------+---------------+---------+---------+------------+\n",
      "|NU_INSCRICAO|NU_ANO|TP_FAIXA_ETARIA|TP_SEXO|TP_ESTADO_CIVIL|TP_COR_RACA|TP_NACIONALIDADE|TP_ST_CONCLUSAO|TP_ANO_CONCLUIU|TP_ESCOLA|TP_ENSINO|IN_TREINEIRO|\n",
      "+------------+------+---------------+-------+---------------+-----------+----------------+---------------+---------------+---------+---------+------------+\n",
      "|210057943671|  2022|             14|      M|              2|          2|               1|              1|              2|        1|     null|           0|\n",
      "|210057516120|  2022|             14|      M|              2|          1|               1|              1|             16|        1|     null|           0|\n",
      "|210055097896|  2022|              4|      M|              0|          3|               1|              1|              1|        1|     null|           0|\n",
      "|210055724397|  2022|              6|      M|              1|          3|               1|              1|              2|        1|     null|           0|\n",
      "+------------+------+---------------+-------+---------------+-----------+----------------+---------------+---------------+---------+---------+------------+\n",
      "\n"
     ]
    }
   ],
   "source": [
    "dfDadosParticipantes.show()"
   ]
  },
  {
   "cell_type": "code",
   "execution_count": null,
   "id": "71e30a46-583b-4075-b7b9-83431b3e7268",
   "metadata": {},
   "outputs": [],
   "source": []
  }
 ],
 "metadata": {
  "kernelspec": {
   "display_name": "Python 3 (ipykernel)",
   "language": "python",
   "name": "python3"
  },
  "language_info": {
   "codemirror_mode": {
    "name": "ipython",
    "version": 3
   },
   "file_extension": ".py",
   "mimetype": "text/x-python",
   "name": "python",
   "nbconvert_exporter": "python",
   "pygments_lexer": "ipython3",
   "version": "3.11.3"
  }
 },
 "nbformat": 4,
 "nbformat_minor": 5
}
