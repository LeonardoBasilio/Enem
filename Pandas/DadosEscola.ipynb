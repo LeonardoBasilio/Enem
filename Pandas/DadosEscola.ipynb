{
 "cells": [
  {
   "cell_type": "markdown",
   "id": "0f115781",
   "metadata": {},
   "source": [
    "## Importação das Bibiliotecas"
   ]
  },
  {
   "cell_type": "code",
   "execution_count": 1,
   "id": "1849a24f",
   "metadata": {
    "tags": []
   },
   "outputs": [],
   "source": [
    "import pandas as pd\n",
    "from sqlalchemy import create_engine\n",
    "import pymssql\n",
    "import pyodbc"
   ]
  },
  {
   "cell_type": "markdown",
   "id": "a92050d4",
   "metadata": {},
   "source": [
    "## Processo de Leitura do CSV de Provas\n"
   ]
  },
  {
   "cell_type": "code",
   "execution_count": 2,
   "id": "158e76e5",
   "metadata": {
    "tags": []
   },
   "outputs": [],
   "source": [
    "arqEnem = 'E:\\Estudos\\SQL\\Datasets\\microdados_enem_2022\\DADOS\\MICRODADOS_ENEM_2022.csv'\n",
    "\n",
    "dfDadosGerais = pd.read_csv(arqEnem,delimiter=';', encoding='ISO-8859-1')\n"
   ]
  },
  {
   "cell_type": "code",
   "execution_count": 3,
   "id": "326d8fa5",
   "metadata": {
    "tags": []
   },
   "outputs": [],
   "source": [
    "dfEscolas = dfDadosGerais.iloc[:,12:19] "
   ]
  },
  {
   "cell_type": "code",
   "execution_count": 4,
   "id": "e7c25703",
   "metadata": {
    "tags": []
   },
   "outputs": [
    {
     "name": "stdout",
     "output_type": "stream",
     "text": [
      "         CO_MUNICIPIO_ESC NO_MUNICIPIO_ESC  CO_UF_ESC SG_UF_ESC  \\\n",
      "0                     NaN              NaN        NaN       NaN   \n",
      "1                     NaN              NaN        NaN       NaN   \n",
      "2                     NaN              NaN        NaN       NaN   \n",
      "3                     NaN              NaN        NaN       NaN   \n",
      "4                     NaN              NaN        NaN       NaN   \n",
      "...                   ...              ...        ...       ...   \n",
      "3476100               NaN              NaN        NaN       NaN   \n",
      "3476101         2604106.0          Caruaru       26.0        PE   \n",
      "3476102         4209300.0            Lages       42.0        SC   \n",
      "3476103         3517406.0           Guaíra       35.0        SP   \n",
      "3476104         5208707.0          Goiânia       52.0        GO   \n",
      "\n",
      "         TP_DEPENDENCIA_ADM_ESC  TP_LOCALIZACAO_ESC  TP_SIT_FUNC_ESC  \n",
      "0                           NaN                 NaN              NaN  \n",
      "1                           NaN                 NaN              NaN  \n",
      "2                           NaN                 NaN              NaN  \n",
      "3                           NaN                 NaN              NaN  \n",
      "4                           NaN                 NaN              NaN  \n",
      "...                         ...                 ...              ...  \n",
      "3476100                     NaN                 NaN              NaN  \n",
      "3476101                     2.0                 1.0              1.0  \n",
      "3476102                     2.0                 1.0              1.0  \n",
      "3476103                     4.0                 1.0              1.0  \n",
      "3476104                     2.0                 1.0              1.0  \n",
      "\n",
      "[3476105 rows x 7 columns]\n"
     ]
    }
   ],
   "source": [
    "print(dfEscolas)"
   ]
  },
  {
   "cell_type": "code",
   "execution_count": 6,
   "id": "a0ddb3df",
   "metadata": {
    "tags": []
   },
   "outputs": [],
   "source": [
    "dfPreencher = dfEscolas.fillna(-2)  # Preenche com -2(sem ref), por exemplo\n"
   ]
  },
  {
   "cell_type": "markdown",
   "id": "1d1ed5ca",
   "metadata": {},
   "source": [
    "# Salvar em SQL \n",
    "Salvar os dados em uma tabela SQL\n"
   ]
  },
  {
   "cell_type": "markdown",
   "id": "0f1deb1f",
   "metadata": {},
   "source": [
    "## Parametrizando a conexão do Banco SQL SERVER"
   ]
  },
  {
   "cell_type": "code",
   "execution_count": 7,
   "id": "9e7396db",
   "metadata": {
    "tags": []
   },
   "outputs": [],
   "source": [
    "server = 'NOTEBOOK-LEO\\\\SQLEXPRESS'\n",
    "database = 'Enem'\n",
    "username = 'bi_leonardobo'\n",
    "password = '0000'\n",
    "driver = 'ODBC Driver 17 for SQL Server'  # Nome do driver ODBC para o SQL Server\n",
    "\n"
   ]
  },
  {
   "cell_type": "code",
   "execution_count": 8,
   "id": "8b606e91",
   "metadata": {
    "tags": []
   },
   "outputs": [],
   "source": [
    "# Conexão de String utilizando a biblioteca pyodbc\n",
    "connection_string = f'mssql+pyodbc://{username}:{password}@{server}/{database}?driver={driver}'\n",
    "\n",
    "# Conexão de String utilizando a biblioteca pymssql\n",
    "#connection_string = f'mssql+pymssql://{username}:{password}@{server}/{database}'\n",
    "\n",
    "# Teste de conexão do pymssql\n",
    "#conn = pymssql.connect(server, username, password, database)\n"
   ]
  },
  {
   "cell_type": "code",
   "execution_count": 9,
   "id": "d8a512d9",
   "metadata": {
    "tags": []
   },
   "outputs": [],
   "source": [
    "engine = create_engine(connection_string)\n"
   ]
  },
  {
   "cell_type": "code",
   "execution_count": 10,
   "id": "45262d43",
   "metadata": {
    "tags": []
   },
   "outputs": [],
   "source": [
    "# Nome da nova tabela que será criada\n",
    "nomeTabela = 'Escola'"
   ]
  },
  {
   "cell_type": "code",
   "execution_count": 11,
   "id": "a1f3b59e",
   "metadata": {
    "tags": []
   },
   "outputs": [
    {
     "data": {
      "text/plain": [
       "-1"
      ]
     },
     "execution_count": 11,
     "metadata": {},
     "output_type": "execute_result"
    }
   ],
   "source": [
    "# Crie uma nova tabela no banco de dados com base nos dados do DataFrame\n",
    "dfPreencher.to_sql(nomeTabela, con=engine, if_exists='replace', index=False)"
   ]
  },
  {
   "cell_type": "code",
   "execution_count": 51,
   "id": "e0154476",
   "metadata": {},
   "outputs": [
    {
     "name": "stdout",
     "output_type": "stream",
     "text": [
      "Tabela Participantes criada com sucesso no banco de dados.\n"
     ]
    }
   ],
   "source": [
    "print(f'Tabela {nomeTabela} criada com sucesso no banco de dados.')\n"
   ]
  },
  {
   "cell_type": "code",
   "execution_count": 36,
   "id": "a3dce054",
   "metadata": {},
   "outputs": [],
   "source": [
    "#Select para verificar os dados importados\n",
    "query = \"SELECT TOP 100 * FROM Escola\"\n",
    "df = pd.read_sql(query, engine)\n"
   ]
  },
  {
   "cell_type": "code",
   "execution_count": 37,
   "id": "21343c81",
   "metadata": {},
   "outputs": [
    {
     "name": "stdout",
     "output_type": "stream",
     "text": [
      "   NU_INSCRICAO  NU_ANO  TP_FAIXA_ETARIA TP_SEXO  TP_ESTADO_CIVIL  \\\n",
      "0  210057943671    2022               14       M                2   \n",
      "\n",
      "   TP_COR_RACA  TP_NACIONALIDADE  TP_ST_CONCLUSAO  TP_ANO_CONCLUIU  TP_ESCOLA  \\\n",
      "0            2                 1                1                2          1   \n",
      "\n",
      "   TP_ENSINO  IN_TREINEIRO  CO_MUNICIPIO_ESC  NO_MUNICIPIO_ESC  CO_UF_ESC  \\\n",
      "0       -2.0             0              -2.0                -2       -2.0   \n",
      "\n",
      "   SG_UF_ESC  TP_DEPENDENCIA_ADM_ESC  TP_LOCALIZACAO_ESC  TP_SIT_FUNC_ESC  \n",
      "0         -2                    -2.0                -2.0             -2.0  \n"
     ]
    }
   ],
   "source": [
    "print(df)"
   ]
  },
  {
   "cell_type": "code",
   "execution_count": null,
   "id": "ef804a2f",
   "metadata": {},
   "outputs": [],
   "source": []
  }
 ],
 "metadata": {
  "kernelspec": {
   "display_name": "Python 3 (ipykernel)",
   "language": "python",
   "name": "python3"
  },
  "language_info": {
   "codemirror_mode": {
    "name": "ipython",
    "version": 3
   },
   "file_extension": ".py",
   "mimetype": "text/x-python",
   "name": "python",
   "nbconvert_exporter": "python",
   "pygments_lexer": "ipython3",
   "version": "3.10.9"
  }
 },
 "nbformat": 4,
 "nbformat_minor": 5
}
