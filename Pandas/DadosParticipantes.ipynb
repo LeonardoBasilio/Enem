{
 "cells": [
  {
   "cell_type": "markdown",
   "id": "0f115781",
   "metadata": {},
   "source": [
    "## Importação das Bibiliotecas"
   ]
  },
  {
   "cell_type": "code",
   "execution_count": 1,
   "id": "1849a24f",
   "metadata": {},
   "outputs": [],
   "source": [
    "import pandas as pd\n",
    "from sqlalchemy import create_engine\n",
    "import pymssql\n",
    " "
   ]
  },
  {
   "cell_type": "markdown",
   "id": "a92050d4",
   "metadata": {},
   "source": [
    "## Processo de Leitura do CSV de Provas\n"
   ]
  },
  {
   "cell_type": "code",
   "execution_count": 5,
   "id": "158e76e5",
   "metadata": {},
   "outputs": [],
   "source": [
    "arqEnem = 'E:\\Estudos\\SQL\\Datasets\\microdados_enem_2022\\DADOS\\MICRODADOS_ENEM_2022.csv'\n",
    "\n",
    "dfDadosGerais = pd.read_csv(arqEnem,delimiter=';', encoding='ISO-8859-1')\n"
   ]
  },
  {
   "cell_type": "code",
   "execution_count": 32,
   "id": "326d8fa5",
   "metadata": {},
   "outputs": [],
   "source": [
    "dfParticipantes = dfDadosGerais.iloc[:,:12] #teste com o webhook"
   ]
  },
  {
   "cell_type": "code",
   "execution_count": 34,
   "id": "a0ddb3df",
   "metadata": {},
   "outputs": [],
   "source": [
    "dfPreencher = dfParticipantes.fillna(-2)  # Preenche com -2(sem ref), por exemplo\n"
   ]
  },
  {
   "cell_type": "markdown",
   "id": "1d1ed5ca",
   "metadata": {},
   "source": [
    "# Salvar em SQL \n",
    "Salvar os dados em uma tabela SQL\n"
   ]
  },
  {
   "cell_type": "markdown",
   "id": "0f1deb1f",
   "metadata": {},
   "source": [
    "## Parametrizando a conexão do Banco SQL SERVER"
   ]
  },
  {
   "cell_type": "code",
   "execution_count": 42,
   "id": "9e7396db",
   "metadata": {},
   "outputs": [],
   "source": [
    "server = 'NOTEBOOK-LEO\\\\SQLEXPRESS'\n",
    "database = 'Enem'\n",
    "username = 'bi_leonardobo'\n",
    "password = '0000'\n",
    "driver = 'ODBC Driver 17 for SQL Server'  # Nome do driver ODBC para o SQL Server\n",
    "\n"
   ]
  },
  {
   "cell_type": "code",
   "execution_count": 47,
   "id": "8b606e91",
   "metadata": {},
   "outputs": [],
   "source": [
    "# Conexão de String utilizando a biblioteca pyodbc\n",
    "#connection_string = f'mssql+pyodbc://{username}:{password}@{server}/{database}?driver={driver}'\n",
    "\n",
    "# Conexão de String utilizando a biblioteca pymssql\n",
    "connection_string = f'mssql+pymssql://{username}:{password}@{server}/{database}'\n",
    "\n",
    "# Teste de conexão do pymssql\n",
    "#conn = pymssql.connect(server, username, password, database)\n"
   ]
  },
  {
   "cell_type": "code",
   "execution_count": 48,
   "id": "d8a512d9",
   "metadata": {},
   "outputs": [],
   "source": [
    "engine = create_engine(connection_string)\n"
   ]
  },
  {
   "cell_type": "code",
   "execution_count": 49,
   "id": "45262d43",
   "metadata": {},
   "outputs": [],
   "source": [
    "# Nome da nova tabela que será criada\n",
    "nomeTabela = 'Participantes'"
   ]
  },
  {
   "cell_type": "code",
   "execution_count": 50,
   "id": "a1f3b59e",
   "metadata": {},
   "outputs": [
    {
     "data": {
      "text/plain": [
       "3476105"
      ]
     },
     "execution_count": 50,
     "metadata": {},
     "output_type": "execute_result"
    }
   ],
   "source": [
    "# Crie uma nova tabela no banco de dados com base nos dados do DataFrame\n",
    "dfPreencherPD.to_sql(nomeTabela, con=engine, if_exists='replace', index=False)"
   ]
  },
  {
   "cell_type": "code",
   "execution_count": 51,
   "id": "e0154476",
   "metadata": {},
   "outputs": [
    {
     "name": "stdout",
     "output_type": "stream",
     "text": [
      "Tabela Participantes criada com sucesso no banco de dados.\n"
     ]
    }
   ],
   "source": [
    "print(f'Tabela {nomeTabela} criada com sucesso no banco de dados.')\n"
   ]
  },
  {
   "cell_type": "code",
   "execution_count": 54,
   "id": "a3dce054",
   "metadata": {
    "tags": []
   },
   "outputs": [],
   "source": [
    "#Select para verificar os dados importados\n",
    "query = \"SELECT TOP 10 * FROM Provas\"\n",
    "df = pd.read_sql(query, engine)\n"
   ]
  }
 ],
 "metadata": {
  "kernelspec": {
   "display_name": "Python 3 (ipykernel)",
   "language": "python",
   "name": "python3"
  },
  "language_info": {
   "codemirror_mode": {
    "name": "ipython",
    "version": 3
   },
   "file_extension": ".py",
   "mimetype": "text/x-python",
   "name": "python",
   "nbconvert_exporter": "python",
   "pygments_lexer": "ipython3",
   "version": "3.11.3"
  }
 },
 "nbformat": 4,
 "nbformat_minor": 5
}
