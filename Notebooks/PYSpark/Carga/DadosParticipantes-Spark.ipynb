{
 "cells": [
  {
   "cell_type": "markdown",
   "id": "0f115781",
   "metadata": {},
   "source": [
    "## Importação das Bibiliotecas"
   ]
  },
  {
   "cell_type": "code",
   "execution_count": 18,
   "id": "b2595d63-db8f-47d8-9b6d-dd142460985a",
   "metadata": {
    "tags": []
   },
   "outputs": [],
   "source": [
    "from pyspark.sql import SparkSession\n",
    "from sqlalchemy import create_engine\n",
    "import pandas as pd\n",
    "import pyodbc\n",
    "import pyspark.sql.functions as F"
   ]
  },
  {
   "cell_type": "code",
   "execution_count": 19,
   "id": "137c301b-7b56-434b-bd08-979c6717af70",
   "metadata": {
    "tags": []
   },
   "outputs": [],
   "source": [
    "# Crie um SparkSession\n",
    "spark = SparkSession.builder.appName(\"LerDadosEnem\").getOrCreate()\n"
   ]
  },
  {
   "cell_type": "markdown",
   "id": "a92050d4",
   "metadata": {},
   "source": [
    "## Processo de Leitura do CSV de Participantes\n"
   ]
  },
  {
   "cell_type": "code",
   "execution_count": 20,
   "id": "158e76e5",
   "metadata": {
    "tags": []
   },
   "outputs": [],
   "source": [
    "#Path dos arquivos\n",
    "\n",
    "caminho_arquivo_2022 = r'E:\\Estudos\\SQL\\Datasets\\ENEM\\2022\\microdados_enem_2022\\DADOS\\MICRODADOS_ENEM_2022.csv'\n",
    "caminho_arquivo_2021 = r'E:\\Estudos\\SQL\\Datasets\\ENEM\\2021\\microdados_enem_2021\\DADOS\\MICRODADOS_ENEM_2021.csv'\n",
    "caminho_arquivo_2020 = r'E:\\Estudos\\SQL\\Datasets\\ENEM\\2020\\microdados_enem_2020\\DADOS\\MICRODADOS_ENEM_2020.csv'\n",
    "caminho_arquivo_2019 = r'E:\\Estudos\\SQL\\Datasets\\ENEM\\2019\\microdados_enem_2019\\DADOS\\MICRODADOS_ENEM_2019.csv'"
   ]
  },
  {
   "cell_type": "code",
   "execution_count": 21,
   "id": "326d8fa5",
   "metadata": {
    "tags": []
   },
   "outputs": [],
   "source": [
    "#Função Paa ler os arquivos CSV\n",
    "def lerCSV(spark, caminho_arquivo):\n",
    "    df = spark.read.csv(caminho_arquivo, sep=';', header=True, inferSchema=True, encoding='ISO-8859-1')\n",
    "    colunas_selecionadas = [F.col(df.columns[i]) for i in range(0, 13)] + [F.col(df.columns[i]) for i in range(23, 27)]  + [F.col(df.columns[i]) for i in range(31, 35)] + [F.col(df.columns[39])] + [F.col(df.columns[56])]\n",
    "    return df.select(colunas_selecionadas)\n"
   ]
  },
  {
   "cell_type": "code",
   "execution_count": 22,
   "id": "6c885188-20cd-42c8-b472-465b93b8354d",
   "metadata": {
    "tags": []
   },
   "outputs": [],
   "source": [
    "##Chama função quer ler o arquivo CSV e Transforma para DF.SPARK\n",
    "\n",
    "dfDadosParticipantes22 = lerCSV(spark, caminho_arquivo_2022)\n",
    "dfDadosParticipantes21 = lerCSV(spark, caminho_arquivo_2021)\n",
    "dfDadosParticipantes20 = lerCSV(spark, caminho_arquivo_2020)\n",
    "dfDadosParticipantes19 = lerCSV(spark, caminho_arquivo_2019)\n",
    "\n"
   ]
  },
  {
   "cell_type": "code",
   "execution_count": 23,
   "id": "9bf255a1-b7ac-44b1-b5ef-52f40d5cecd3",
   "metadata": {
    "tags": []
   },
   "outputs": [],
   "source": [
    "#Unir os DF em um só \n",
    "\n",
    "dfDadosParticipantes = dfDadosParticipantes22.union(dfDadosParticipantes21).union(dfDadosParticipantes20).union(dfDadosParticipantes19)\n"
   ]
  },
  {
   "cell_type": "code",
   "execution_count": 24,
   "id": "68561606",
   "metadata": {},
   "outputs": [
    {
     "name": "stdout",
     "output_type": "stream",
     "text": [
      "+------------+------+---------------+-------+---------------+-----------+----------------+---------------+---------------+---------+---------+------------+----------------+--------------+--------------+--------------+--------------+----------+----------+----------+----------+---------+----+\n",
      "|NU_INSCRICAO|NU_ANO|TP_FAIXA_ETARIA|TP_SEXO|TP_ESTADO_CIVIL|TP_COR_RACA|TP_NACIONALIDADE|TP_ST_CONCLUSAO|TP_ANO_CONCLUIU|TP_ESCOLA|TP_ENSINO|IN_TREINEIRO|CO_MUNICIPIO_ESC|TP_PRESENCA_CN|TP_PRESENCA_CH|TP_PRESENCA_LC|TP_PRESENCA_MT|NU_NOTA_CN|NU_NOTA_CH|NU_NOTA_LC|NU_NOTA_MT|TP_LINGUA|Q006|\n",
      "+------------+------+---------------+-------+---------------+-----------+----------------+---------------+---------------+---------+---------+------------+----------------+--------------+--------------+--------------+--------------+----------+----------+----------+----------+---------+----+\n",
      "|210057943671|  2022|             14|      M|              2|          2|               1|              1|              2|        1|     null|           0|            null|             0|             0|             0|             0|      null|      null|      null|      null|        0|   B|\n",
      "|210057516120|  2022|             14|      M|              2|          1|               1|              1|             16|        1|     null|           0|            null|             0|             0|             0|             0|      null|      null|      null|      null|        0|   Q|\n",
      "|210057280536|  2022|              5|      F|              1|          2|               1|              1|              2|        1|     null|           0|            null|             1|             1|             1|             1|     421.1|     546.0|     498.8|     565.3|        1|   B|\n",
      "|210055724397|  2022|              6|      M|              1|          3|               1|              1|              2|        1|     null|           0|            null|             1|             1|             1|             1|     490.7|     388.6|     357.8|     416.0|        1|   A|\n",
      "|210055097896|  2022|              4|      M|              0|          3|               1|              1|              1|        1|     null|           0|            null|             0|             0|             0|             0|      null|      null|      null|      null|        0|   B|\n",
      "|210057850231|  2022|              5|      F|              1|          3|               1|              1|              2|        1|     null|           0|            null|             0|             0|             0|             0|      null|      null|      null|      null|        1|   C|\n",
      "|210056305481|  2022|              4|      M|              1|          2|               1|              1|              2|        1|     null|           0|            null|             0|             0|             0|             0|      null|      null|      null|      null|        0|   B|\n",
      "|210055778089|  2022|              6|      F|              1|          2|               1|              1|              0|        1|     null|           0|            null|             1|             1|             1|             1|     398.1|     427.3|     400.2|     404.9|        1|   B|\n",
      "|210057252239|  2022|              8|      F|              1|          3|               1|              1|              0|        1|     null|           0|            null|             0|             0|             0|             0|      null|      null|      null|      null|        1|   B|\n",
      "|210055461467|  2022|              4|      F|              1|          3|               1|              1|              1|        1|     null|           0|            null|             1|             1|             1|             1|     467.5|     461.0|     466.7|     435.3|        1|   B|\n",
      "|210055665589|  2022|              4|      F|              1|          3|               1|              1|              2|        1|     null|           0|            null|             0|             0|             0|             0|      null|      null|      null|      null|        1|   A|\n",
      "|210054972570|  2022|              2|      F|              1|          1|               1|              2|              0|        3|        1|           0|            null|             1|             1|             1|             1|     458.7|     539.8|     488.2|     456.8|        1|   B|\n",
      "|210055449344|  2022|              4|      M|              1|          2|               1|              1|              1|        1|     null|           0|            null|             0|             0|             0|             0|      null|      null|      null|      null|        1|   B|\n",
      "|210057944037|  2022|              6|      F|              1|          3|               1|              1|              0|        1|     null|           0|            null|             0|             0|             0|             0|      null|      null|      null|      null|        1|   C|\n",
      "|210054861834|  2022|              7|      M|              1|          2|               2|              1|              3|        1|     null|           0|            null|             0|             0|             0|             0|      null|      null|      null|      null|        1|   C|\n",
      "|210055201589|  2022|              8|      F|              1|          3|               1|              2|              0|        2|        1|           0|         2802106|             0|             0|             0|             0|      null|      null|      null|      null|        1|   B|\n",
      "|210056844882|  2022|              5|      F|              1|          2|               1|              1|              0|        1|     null|           0|            null|             0|             0|             0|             0|      null|      null|      null|      null|        0|   B|\n",
      "|210056065100|  2022|              2|      F|              1|          3|               1|              3|              0|        1|     null|           1|            null|             1|             1|             1|             1|     396.8|     528.7|     551.4|     536.0|        0|   B|\n",
      "|210057551883|  2022|              8|      F|              1|          2|               1|              1|              5|        1|     null|           0|            null|             1|             1|             1|             1|     481.4|     603.6|     589.0|     695.0|        1|   B|\n",
      "|210054722657|  2022|              2|      F|              1|          1|               1|              3|              0|        1|     null|           1|            null|             0|             0|             0|             0|      null|      null|      null|      null|        0|   D|\n",
      "+------------+------+---------------+-------+---------------+-----------+----------------+---------------+---------------+---------+---------+------------+----------------+--------------+--------------+--------------+--------------+----------+----------+----------+----------+---------+----+\n",
      "only showing top 20 rows\n",
      "\n"
     ]
    }
   ],
   "source": [
    "dfDadosParticipantes.show()"
   ]
  },
  {
   "cell_type": "code",
   "execution_count": 25,
   "id": "a0ddb3df",
   "metadata": {
    "tags": []
   },
   "outputs": [],
   "source": [
    "# Lista das colunas que não devem ser afetadas\n",
    "colunas_nao_afetadas = ['NU_NOTA_CN', 'NU_NOTA_CH', 'NU_NOTA_LC', 'NU_NOTA_MT']\n"
   ]
  },
  {
   "cell_type": "code",
   "execution_count": 30,
   "id": "9a459e58",
   "metadata": {},
   "outputs": [],
   "source": [
    "for coluna in dfDadosParticipantes.columns:\n",
    "    if coluna not in colunas_nao_afetadas:\n",
    "        dfDadosParticipantes = dfDadosParticipantes.withColumn(\n",
    "            coluna,\n",
    "            F.when(F.col(coluna).isNull(), -2).otherwise(F.col(coluna))\n",
    "        )"
   ]
  },
  {
   "cell_type": "code",
   "execution_count": 32,
   "id": "1347e2cb",
   "metadata": {},
   "outputs": [],
   "source": [
    "dfPreencher = dfDadosParticipantes\n"
   ]
  },
  {
   "cell_type": "markdown",
   "id": "1d1ed5ca",
   "metadata": {},
   "source": [
    "# Salvar em SQL \n",
    "Salvar os dados em uma tabela SQL\n"
   ]
  },
  {
   "cell_type": "markdown",
   "id": "0f1deb1f",
   "metadata": {},
   "source": [
    "## Parametrizando a conexão do Banco SQL SERVER"
   ]
  },
  {
   "cell_type": "code",
   "execution_count": 33,
   "id": "9e7396db",
   "metadata": {
    "tags": []
   },
   "outputs": [
    {
     "name": "stdout",
     "output_type": "stream",
     "text": [
      "jdbc:sqlserver://NOTEBOOK-LEO:1433;databaseName=Enem;\n"
     ]
    }
   ],
   "source": [
    "server_name = \"jdbc:sqlserver://NOTEBOOK-LEO:1433\"\n",
    "database_name = \"Enem\"\n",
    "table_name = \"Participantes\"\n",
    "username = \"bi_leonardobo\"\n",
    "password = \"0000\"\n",
    "url = server_name + \";\" + \"databaseName=\" + database_name + \";\"\n",
    "print(url)\n"
   ]
  },
  {
   "cell_type": "code",
   "execution_count": 34,
   "id": "45262d43",
   "metadata": {
    "tags": []
   },
   "outputs": [],
   "source": [
    "# Nome da nova tabela que será criada\n",
    "nomeTabela = 'Participantes'"
   ]
  },
  {
   "cell_type": "code",
   "execution_count": 35,
   "id": "b714419b-0c97-4b3a-a10b-08a39a11f1e7",
   "metadata": {
    "tags": []
   },
   "outputs": [
    {
     "name": "stdout",
     "output_type": "stream",
     "text": [
      "+------------+------+---------------+-------+---------------+-----------+----------------+---------------+---------------+---------+---------+------------+----------------+--------------+--------------+--------------+--------------+----------+----------+----------+----------+---------+----+\n",
      "|NU_INSCRICAO|NU_ANO|TP_FAIXA_ETARIA|TP_SEXO|TP_ESTADO_CIVIL|TP_COR_RACA|TP_NACIONALIDADE|TP_ST_CONCLUSAO|TP_ANO_CONCLUIU|TP_ESCOLA|TP_ENSINO|IN_TREINEIRO|CO_MUNICIPIO_ESC|TP_PRESENCA_CN|TP_PRESENCA_CH|TP_PRESENCA_LC|TP_PRESENCA_MT|NU_NOTA_CN|NU_NOTA_CH|NU_NOTA_LC|NU_NOTA_MT|TP_LINGUA|Q006|\n",
      "+------------+------+---------------+-------+---------------+-----------+----------------+---------------+---------------+---------+---------+------------+----------------+--------------+--------------+--------------+--------------+----------+----------+----------+----------+---------+----+\n",
      "|210054189936|  2021|              4|      F|              1|          0|               1|              1|              1|        1|     null|           0|            null|             0|             0|             0|             0|      null|      null|      null|      null|        1|   D|\n",
      "|210054334602|  2021|              3|      F|              1|          3|               1|              2|              0|        2|        1|           0|            null|             0|             0|             0|             0|      null|      null|      null|      null|        0|   B|\n",
      "|210053892565|  2021|              4|      F|              1|          1|               1|              1|              1|        1|     null|           0|            null|             1|             1|             1|             1|     493.6|     610.2|     515.6|     546.8|        1|   C|\n",
      "|210053299178|  2021|              6|      F|              1|          1|               1|              1|              2|        1|     null|           0|            null|             1|             1|             1|             1|     589.6|     644.7|     596.5|     682.3|        0|   D|\n",
      "|210052282254|  2021|              4|      F|              0|          3|               1|              1|              1|        1|     null|           0|            null|             1|             1|             1|             1|     572.9|     512.2|     516.0|     491.7|        1|   C|\n",
      "|210053984315|  2021|              2|      F|              1|          1|               1|              2|              0|        2|        1|           0|         2304400|             1|             1|             1|             1|     411.2|     399.3|     512.8|     442.6|        1|   C|\n",
      "|210053040848|  2021|              5|      F|              1|          1|               1|              2|              0|        2|        1|           0|         2304400|             1|             1|             1|             1|     405.1|     507.6|     478.7|     491.3|        1|   A|\n",
      "|210051856748|  2021|              2|      M|              1|          3|               1|              2|              0|        2|        1|           0|         4117602|             1|             1|             1|             1|     383.4|     354.6|     454.7|     469.5|        0|   F|\n",
      "|210052954793|  2021|              2|      F|              1|          3|               1|              2|              0|        2|        1|           0|            null|             1|             1|             1|             1|     403.8|     497.5|     393.1|     395.2|        0|   A|\n",
      "|210053321584|  2021|              5|      F|              1|          3|               1|              1|              1|        1|     null|           0|            null|             0|             0|             0|             0|      null|      null|      null|      null|        1|   C|\n",
      "|210051909014|  2021|              6|      F|              1|          1|               2|              1|              5|        1|     null|           0|            null|             0|             0|             0|             0|      null|      null|      null|      null|        1|   B|\n",
      "|210053507130|  2021|              3|      F|              1|          1|               1|              1|              1|        1|     null|           0|            null|             1|             1|             1|             1|     699.3|     697.0|     660.4|     845.0|        0|   H|\n",
      "|210052448951|  2021|              5|      M|              1|          3|               1|              1|              2|        1|     null|           0|            null|             1|             1|             1|             1|     477.8|     514.6|     494.6|     384.5|        1|   A|\n",
      "|210051438980|  2021|              3|      M|              1|          3|               1|              2|              0|        3|        1|           0|         3201308|             1|             1|             1|             1|     555.1|     563.0|     568.0|     658.3|        0|   B|\n",
      "|210052739395|  2021|              6|      F|              1|          2|               2|              1|              3|        1|     null|           0|            null|             0|             0|             0|             0|      null|      null|      null|      null|        0|   B|\n",
      "|210051543970|  2021|              3|      F|              1|          2|               1|              2|              0|        2|        1|           0|            null|             1|             1|             1|             1|     390.6|     527.3|     486.4|     440.4|        1|   F|\n",
      "|210052331530|  2021|             15|      M|              2|          1|               1|              1|              0|        1|     null|           0|            null|             1|             1|             1|             1|     463.4|     454.9|     478.0|     526.3|        1|   C|\n",
      "|210052512783|  2021|              4|      F|              1|          1|               1|              1|              1|        1|     null|           0|            null|             1|             1|             1|             1|     602.7|     582.5|     584.0|     581.4|        1|   D|\n",
      "|210052169926|  2021|              7|      M|              1|          1|               1|              1|              5|        1|     null|           0|            null|             1|             1|             1|             1|     615.0|     609.8|     579.7|     756.6|        0|   E|\n",
      "|210053989302|  2021|              2|      F|              1|          3|               1|              2|              0|        2|        1|           0|            null|             0|             0|             0|             0|      null|      null|      null|      null|        1|   B|\n",
      "|210051365334|  2021|             15|      F|              2|          3|               1|              1|             15|        1|     null|           0|            null|             1|             1|             1|             1|     412.5|     578.0|     484.6|     478.6|        1|   H|\n",
      "|210051924245|  2021|             13|      F|              3|          4|               1|              1|             15|        1|     null|           0|            null|             0|             0|             0|             0|      null|      null|      null|      null|        1|   G|\n",
      "|210054406546|  2021|              8|      M|              1|          1|               1|              1|              6|        1|     null|           0|            null|             0|             0|             0|             0|      null|      null|      null|      null|        0|   C|\n",
      "|210052128428|  2021|              3|      F|              1|          3|               1|              1|              1|        1|     null|           0|            null|             1|             1|             1|             1|     591.5|     600.9|     547.1|     595.7|        1|   B|\n",
      "|210051624902|  2021|              4|      F|              1|          2|               1|              1|              1|        1|     null|           0|            null|             1|             1|             1|             1|     657.6|     638.9|     589.5|     710.7|        1|   C|\n",
      "|210052848440|  2021|              3|      F|              1|          4|               1|              2|              0|        2|        1|           0|            null|             1|             1|             1|             1|     442.3|     415.4|     389.9|     427.4|        0|   B|\n",
      "|210051068279|  2021|              3|      F|              1|          1|               1|              2|              0|        2|        1|           0|         2311702|             1|             1|             1|             1|     478.4|     573.2|     528.3|     440.9|        1|   B|\n",
      "|210052514155|  2021|              1|      F|              1|          0|               1|              3|              0|        1|     null|           1|            null|             0|             0|             0|             0|      null|      null|      null|      null|        0|   I|\n",
      "|210051732085|  2021|              3|      F|              1|          3|               1|              2|              0|        2|        1|           0|            null|             1|             1|             1|             1|     459.0|     443.7|     481.5|     439.8|        1|   C|\n",
      "|210053899309|  2021|              3|      M|              1|          1|               1|              1|              1|        1|     null|           0|            null|             0|             0|             0|             0|      null|      null|      null|      null|        0|   K|\n",
      "|210054138290|  2021|              3|      F|              1|          3|               1|              1|              1|        1|     null|           0|            null|             1|             1|             1|             1|     364.9|     448.5|     464.9|     507.4|        0|   B|\n",
      "|210054210482|  2021|              2|      F|              1|          1|               1|              2|              0|        3|        1|           0|         2105302|             0|             0|             0|             0|      null|      null|      null|      null|        0|   G|\n",
      "|210053221050|  2021|              2|      M|              1|          3|               1|              2|              0|        2|        1|           0|         1500800|             1|             1|             1|             1|     524.5|     578.2|     554.2|     591.8|        1|   B|\n",
      "|210052229198|  2021|              4|      F|              1|          3|               1|              1|              2|        1|     null|           0|            null|             1|             1|             1|             1|     633.1|     649.5|     622.9|     704.2|        0|   Q|\n",
      "|210053472826|  2021|              2|      F|              1|          2|               1|              2|              0|        2|        1|           0|         3302502|             1|             1|             1|             1|     467.1|     638.5|     535.0|     536.6|        0|   B|\n",
      "|210051364873|  2021|              3|      F|              1|          1|               1|              2|              0|        2|        1|           0|         3205200|             1|             1|             1|             1|     563.2|     585.1|     588.4|     666.7|        0|   C|\n",
      "|210052726988|  2021|              7|      F|              1|          3|               1|              1|              5|        1|     null|           0|            null|             0|             0|             0|             0|      null|      null|      null|      null|        1|   C|\n",
      "|210054327173|  2021|              3|      F|              0|          1|               1|              2|              0|        2|        1|           0|         3305802|             1|             1|             1|             1|     570.0|     613.4|     571.3|     497.2|        0|   B|\n",
      "|210054445627|  2021|              3|      F|              1|          3|               1|              2|              0|        2|        1|           0|         5208707|             1|             1|             1|             1|     481.3|     538.7|     480.9|     472.0|        1|   D|\n",
      "|210052805766|  2021|              9|      F|              1|          3|               1|              1|              7|        1|     null|           0|            null|             1|             1|             1|             1|     671.4|     676.1|     629.0|     716.9|        0|   C|\n",
      "+------------+------+---------------+-------+---------------+-----------+----------------+---------------+---------------+---------+---------+------------+----------------+--------------+--------------+--------------+--------------+----------+----------+----------+----------+---------+----+\n",
      "only showing top 40 rows\n",
      "\n",
      "17744217\n"
     ]
    }
   ],
   "source": [
    "#Conectando via jdbc\n",
    "#No método option, foi necessário passar os argumentos ssl e trustservercertificate como true, por se tratar de um banco local sem SSL.\n",
    "try:\n",
    "  jdbcDF = spark.read \\\n",
    "        .format(\"jdbc\") \\\n",
    "        .option(\"url\", url) \\\n",
    "        .option(\"driver\",\"com.microsoft.sqlserver.jdbc.SQLServerDriver\")\\\n",
    "        .option(\"ssl\", \"true\")\\\n",
    "        .option(\"trustServerCertificate\", \"true\")\\\n",
    "        .option(\"dbtable\", table_name) \\\n",
    "        .option(\"user\", username) \\\n",
    "        .option(\"password\", password).load()\n",
    "  \n",
    "  jdbcDF.show(40)\n",
    "  print(jdbcDF.count())\n",
    "except ValueError as error :\n",
    "    print(\"Connector write failed\", error)\n"
   ]
  },
  {
   "cell_type": "code",
   "execution_count": 36,
   "id": "6f3a8e0f-907e-4a25-aee7-793eac934db9",
   "metadata": {
    "tags": []
   },
   "outputs": [],
   "source": [
    "# Configurações do banco de dados\n",
    "server_name = \"NOTEBOOK-LEO\\\\SQLEXPRESS\"\n",
    " \n",
    "# Conecte-se ao banco de dados usando pyodbc\n",
    "conn = pyodbc.connect(f\"Driver={{SQL Server}};Server={server_name};Database={database_name};UID={username};PWD={password}\")\n",
    "\n",
    "# Crie um cursor\n",
    "cursor = conn.cursor()\n",
    "\n",
    "# Execute a operação DROP TABLE na tabela 'Participantes'\n",
    "truncate_query = \"DROP TABLE dbo.Participantes\"\n",
    "cursor.execute(truncate_query)\n",
    "\n",
    "# Commit as alterações no banco de dados\n",
    "conn.commit()"
   ]
  },
  {
   "cell_type": "code",
   "execution_count": 37,
   "id": "5e87ccad-a1e1-47ef-acc7-dfd6bfc677c8",
   "metadata": {
    "tags": []
   },
   "outputs": [],
   "source": [
    "# Escreva os novos dados em 'Participantes' usando a conexão JDBC\n",
    "dfPreencher.write \\\n",
    "        .format(\"jdbc\") \\\n",
    "        .option(\"url\", url) \\\n",
    "        .option(\"driver\",\"com.microsoft.sqlserver.jdbc.SQLServerDriver\")\\\n",
    "        .option(\"ssl\", \"true\")\\\n",
    "        .option(\"trustServerCertificate\", \"true\")\\\n",
    "        .option(\"dbtable\", table_name) \\\n",
    "        .option(\"user\", username) \\\n",
    "        .option(\"password\", password)\\\n",
    "        .option(\"SaveMode\", \"overWrite\").save()\n",
    "  \n"
   ]
  },
  {
   "cell_type": "code",
   "execution_count": 16,
   "id": "dafe0615",
   "metadata": {
    "tags": []
   },
   "outputs": [
    {
     "name": "stdout",
     "output_type": "stream",
     "text": [
      "Tabela Participantes criada com sucesso no banco de dados.\n"
     ]
    }
   ],
   "source": [
    "print(f'Tabela {nomeTabela} criada com sucesso no banco de dados.')\n"
   ]
  },
  {
   "cell_type": "code",
   "execution_count": 17,
   "id": "6de4ad95-23a6-45f1-af4d-d657f218bd8f",
   "metadata": {},
   "outputs": [],
   "source": [
    "spark.stop()"
   ]
  }
 ],
 "metadata": {
  "kernelspec": {
   "display_name": "Python 3 (ipykernel)",
   "language": "python",
   "name": "python3"
  },
  "language_info": {
   "codemirror_mode": {
    "name": "ipython",
    "version": 3
   },
   "file_extension": ".py",
   "mimetype": "text/x-python",
   "name": "python",
   "nbconvert_exporter": "python",
   "pygments_lexer": "ipython3",
   "version": "3.11.3"
  }
 },
 "nbformat": 4,
 "nbformat_minor": 5
}
