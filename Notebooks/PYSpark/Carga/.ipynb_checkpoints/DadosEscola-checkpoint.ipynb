{
 "cells": [
  {
   "cell_type": "markdown",
   "id": "a31e718b-14d9-4751-9dec-71f56129a085",
   "metadata": {},
   "source": [
    "## Importação das Bibiliotecas"
   ]
  },
  {
   "cell_type": "code",
   "execution_count": 1,
   "id": "cc20c5a9-44d0-4ee3-ac2c-0f588099a1c7",
   "metadata": {
    "tags": []
   },
   "outputs": [],
   "source": [
    "from pyspark.sql import SparkSession\n",
    "import pandas as pd\n",
    "from sqlalchemy import create_engine\n",
    "import os\n",
    "from pyspark.sql.functions import col, count, sum\n",
    "import pymssql\n"
   ]
  },
  {
   "cell_type": "markdown",
   "id": "a92050d4",
   "metadata": {},
   "source": [
    "## Criando uma SparkSession"
   ]
  },
  {
   "cell_type": "code",
   "execution_count": 2,
   "id": "137c301b-7b56-434b-bd08-979c6717af70",
   "metadata": {},
   "outputs": [],
   "source": [
    "spark = SparkSession.builder.remote(\"sc://spark-connect\").getOrCreate()"
   ]
  },
  {
   "cell_type": "markdown",
   "id": "1a8ed9e6-77de-42fb-96ed-d1b23d0251a4",
   "metadata": {},
   "source": [
    "## Processo de Leitura do CSV de Participantes\n"
   ]
  },
  {
   "cell_type": "code",
   "execution_count": 3,
   "id": "c848f5ea",
   "metadata": {},
   "outputs": [],
   "source": [
    "#Path dos arquivos\n",
    "\n",
    "caminho_arquivo_2022 = '/opt/datasets/ENEM/2022/microdados_enem_2022/DADOS/MICRODADOS_ENEM_2022.csv'\n",
    "caminho_arquivo_2021 = '/opt/datasets/ENEM/2021/microdados_enem_2021/DADOS/MICRODADOS_ENEM_2021.csv'\n",
    "caminho_arquivo_2020 = '/opt/datasets/ENEM/2020/microdados_enem_2020/DADOS/MICRODADOS_ENEM_2020.csv'\n",
    "caminho_arquivo_2019 = '/opt/datasets/ENEM/2019/microdados_enem_2019/DADOS/MICRODADOS_ENEM_2019.csv'"
   ]
  },
  {
   "cell_type": "code",
   "execution_count": 4,
   "id": "65ad796f-3590-4234-b295-9ea745c3df22",
   "metadata": {},
   "outputs": [
    {
     "name": "stdout",
     "output_type": "stream",
     "text": [
      "/opt/datasets/ENEM/2022/microdados_enem_2022/DADOS\n"
     ]
    }
   ],
   "source": [
    "os.chdir('/opt/datasets/ENEM/2022/microdados_enem_2022/DADOS/')\n",
    "print(os.getcwd())"
   ]
  },
  {
   "cell_type": "code",
   "execution_count": 5,
   "id": "04836a09",
   "metadata": {},
   "outputs": [],
   "source": [
    "#Função Paa ler os arquivos CSV\n",
    "def lerCSV(spark, caminho_arquivo):\n",
    "    df = spark.read.csv(caminho_arquivo, sep=';', header=True, inferSchema=True, encoding='ISO-8859-1')\n",
    "    #colunas_selecionadas = df.columns[12:19]\n",
    "    #return df.select(colunas_selecionadas)\n",
    "    return df\n"
   ]
  },
  {
   "cell_type": "code",
   "execution_count": 6,
   "id": "158e76e5",
   "metadata": {},
   "outputs": [],
   "source": [
    "##Chama função quer ler o arquivo CSV e Transforma para DF.SPARK\n",
    "\n",
    "dfEscola22 = lerCSV(spark, caminho_arquivo_2022)\n",
    "#dfEscola21 = lerCSV(spark, caminho_arquivo_2021)\n",
    "#dfEscola20 = lerCSV(spark, caminho_arquivo_2020)\n",
    "#dfEscola19 = lerCSV(spark, caminho_arquivo_2019)\n"
   ]
  },
  {
   "cell_type": "code",
   "execution_count": 7,
   "id": "579583cd",
   "metadata": {},
   "outputs": [],
   "source": [
    "#Unir os DF em um só \n",
    "\n",
    "#dfDadosGerais = dfEscola22.union(dfEscola21).union(dfEscola20).union(dfEscola19)\n",
    "dfDadosGerais = dfEscola22\n"
   ]
  },
  {
   "cell_type": "code",
   "execution_count": 8,
   "id": "a0ddb3df",
   "metadata": {},
   "outputs": [
    {
     "data": {
      "text/plain": [
       "DataFrame[NU_INSCRICAO: bigint, NU_ANO: int, TP_FAIXA_ETARIA: int, TP_SEXO: string, TP_ESTADO_CIVIL: int, TP_COR_RACA: int, TP_NACIONALIDADE: int, TP_ST_CONCLUSAO: int, TP_ANO_CONCLUIU: int, TP_ESCOLA: int, TP_ENSINO: int, IN_TREINEIRO: int, CO_MUNICIPIO_ESC: int, NO_MUNICIPIO_ESC: string, CO_UF_ESC: int, SG_UF_ESC: string, TP_DEPENDENCIA_ADM_ESC: int, TP_LOCALIZACAO_ESC: int, TP_SIT_FUNC_ESC: int, CO_MUNICIPIO_PROVA: int, NO_MUNICIPIO_PROVA: string, CO_UF_PROVA: int, SG_UF_PROVA: string, TP_PRESENCA_CN: int, TP_PRESENCA_CH: int, TP_PRESENCA_LC: int, TP_PRESENCA_MT: int, CO_PROVA_CN: int, CO_PROVA_CH: int, CO_PROVA_LC: int, CO_PROVA_MT: int, NU_NOTA_CN: double, NU_NOTA_CH: double, NU_NOTA_LC: double, NU_NOTA_MT: double, TX_RESPOSTAS_CN: string, TX_RESPOSTAS_CH: string, TX_RESPOSTAS_LC: string, TX_RESPOSTAS_MT: string, TP_LINGUA: int, TX_GABARITO_CN: string, TX_GABARITO_CH: string, TX_GABARITO_LC: string, TX_GABARITO_MT: string, TP_STATUS_REDACAO: int, NU_NOTA_COMP1: int, NU_NOTA_COMP2: int, NU_NOTA_COMP3: int, NU_NOTA_COMP4: int, NU_NOTA_COMP5: int, NU_NOTA_REDACAO: int, Q001: string, Q002: string, Q003: string, Q004: string, Q005: int, Q006: string, Q007: string, Q008: string, Q009: string, Q010: string, Q011: string, Q012: string, Q013: string, Q014: string, Q015: string, Q016: string, Q017: string, Q018: string, Q019: string, Q020: string, Q021: string, Q022: string, Q023: string, Q024: string, Q025: string]"
      ]
     },
     "execution_count": 8,
     "metadata": {},
     "output_type": "execute_result"
    }
   ],
   "source": [
    "dfPreencher = dfDadosGerais.fillna(-2)  # Preenche com -2(sem ref), por exemplo\n",
    "dfPreencher.cache()"
   ]
  },
  {
   "cell_type": "code",
   "execution_count": 9,
   "id": "b839ff03-3177-4106-9812-c704694c2b79",
   "metadata": {},
   "outputs": [
    {
     "data": {
      "text/plain": [
       "DataFrame[NU_INSCRICAO: bigint, ANO_EDICAO: int, ANO_CONCLUSAO: int, SEXO_CODIGO: string, MUNICIPIO_CODIGO: int, ESTADO_CIVIL_ID: int, COR_RACA_ID: int, NACIONALIDADE_ID: int, SITUACAO_ESCOLARIDADE_ID: int, ESCOLA_ID: int, FAIXA_RENDA_MENSAL_ID: string, FAIXA_ETARIA_ID: int, NOTA_CIENCIA_DA_NATUREZA: double, NOTA_CIENCIA_DA_HUMANA: double, NOTA_LINGUAGEM_CODIGO: double, NOTA_MATEMATICA: double]"
      ]
     },
     "execution_count": 9,
     "metadata": {},
     "output_type": "execute_result"
    }
   ],
   "source": [
    "dfPreencherDistinct = dfPreencher.select(\n",
    "    col(\"NU_INSCRICAO\").alias(\"NU_INSCRICAO\"),\n",
    "    col(\"NU_ANO\").alias(\"ANO_EDICAO\"),\n",
    "    col(\"TP_ANO_CONCLUIU\").alias(\"ANO_CONCLUSAO\"),\n",
    "    col(\"TP_SEXO\").alias(\"SEXO_CODIGO\"),\n",
    "    col(\"CO_MUNICIPIO_ESC\").alias(\"MUNICIPIO_CODIGO\"),\n",
    "    col(\"TP_ESTADO_CIVIL\").alias(\"ESTADO_CIVIL_ID\"),\n",
    "    col(\"TP_COR_RACA\").alias(\"COR_RACA_ID\"),\n",
    "    col(\"TP_NACIONALIDADE\").alias(\"NACIONALIDADE_ID\"),\n",
    "    col(\"TP_ST_CONCLUSAO\").alias(\"SITUACAO_ESCOLARIDADE_ID\"),\n",
    "    col(\"TP_ESCOLA\").alias(\"ESCOLA_ID\"),\n",
    "    col(\"Q006\").alias(\"FAIXA_RENDA_MENSAL_ID\"),\n",
    "    col(\"TP_FAIXA_ETARIA\").alias(\"FAIXA_ETARIA_ID\"),\n",
    "    col(\"NU_NOTA_CN\").alias(\"NOTA_CIENCIA_DA_NATUREZA\"),\n",
    "    col(\"NU_NOTA_CH\").alias(\"NOTA_CIENCIA_DA_HUMANA\"),\n",
    "    col(\"NU_NOTA_LC\").alias(\"NOTA_LINGUAGEM_CODIGO\"),\n",
    "    col(\"NU_NOTA_MT\").alias(\"NOTA_MATEMATICA\")\n",
    ").distinct()\n",
    "dfPreencherDistinct.cache()"
   ]
  },
  {
   "cell_type": "code",
   "execution_count": 10,
   "id": "c06fe582-dbdc-439b-be2c-707748b304a1",
   "metadata": {
    "scrolled": true
   },
   "outputs": [
    {
     "data": {
      "text/plain": [
       "3476105"
      ]
     },
     "execution_count": 10,
     "metadata": {},
     "output_type": "execute_result"
    }
   ],
   "source": [
    "dfPreencherDistinct.count()"
   ]
  },
  {
   "cell_type": "code",
   "execution_count": 13,
   "id": "5a8852d0-721d-41a7-a6f9-366cd5d2c6d3",
   "metadata": {},
   "outputs": [],
   "source": [
    "dfAgregate = dfPreencherDistinct.select(\n",
    "    \"ANO_EDICAO\",\n",
    "    \"ANO_CONCLUSAO\",\n",
    "    \"SEXO_CODIGO\",\n",
    "    \"MUNICIPIO_CODIGO\",\n",
    "    \"ESTADO_CIVIL_ID\",\n",
    "    \"COR_RACA_ID\",\n",
    "    \"NACIONALIDADE_ID\",\n",
    "    \"SITUACAO_ESCOLARIDADE_ID\",\n",
    "    \"ESCOLA_ID\",\n",
    "    \"FAIXA_RENDA_MENSAL_ID\",\n",
    "    \"FAIXA_ETARIA_ID\",\n",
    "    \"NU_INSCRICAO\",  # Adicionando essa coluna para o count\n",
    "    \"NOTA_CIENCIA_DA_NATUREZA\",\n",
    "    \"NOTA_CIENCIA_DA_HUMANA\",\n",
    "    \"NOTA_LINGUAGEM_CODIGO\",\n",
    "    \"NOTA_MATEMATICA\"\n",
    ")\n",
    "\n",
    "# Agregação após o agrupamento\n",
    "dfAgregate = dfAgregate.groupBy(\n",
    "    \"ANO_EDICAO\",\n",
    "    \"ANO_CONCLUSAO\",\n",
    "    \"SEXO_CODIGO\",\n",
    "    \"MUNICIPIO_CODIGO\",\n",
    "    \"ESTADO_CIVIL_ID\",\n",
    "    \"COR_RACA_ID\",\n",
    "    \"NACIONALIDADE_ID\",\n",
    "    \"SITUACAO_ESCOLARIDADE_ID\",\n",
    "    \"ESCOLA_ID\",\n",
    "    \"FAIXA_RENDA_MENSAL_ID\",\n",
    "    \"FAIXA_ETARIA_ID\"\n",
    ").agg(\n",
    "    count(\"NU_INSCRICAO\").alias(\"QTD\"),\n",
    "    sum(\"NOTA_CIENCIA_DA_NATUREZA\").alias(\"NOTA_CIENCIA_DA_NATUREZA\"),\n",
    "    sum(\"NOTA_CIENCIA_DA_HUMANA\").alias(\"NOTA_CIENCIA_DA_HUMANA\"),\n",
    "    sum(\"NOTA_LINGUAGEM_CODIGO\").alias(\"NOTA_LINGUAGEM_CODIGO\"),\n",
    "    sum(\"NOTA_MATEMATICA\").alias(\"NOTA_MATEMATICA\")\n",
    ")"
   ]
  },
  {
   "cell_type": "code",
   "execution_count": 12,
   "id": "cf9fbdb3-fa7c-4592-8d43-42d0553f75e1",
   "metadata": {},
   "outputs": [
    {
     "data": {
      "text/plain": [
       "394760"
      ]
     },
     "execution_count": 12,
     "metadata": {},
     "output_type": "execute_result"
    }
   ],
   "source": [
    "dfAgregate.count()"
   ]
  },
  {
   "cell_type": "markdown",
   "id": "1d1ed5ca",
   "metadata": {},
   "source": [
    "# Salvar em SQL \n",
    "Salvar os dados em uma tabela SQL\n"
   ]
  },
  {
   "cell_type": "markdown",
   "id": "0f1deb1f",
   "metadata": {},
   "source": [
    "## Parametrizando a conexão do Banco SQL SERVER Usando JDBC"
   ]
  },
  {
   "cell_type": "code",
   "execution_count": 17,
   "id": "9e7396db",
   "metadata": {},
   "outputs": [],
   "source": [
    "server_name = \"49d49bcab42e\"\n",
    "database_name = \"DockerEnem\"\n",
    "username = \"sa\"\n",
    "password = \"bi@123456\""
   ]
  },
  {
   "cell_type": "code",
   "execution_count": 14,
   "id": "d3234ec7-5988-465d-83b4-e623266a33e6",
   "metadata": {},
   "outputs": [],
   "source": [
    "# Nome da tabela a ser excluída\n",
    "table_name = \"ODS_ENEM\"\n",
    "\n",
    "#obter Schema do dfAgregate \n",
    "df_schema = dfAgregate.schema\n",
    "\n",
    "# Gerando as definições de coluna para a tabela\n",
    "columns_definitions = [f\"{field.name} {field.dataType}\" for field in df_schema.fields]\n",
    "\n",
    "# Mapeamento de tipos de dados do Spark para tipos de dados do SQL Server\n",
    "data_type_mapping = {\n",
    "    \"IntegerType\": \"INT\",\n",
    "    \"StringType\": \"NVARCHAR(255)\",  # Você pode ajustar o tamanho conforme necessário\n",
    "    \"DoubleType\": \"FLOAT\",\n",
    "    \"LongType\": \"BIGINT\"\n",
    "}\n",
    "\n",
    "# Gerando as definições de coluna para a tabela com os tipos de dados corretos\n",
    "columns_definitions = [f\"{field.name} {data_type_mapping.get(str(field.dataType), 'NVARCHAR(255)')}\" for field in df_schema.fields]\n",
    "\n",
    "\n",
    "# Combinando as definições de coluna em uma string\n",
    "columns_str = \",\\n\".join(columns_definitions)"
   ]
  },
  {
   "cell_type": "code",
   "execution_count": 18,
   "id": "45262d43",
   "metadata": {},
   "outputs": [],
   "source": [
    "# Conectando ao banco de dados\n",
    "conn = pymssql.connect(server=server_name, database=database_name, user=username, password=password)\n",
    "\n",
    "# Criando um cursor\n",
    "cursor = conn.cursor()"
   ]
  },
  {
   "cell_type": "code",
   "execution_count": 19,
   "id": "6f3a8e0f-907e-4a25-aee7-793eac934db9",
   "metadata": {
    "tags": []
   },
   "outputs": [],
   "source": [
    "# Dropando a tabela se ela já existir\n",
    "drop_table_query = \"\"\"\n",
    "IF OBJECT_ID('ODS_ENEM', 'U') IS NOT NULL\n",
    "    DROP TABLE ODS_ENEM\n",
    "\"\"\"\n",
    "cursor.execute(drop_table_query)"
   ]
  },
  {
   "cell_type": "code",
   "execution_count": 20,
   "id": "cd02afb5-f05e-4c46-aa3c-c612bdef245c",
   "metadata": {},
   "outputs": [],
   "source": [
    "# Criando o comando CREATE TABLE\n",
    "create_table_query = f\"\"\"\n",
    "CREATE TABLE {table_name} (\n",
    "{columns_str}\n",
    ")\n",
    "\"\"\"\n",
    "# Executando o comando SQL para criar a tabela\n",
    "cursor.execute(create_table_query)"
   ]
  },
  {
   "cell_type": "code",
   "execution_count": 21,
   "id": "519a0767-3675-487f-9e22-610e681dc666",
   "metadata": {},
   "outputs": [],
   "source": [
    "# Commit das alterações no banco de dados\n",
    "conn.commit()"
   ]
  },
  {
   "cell_type": "code",
   "execution_count": null,
   "id": "c96a9619-a00e-4601-bce9-0ce7d3cded7c",
   "metadata": {},
   "outputs": [],
   "source": [
    "import threading\n",
    "# Função para inserir dados em uma thread\n",
    "def insert_data(thread_id, conn, data):\n",
    "    try:\n",
    "        # Conectar ao banco de dados\n",
    "        conn = pymysql.connect(**conn)\n",
    "        cursor = conn.cursor()\n",
    "\n",
    "        # Inserir dados\n",
    "        insert_query = f\"\"\"\n",
    "        INSERT INTO ODS_ENEM VALUES {\",\".join([\"(\" + \",\".join(map(str, row)) + \")\" for row in dfAgregate.collect()])}\n",
    "        \"\"\"\n",
    "        cursor.executemany(insert_query, dfAgregate)\n",
    "\n",
    "        # Commit e fechar conexão\n",
    "        conn.commit()\n",
    "        cursor.close()\n",
    "        conn.close()\n",
    "        print(f\"Thread {thread_id}: Inserção concluída.\")\n",
    "    except Exception as e:\n",
    "        print(f\"Thread {thread_id}: Erro durante a inserção:\", e)\n",
    "\n",
    "\n",
    "# Dividir dados em batches para cada thread\n",
    "num_threads = 4\n",
    "batch_size = dfAgregate.count() // num_threads\n",
    "data_batches = [dfAgregate.limit(batch_size).collect() for _ in range(num_threads)]\n",
    "\n",
    "# Criar e iniciar threads\n",
    "threads = []\n",
    "for i, batch in enumerate(data_batches):\n",
    "    thread = threading.Thread(target=insert_data, args=(i+1, conn, batch))\n",
    "    thread.start()\n",
    "    threads.append(thread)\n",
    "\n",
    "# Aguardar todas as threads terminarem\n",
    "for thread in threads:\n",
    "    thread.join()\n",
    "\n",
    "print(\"Inserções distribuídas concluídas.\")\n"
   ]
  },
  {
   "cell_type": "code",
   "execution_count": 22,
   "id": "5df3e70f-47d3-406b-8f08-506d14b0685f",
   "metadata": {},
   "outputs": [
    {
     "ename": "KeyboardInterrupt",
     "evalue": "",
     "output_type": "error",
     "traceback": [
      "\u001b[0;31m---------------------------------------------------------------------------\u001b[0m",
      "\u001b[0;31mKeyboardInterrupt\u001b[0m                         Traceback (most recent call last)",
      "Cell \u001b[0;32mIn[22], line 3\u001b[0m\n\u001b[1;32m      1\u001b[0m \u001b[38;5;66;03m# Inserindo os dados na tabela\u001b[39;00m\n\u001b[1;32m      2\u001b[0m insert_query \u001b[38;5;241m=\u001b[39m \u001b[38;5;124mf\u001b[39m\u001b[38;5;124m\"\"\"\u001b[39m\n\u001b[0;32m----> 3\u001b[0m \u001b[38;5;124mINSERT INTO ODS_ENEM VALUES \u001b[39m\u001b[38;5;132;01m{\u001b[39;00m\u001b[38;5;124m\"\u001b[39m\u001b[38;5;124m,\u001b[39m\u001b[38;5;124m\"\u001b[39m\u001b[38;5;241m.\u001b[39mjoin([\u001b[38;5;124m\"\u001b[39m\u001b[38;5;124m(\u001b[39m\u001b[38;5;124m\"\u001b[39m\u001b[38;5;250m \u001b[39m\u001b[38;5;241m+\u001b[39m\u001b[38;5;250m \u001b[39m\u001b[38;5;124m\"\u001b[39m\u001b[38;5;124m,\u001b[39m\u001b[38;5;124m\"\u001b[39m\u001b[38;5;241m.\u001b[39mjoin(\u001b[38;5;28mmap\u001b[39m(\u001b[38;5;28mstr\u001b[39m,\u001b[38;5;250m \u001b[39mrow))\u001b[38;5;250m \u001b[39m\u001b[38;5;241m+\u001b[39m\u001b[38;5;250m \u001b[39m\u001b[38;5;124m\"\u001b[39m\u001b[38;5;124m)\u001b[39m\u001b[38;5;124m\"\u001b[39m\u001b[38;5;250m \u001b[39m\u001b[38;5;28;01mfor\u001b[39;00m\u001b[38;5;250m \u001b[39mrow\u001b[38;5;250m \u001b[39m\u001b[38;5;129;01min\u001b[39;00m\u001b[38;5;250m \u001b[39m\u001b[43mdfAgregate\u001b[49m\u001b[38;5;241;43m.\u001b[39;49m\u001b[43mcollect\u001b[49m\u001b[43m(\u001b[49m\u001b[43m)\u001b[49m])\u001b[38;5;132;01m}\u001b[39;00m\n\u001b[1;32m      4\u001b[0m \u001b[38;5;124m\"\"\"\u001b[39m\n\u001b[1;32m      5\u001b[0m cursor\u001b[38;5;241m.\u001b[39mexecute(insert_query)\n",
      "File \u001b[0;32m/usr/local/lib/python3.11/site-packages/pyspark/sql/connect/dataframe.py:1354\u001b[0m, in \u001b[0;36mDataFrame.collect\u001b[0;34m(self)\u001b[0m\n\u001b[1;32m   1352\u001b[0m     \u001b[38;5;28;01mraise\u001b[39;00m \u001b[38;5;167;01mException\u001b[39;00m(\u001b[38;5;124m\"\u001b[39m\u001b[38;5;124mCannot collect on empty session.\u001b[39m\u001b[38;5;124m\"\u001b[39m)\n\u001b[1;32m   1353\u001b[0m query \u001b[38;5;241m=\u001b[39m \u001b[38;5;28mself\u001b[39m\u001b[38;5;241m.\u001b[39m_plan\u001b[38;5;241m.\u001b[39mto_proto(\u001b[38;5;28mself\u001b[39m\u001b[38;5;241m.\u001b[39m_session\u001b[38;5;241m.\u001b[39mclient)\n\u001b[0;32m-> 1354\u001b[0m table, schema \u001b[38;5;241m=\u001b[39m \u001b[38;5;28;43mself\u001b[39;49m\u001b[38;5;241;43m.\u001b[39;49m\u001b[43m_session\u001b[49m\u001b[38;5;241;43m.\u001b[39;49m\u001b[43mclient\u001b[49m\u001b[38;5;241;43m.\u001b[39;49m\u001b[43mto_table\u001b[49m\u001b[43m(\u001b[49m\u001b[43mquery\u001b[49m\u001b[43m)\u001b[49m\n\u001b[1;32m   1356\u001b[0m schema \u001b[38;5;241m=\u001b[39m schema \u001b[38;5;129;01mor\u001b[39;00m from_arrow_schema(table\u001b[38;5;241m.\u001b[39mschema)\n\u001b[1;32m   1358\u001b[0m \u001b[38;5;28;01massert\u001b[39;00m schema \u001b[38;5;129;01mis\u001b[39;00m \u001b[38;5;129;01mnot\u001b[39;00m \u001b[38;5;28;01mNone\u001b[39;00m \u001b[38;5;129;01mand\u001b[39;00m \u001b[38;5;28misinstance\u001b[39m(schema, StructType)\n",
      "File \u001b[0;32m/usr/local/lib/python3.11/site-packages/pyspark/sql/connect/client.py:668\u001b[0m, in \u001b[0;36mSparkConnectClient.to_table\u001b[0;34m(self, plan)\u001b[0m\n\u001b[1;32m    666\u001b[0m req \u001b[38;5;241m=\u001b[39m \u001b[38;5;28mself\u001b[39m\u001b[38;5;241m.\u001b[39m_execute_plan_request_with_metadata()\n\u001b[1;32m    667\u001b[0m req\u001b[38;5;241m.\u001b[39mplan\u001b[38;5;241m.\u001b[39mCopyFrom(plan)\n\u001b[0;32m--> 668\u001b[0m table, schema, _, _, _ \u001b[38;5;241m=\u001b[39m \u001b[38;5;28;43mself\u001b[39;49m\u001b[38;5;241;43m.\u001b[39;49m\u001b[43m_execute_and_fetch\u001b[49m\u001b[43m(\u001b[49m\u001b[43mreq\u001b[49m\u001b[43m)\u001b[49m\n\u001b[1;32m    669\u001b[0m \u001b[38;5;28;01massert\u001b[39;00m table \u001b[38;5;129;01mis\u001b[39;00m \u001b[38;5;129;01mnot\u001b[39;00m \u001b[38;5;28;01mNone\u001b[39;00m\n\u001b[1;32m    670\u001b[0m \u001b[38;5;28;01mreturn\u001b[39;00m table, schema\n",
      "File \u001b[0;32m/usr/local/lib/python3.11/site-packages/pyspark/sql/connect/client.py:982\u001b[0m, in \u001b[0;36mSparkConnectClient._execute_and_fetch\u001b[0;34m(self, req)\u001b[0m\n\u001b[1;32m    979\u001b[0m schema: Optional[StructType] \u001b[38;5;241m=\u001b[39m \u001b[38;5;28;01mNone\u001b[39;00m\n\u001b[1;32m    980\u001b[0m properties: Dict[\u001b[38;5;28mstr\u001b[39m, Any] \u001b[38;5;241m=\u001b[39m {}\n\u001b[0;32m--> 982\u001b[0m \u001b[38;5;28;01mfor\u001b[39;00m response \u001b[38;5;129;01min\u001b[39;00m \u001b[38;5;28mself\u001b[39m\u001b[38;5;241m.\u001b[39m_execute_and_fetch_as_iterator(req):\n\u001b[1;32m    983\u001b[0m     \u001b[38;5;28;01mif\u001b[39;00m \u001b[38;5;28misinstance\u001b[39m(response, StructType):\n\u001b[1;32m    984\u001b[0m         schema \u001b[38;5;241m=\u001b[39m response\n",
      "File \u001b[0;32m/usr/local/lib/python3.11/site-packages/pyspark/sql/connect/client.py:932\u001b[0m, in \u001b[0;36mSparkConnectClient._execute_and_fetch_as_iterator\u001b[0;34m(self, req)\u001b[0m\n\u001b[1;32m    928\u001b[0m \u001b[38;5;28;01mfor\u001b[39;00m attempt \u001b[38;5;129;01min\u001b[39;00m Retrying(\n\u001b[1;32m    929\u001b[0m     can_retry\u001b[38;5;241m=\u001b[39mSparkConnectClient\u001b[38;5;241m.\u001b[39mretry_exception, \u001b[38;5;241m*\u001b[39m\u001b[38;5;241m*\u001b[39m\u001b[38;5;28mself\u001b[39m\u001b[38;5;241m.\u001b[39m_retry_policy\n\u001b[1;32m    930\u001b[0m ):\n\u001b[1;32m    931\u001b[0m     \u001b[38;5;28;01mwith\u001b[39;00m attempt:\n\u001b[0;32m--> 932\u001b[0m         \u001b[38;5;28;01mfor\u001b[39;00m b \u001b[38;5;129;01min\u001b[39;00m \u001b[38;5;28mself\u001b[39m\u001b[38;5;241m.\u001b[39m_stub\u001b[38;5;241m.\u001b[39mExecutePlan(req, metadata\u001b[38;5;241m=\u001b[39m\u001b[38;5;28mself\u001b[39m\u001b[38;5;241m.\u001b[39m_builder\u001b[38;5;241m.\u001b[39mmetadata()):\n\u001b[1;32m    933\u001b[0m             \u001b[38;5;28;01mif\u001b[39;00m b\u001b[38;5;241m.\u001b[39msession_id \u001b[38;5;241m!=\u001b[39m \u001b[38;5;28mself\u001b[39m\u001b[38;5;241m.\u001b[39m_session_id:\n\u001b[1;32m    934\u001b[0m                 \u001b[38;5;28;01mraise\u001b[39;00m SparkConnectException(\n\u001b[1;32m    935\u001b[0m                     \u001b[38;5;124m\"\u001b[39m\u001b[38;5;124mReceived incorrect session identifier for request: \u001b[39m\u001b[38;5;124m\"\u001b[39m\n\u001b[1;32m    936\u001b[0m                     \u001b[38;5;124mf\u001b[39m\u001b[38;5;124m\"\u001b[39m\u001b[38;5;132;01m{\u001b[39;00mb\u001b[38;5;241m.\u001b[39msession_id\u001b[38;5;132;01m}\u001b[39;00m\u001b[38;5;124m != \u001b[39m\u001b[38;5;132;01m{\u001b[39;00m\u001b[38;5;28mself\u001b[39m\u001b[38;5;241m.\u001b[39m_session_id\u001b[38;5;132;01m}\u001b[39;00m\u001b[38;5;124m\"\u001b[39m\n\u001b[1;32m    937\u001b[0m                 )\n",
      "File \u001b[0;32m/usr/local/lib/python3.11/site-packages/grpc/_channel.py:475\u001b[0m, in \u001b[0;36m_Rendezvous.__next__\u001b[0;34m(self)\u001b[0m\n\u001b[1;32m    474\u001b[0m \u001b[38;5;28;01mdef\u001b[39;00m \u001b[38;5;21m__next__\u001b[39m(\u001b[38;5;28mself\u001b[39m):\n\u001b[0;32m--> 475\u001b[0m     \u001b[38;5;28;01mreturn\u001b[39;00m \u001b[38;5;28;43mself\u001b[39;49m\u001b[38;5;241;43m.\u001b[39;49m\u001b[43m_next\u001b[49m\u001b[43m(\u001b[49m\u001b[43m)\u001b[49m\n",
      "File \u001b[0;32m/usr/local/lib/python3.11/site-packages/grpc/_channel.py:872\u001b[0m, in \u001b[0;36m_MultiThreadedRendezvous._next\u001b[0;34m(self)\u001b[0m\n\u001b[1;32m    866\u001b[0m \u001b[38;5;28;01mdef\u001b[39;00m \u001b[38;5;21m_response_ready\u001b[39m():\n\u001b[1;32m    867\u001b[0m     \u001b[38;5;28;01mreturn\u001b[39;00m (\u001b[38;5;28mself\u001b[39m\u001b[38;5;241m.\u001b[39m_state\u001b[38;5;241m.\u001b[39mresponse \u001b[38;5;129;01mis\u001b[39;00m \u001b[38;5;129;01mnot\u001b[39;00m \u001b[38;5;28;01mNone\u001b[39;00m \u001b[38;5;129;01mor\u001b[39;00m\n\u001b[1;32m    868\u001b[0m             (cygrpc\u001b[38;5;241m.\u001b[39mOperationType\u001b[38;5;241m.\u001b[39mreceive_message\n\u001b[1;32m    869\u001b[0m              \u001b[38;5;129;01mnot\u001b[39;00m \u001b[38;5;129;01min\u001b[39;00m \u001b[38;5;28mself\u001b[39m\u001b[38;5;241m.\u001b[39m_state\u001b[38;5;241m.\u001b[39mdue \u001b[38;5;129;01mand\u001b[39;00m\n\u001b[1;32m    870\u001b[0m              \u001b[38;5;28mself\u001b[39m\u001b[38;5;241m.\u001b[39m_state\u001b[38;5;241m.\u001b[39mcode \u001b[38;5;129;01mis\u001b[39;00m \u001b[38;5;129;01mnot\u001b[39;00m \u001b[38;5;28;01mNone\u001b[39;00m))\n\u001b[0;32m--> 872\u001b[0m \u001b[43m_common\u001b[49m\u001b[38;5;241;43m.\u001b[39;49m\u001b[43mwait\u001b[49m\u001b[43m(\u001b[49m\u001b[38;5;28;43mself\u001b[39;49m\u001b[38;5;241;43m.\u001b[39;49m\u001b[43m_state\u001b[49m\u001b[38;5;241;43m.\u001b[39;49m\u001b[43mcondition\u001b[49m\u001b[38;5;241;43m.\u001b[39;49m\u001b[43mwait\u001b[49m\u001b[43m,\u001b[49m\u001b[43m \u001b[49m\u001b[43m_response_ready\u001b[49m\u001b[43m)\u001b[49m\n\u001b[1;32m    873\u001b[0m \u001b[38;5;28;01mif\u001b[39;00m \u001b[38;5;28mself\u001b[39m\u001b[38;5;241m.\u001b[39m_state\u001b[38;5;241m.\u001b[39mresponse \u001b[38;5;129;01mis\u001b[39;00m \u001b[38;5;129;01mnot\u001b[39;00m \u001b[38;5;28;01mNone\u001b[39;00m:\n\u001b[1;32m    874\u001b[0m     response \u001b[38;5;241m=\u001b[39m \u001b[38;5;28mself\u001b[39m\u001b[38;5;241m.\u001b[39m_state\u001b[38;5;241m.\u001b[39mresponse\n",
      "File \u001b[0;32m/usr/local/lib/python3.11/site-packages/grpc/_common.py:150\u001b[0m, in \u001b[0;36mwait\u001b[0;34m(wait_fn, wait_complete_fn, timeout, spin_cb)\u001b[0m\n\u001b[1;32m    148\u001b[0m \u001b[38;5;28;01mif\u001b[39;00m timeout \u001b[38;5;129;01mis\u001b[39;00m \u001b[38;5;28;01mNone\u001b[39;00m:\n\u001b[1;32m    149\u001b[0m     \u001b[38;5;28;01mwhile\u001b[39;00m \u001b[38;5;129;01mnot\u001b[39;00m wait_complete_fn():\n\u001b[0;32m--> 150\u001b[0m         \u001b[43m_wait_once\u001b[49m\u001b[43m(\u001b[49m\u001b[43mwait_fn\u001b[49m\u001b[43m,\u001b[49m\u001b[43m \u001b[49m\u001b[43mMAXIMUM_WAIT_TIMEOUT\u001b[49m\u001b[43m,\u001b[49m\u001b[43m \u001b[49m\u001b[43mspin_cb\u001b[49m\u001b[43m)\u001b[49m\n\u001b[1;32m    151\u001b[0m \u001b[38;5;28;01melse\u001b[39;00m:\n\u001b[1;32m    152\u001b[0m     end \u001b[38;5;241m=\u001b[39m time\u001b[38;5;241m.\u001b[39mtime() \u001b[38;5;241m+\u001b[39m timeout\n",
      "File \u001b[0;32m/usr/local/lib/python3.11/site-packages/grpc/_common.py:112\u001b[0m, in \u001b[0;36m_wait_once\u001b[0;34m(wait_fn, timeout, spin_cb)\u001b[0m\n\u001b[1;32m    110\u001b[0m \u001b[38;5;28;01mdef\u001b[39;00m \u001b[38;5;21m_wait_once\u001b[39m(wait_fn: Callable[\u001b[38;5;241m.\u001b[39m\u001b[38;5;241m.\u001b[39m\u001b[38;5;241m.\u001b[39m, \u001b[38;5;28mbool\u001b[39m], timeout: \u001b[38;5;28mfloat\u001b[39m,\n\u001b[1;32m    111\u001b[0m                spin_cb: Optional[Callable[[], \u001b[38;5;28;01mNone\u001b[39;00m]]):\n\u001b[0;32m--> 112\u001b[0m     \u001b[43mwait_fn\u001b[49m\u001b[43m(\u001b[49m\u001b[43mtimeout\u001b[49m\u001b[38;5;241;43m=\u001b[39;49m\u001b[43mtimeout\u001b[49m\u001b[43m)\u001b[49m\n\u001b[1;32m    113\u001b[0m     \u001b[38;5;28;01mif\u001b[39;00m spin_cb \u001b[38;5;129;01mis\u001b[39;00m \u001b[38;5;129;01mnot\u001b[39;00m \u001b[38;5;28;01mNone\u001b[39;00m:\n\u001b[1;32m    114\u001b[0m         spin_cb()\n",
      "File \u001b[0;32m/usr/local/lib/python3.11/threading.py:331\u001b[0m, in \u001b[0;36mCondition.wait\u001b[0;34m(self, timeout)\u001b[0m\n\u001b[1;32m    329\u001b[0m \u001b[38;5;28;01melse\u001b[39;00m:\n\u001b[1;32m    330\u001b[0m     \u001b[38;5;28;01mif\u001b[39;00m timeout \u001b[38;5;241m>\u001b[39m \u001b[38;5;241m0\u001b[39m:\n\u001b[0;32m--> 331\u001b[0m         gotit \u001b[38;5;241m=\u001b[39m \u001b[43mwaiter\u001b[49m\u001b[38;5;241;43m.\u001b[39;49m\u001b[43macquire\u001b[49m\u001b[43m(\u001b[49m\u001b[38;5;28;43;01mTrue\u001b[39;49;00m\u001b[43m,\u001b[49m\u001b[43m \u001b[49m\u001b[43mtimeout\u001b[49m\u001b[43m)\u001b[49m\n\u001b[1;32m    332\u001b[0m     \u001b[38;5;28;01melse\u001b[39;00m:\n\u001b[1;32m    333\u001b[0m         gotit \u001b[38;5;241m=\u001b[39m waiter\u001b[38;5;241m.\u001b[39macquire(\u001b[38;5;28;01mFalse\u001b[39;00m)\n",
      "\u001b[0;31mKeyboardInterrupt\u001b[0m: "
     ]
    }
   ],
   "source": [
    "# Inserindo os dados na tabela\n",
    "insert_query = f\"\"\"\n",
    "INSERT INTO ODS_ENEM VALUES {\",\".join([\"(\" + \",\".join(map(str, row)) + \")\" for row in dfAgregate.collect()])}\n",
    "\"\"\"\n",
    "cursor.execute(insert_query)"
   ]
  },
  {
   "cell_type": "code",
   "execution_count": null,
   "id": "3eef44b6-baf0-4d9c-9f30-579606118c2c",
   "metadata": {},
   "outputs": [],
   "source": [
    "# Commit das alterações no banco de dados\n",
    "conn.commit()"
   ]
  },
  {
   "cell_type": "code",
   "execution_count": null,
   "id": "871271ef-ac95-4286-bb72-88e1e23fd6dd",
   "metadata": {},
   "outputs": [],
   "source": [
    "# Fechando a conexão\n",
    "conn.close()"
   ]
  },
  {
   "cell_type": "code",
   "execution_count": null,
   "id": "dafe0615",
   "metadata": {},
   "outputs": [],
   "source": [
    "print(f'Tabela {nomeTabela} criada com sucesso no banco de dados.')\n"
   ]
  }
 ],
 "metadata": {
  "kernelspec": {
   "display_name": "Python 3 (ipykernel)",
   "language": "python",
   "name": "python3"
  },
  "language_info": {
   "codemirror_mode": {
    "name": "ipython",
    "version": 3
   },
   "file_extension": ".py",
   "mimetype": "text/x-python",
   "name": "python",
   "nbconvert_exporter": "python",
   "pygments_lexer": "ipython3",
   "version": "3.11.9"
  }
 },
 "nbformat": 4,
 "nbformat_minor": 5
}
