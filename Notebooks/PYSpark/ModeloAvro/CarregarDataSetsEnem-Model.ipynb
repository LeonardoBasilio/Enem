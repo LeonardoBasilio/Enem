{
 "cells": [
  {
   "cell_type": "markdown",
   "id": "a31e718b-14d9-4751-9dec-71f56129a085",
   "metadata": {},
   "source": [
    "## Importação das Bibiliotecas"
   ]
  },
  {
   "cell_type": "code",
   "execution_count": 18,
   "id": "9b7d34fe",
   "metadata": {},
   "outputs": [
    {
     "ename": "ValueError",
     "evalue": "No closing quotation",
     "output_type": "error",
     "traceback": [
      "\u001b[0;31m---------------------------------------------------------------------------\u001b[0m",
      "\u001b[0;31mValueError\u001b[0m                                Traceback (most recent call last)",
      "\u001b[1;32m/home/leonardo/Documentos/Enem/Notebooks/PYSpark/ModeloAvro/CarregarDataSetsEnem-Model.ipynb Cell 2\u001b[0m line \u001b[0;36m1\n\u001b[0;32m----> <a href='vscode-notebook-cell:/home/leonardo/Documentos/Enem/Notebooks/PYSpark/ModeloAvro/CarregarDataSetsEnem-Model.ipynb#W6sZmlsZQ%3D%3D?line=0'>1</a>\u001b[0m get_ipython()\u001b[39m.\u001b[39;49mrun_line_magic(\u001b[39m'\u001b[39;49m\u001b[39mrun\u001b[39;49m\u001b[39m'\u001b[39;49m, \u001b[39m'\u001b[39;49m\u001b[39m\"\u001b[39;49m\u001b[39mPYSpark\u001b[39;49m\u001b[39m\\\\\u001b[39;49;00m\u001b[39mSpark_Run.ipynb\u001b[39;49m\u001b[39m\"\u001b[39;49m\u001b[39m\"\u001b[39;49m\u001b[39m'\u001b[39;49m)\n",
      "File \u001b[0;32m~/Documentos/Enem/mEnem/lib/python3.8/site-packages/IPython/core/interactiveshell.py:2417\u001b[0m, in \u001b[0;36mInteractiveShell.run_line_magic\u001b[0;34m(self, magic_name, line, _stack_depth)\u001b[0m\n\u001b[1;32m   2415\u001b[0m     kwargs[\u001b[39m'\u001b[39m\u001b[39mlocal_ns\u001b[39m\u001b[39m'\u001b[39m] \u001b[39m=\u001b[39m \u001b[39mself\u001b[39m\u001b[39m.\u001b[39mget_local_scope(stack_depth)\n\u001b[1;32m   2416\u001b[0m \u001b[39mwith\u001b[39;00m \u001b[39mself\u001b[39m\u001b[39m.\u001b[39mbuiltin_trap:\n\u001b[0;32m-> 2417\u001b[0m     result \u001b[39m=\u001b[39m fn(\u001b[39m*\u001b[39;49margs, \u001b[39m*\u001b[39;49m\u001b[39m*\u001b[39;49mkwargs)\n\u001b[1;32m   2419\u001b[0m \u001b[39m# The code below prevents the output from being displayed\u001b[39;00m\n\u001b[1;32m   2420\u001b[0m \u001b[39m# when using magics with decodator @output_can_be_silenced\u001b[39;00m\n\u001b[1;32m   2421\u001b[0m \u001b[39m# when the last Python token in the expression is a ';'.\u001b[39;00m\n\u001b[1;32m   2422\u001b[0m \u001b[39mif\u001b[39;00m \u001b[39mgetattr\u001b[39m(fn, magic\u001b[39m.\u001b[39mMAGIC_OUTPUT_CAN_BE_SILENCED, \u001b[39mFalse\u001b[39;00m):\n",
      "File \u001b[0;32m~/Documentos/Enem/mEnem/lib/python3.8/site-packages/IPython/core/magics/execution.py:688\u001b[0m, in \u001b[0;36mExecutionMagics.run\u001b[0;34m(self, parameter_s, runner, file_finder)\u001b[0m\n\u001b[1;32m    685\u001b[0m     parameter_s \u001b[39m=\u001b[39m \u001b[39m'\u001b[39m\u001b[39m \u001b[39m\u001b[39m'\u001b[39m\u001b[39m.\u001b[39mjoin(shlex\u001b[39m.\u001b[39mquote(arg) \u001b[39mfor\u001b[39;00m arg \u001b[39min\u001b[39;00m argv)\n\u001b[1;32m    687\u001b[0m \u001b[39m# get arguments and set sys.argv for program to be run.\u001b[39;00m\n\u001b[0;32m--> 688\u001b[0m opts, arg_lst \u001b[39m=\u001b[39m \u001b[39mself\u001b[39;49m\u001b[39m.\u001b[39;49mparse_options(parameter_s,\n\u001b[1;32m    689\u001b[0m                                    \u001b[39m'\u001b[39;49m\u001b[39mnidtN:b:pD:l:rs:T:em:G\u001b[39;49m\u001b[39m'\u001b[39;49m,\n\u001b[1;32m    690\u001b[0m                                    mode\u001b[39m=\u001b[39;49m\u001b[39m'\u001b[39;49m\u001b[39mlist\u001b[39;49m\u001b[39m'\u001b[39;49m, list_all\u001b[39m=\u001b[39;49m\u001b[39m1\u001b[39;49m)\n\u001b[1;32m    691\u001b[0m \u001b[39mif\u001b[39;00m \u001b[39m\"\u001b[39m\u001b[39mm\u001b[39m\u001b[39m\"\u001b[39m \u001b[39min\u001b[39;00m opts:\n\u001b[1;32m    692\u001b[0m     modulename \u001b[39m=\u001b[39m opts[\u001b[39m\"\u001b[39m\u001b[39mm\u001b[39m\u001b[39m\"\u001b[39m][\u001b[39m0\u001b[39m]\n",
      "File \u001b[0;32m~/Documentos/Enem/mEnem/lib/python3.8/site-packages/IPython/core/magic.py:670\u001b[0m, in \u001b[0;36mMagics.parse_options\u001b[0;34m(self, arg_str, opt_str, *long_opts, **kw)\u001b[0m\n\u001b[1;32m    666\u001b[0m args \u001b[39m=\u001b[39m arg_str\u001b[39m.\u001b[39msplit()\n\u001b[1;32m    667\u001b[0m \u001b[39mif\u001b[39;00m \u001b[39mlen\u001b[39m(args) \u001b[39m>\u001b[39m\u001b[39m=\u001b[39m \u001b[39m1\u001b[39m:\n\u001b[1;32m    668\u001b[0m     \u001b[39m# If the list of inputs only has 0 or 1 thing in it, there's no\u001b[39;00m\n\u001b[1;32m    669\u001b[0m     \u001b[39m# need to look for options\u001b[39;00m\n\u001b[0;32m--> 670\u001b[0m     argv \u001b[39m=\u001b[39m arg_split(arg_str, posix, strict)\n\u001b[1;32m    671\u001b[0m     \u001b[39m# Do regular option processing\u001b[39;00m\n\u001b[1;32m    672\u001b[0m     \u001b[39mtry\u001b[39;00m:\n",
      "File \u001b[0;32m~/Documentos/Enem/mEnem/lib/python3.8/site-packages/IPython/utils/_process_common.py:200\u001b[0m, in \u001b[0;36marg_split\u001b[0;34m(s, posix, strict)\u001b[0m\n\u001b[1;32m    198\u001b[0m \u001b[39mwhile\u001b[39;00m \u001b[39mTrue\u001b[39;00m:\n\u001b[1;32m    199\u001b[0m     \u001b[39mtry\u001b[39;00m:\n\u001b[0;32m--> 200\u001b[0m         tokens\u001b[39m.\u001b[39mappend(\u001b[39mnext\u001b[39;49m(lex))\n\u001b[1;32m    201\u001b[0m     \u001b[39mexcept\u001b[39;00m \u001b[39mStopIteration\u001b[39;00m:\n\u001b[1;32m    202\u001b[0m         \u001b[39mbreak\u001b[39;00m\n",
      "File \u001b[0;32m/usr/lib/python3.8/shlex.py:300\u001b[0m, in \u001b[0;36mshlex.__next__\u001b[0;34m(self)\u001b[0m\n\u001b[1;32m    299\u001b[0m \u001b[39mdef\u001b[39;00m \u001b[39m__next__\u001b[39m(\u001b[39mself\u001b[39m):\n\u001b[0;32m--> 300\u001b[0m     token \u001b[39m=\u001b[39m \u001b[39mself\u001b[39;49m\u001b[39m.\u001b[39;49mget_token()\n\u001b[1;32m    301\u001b[0m     \u001b[39mif\u001b[39;00m token \u001b[39m==\u001b[39m \u001b[39mself\u001b[39m\u001b[39m.\u001b[39meof:\n\u001b[1;32m    302\u001b[0m         \u001b[39mraise\u001b[39;00m \u001b[39mStopIteration\u001b[39;00m\n",
      "File \u001b[0;32m/usr/lib/python3.8/shlex.py:109\u001b[0m, in \u001b[0;36mshlex.get_token\u001b[0;34m(self)\u001b[0m\n\u001b[1;32m    107\u001b[0m     \u001b[39mreturn\u001b[39;00m tok\n\u001b[1;32m    108\u001b[0m \u001b[39m# No pushback.  Get a token.\u001b[39;00m\n\u001b[0;32m--> 109\u001b[0m raw \u001b[39m=\u001b[39m \u001b[39mself\u001b[39;49m\u001b[39m.\u001b[39;49mread_token()\n\u001b[1;32m    110\u001b[0m \u001b[39m# Handle inclusions\u001b[39;00m\n\u001b[1;32m    111\u001b[0m \u001b[39mif\u001b[39;00m \u001b[39mself\u001b[39m\u001b[39m.\u001b[39msource \u001b[39mis\u001b[39;00m \u001b[39mnot\u001b[39;00m \u001b[39mNone\u001b[39;00m:\n",
      "File \u001b[0;32m/usr/lib/python3.8/shlex.py:191\u001b[0m, in \u001b[0;36mshlex.read_token\u001b[0;34m(self)\u001b[0m\n\u001b[1;32m    189\u001b[0m         \u001b[39mprint\u001b[39m(\u001b[39m\"\u001b[39m\u001b[39mshlex: I see EOF in quotes state\u001b[39m\u001b[39m\"\u001b[39m)\n\u001b[1;32m    190\u001b[0m     \u001b[39m# XXX what error should be raised here?\u001b[39;00m\n\u001b[0;32m--> 191\u001b[0m     \u001b[39mraise\u001b[39;00m \u001b[39mValueError\u001b[39;00m(\u001b[39m\"\u001b[39m\u001b[39mNo closing quotation\u001b[39m\u001b[39m\"\u001b[39m)\n\u001b[1;32m    192\u001b[0m \u001b[39mif\u001b[39;00m nextchar \u001b[39m==\u001b[39m \u001b[39mself\u001b[39m\u001b[39m.\u001b[39mstate:\n\u001b[1;32m    193\u001b[0m     \u001b[39mif\u001b[39;00m \u001b[39mnot\u001b[39;00m \u001b[39mself\u001b[39m\u001b[39m.\u001b[39mposix:\n",
      "\u001b[0;31mValueError\u001b[0m: No closing quotation"
     ]
    }
   ],
   "source": [
    "%run \"PYSpark\\Spark_Run.ipynb\"\""
   ]
  },
  {
   "cell_type": "code",
   "execution_count": null,
   "id": "8f5eec51",
   "metadata": {},
   "outputs": [],
   "source": [
    "import pyspark.sql.functions as F\n"
   ]
  },
  {
   "cell_type": "markdown",
   "id": "24b8ca81",
   "metadata": {},
   "source": [
    "# Testando configuração arquivo Parquet\n"
   ]
  },
  {
   "cell_type": "code",
   "execution_count": null,
   "id": "52b2d19e",
   "metadata": {},
   "outputs": [],
   "source": [
    "file_csv = r'C:\\Users\\leoba\\Documents\\Enem\\Dataset\\Model\\MICRODADOS_ENEM_MODEL.CSV'\n",
    "\n",
    "#Função Paa ler os arquivos CSV\n",
    "def lerCSV(spark, caminho_arquivo):\n",
    "    df = spark.read.csv(caminho_arquivo, sep=';', header=True, inferSchema=True, encoding='ISO-8859-1')\n",
    "    colunas_selecionadas = [F.col(df.columns[i]) for i in range(0, 13)] + [F.col(df.columns[i]) for i in range(23, 27)]  + [F.col(df.columns[i]) for i in range(31, 35)] + [F.col(df.columns[39])] + [F.col(df.columns[56])]\n",
    "    return df.select(colunas_selecionadas)\n",
    "\n"
   ]
  },
  {
   "cell_type": "code",
   "execution_count": null,
   "id": "a7d0101b",
   "metadata": {},
   "outputs": [],
   "source": [
    "dfDadosEnem = lerCSV(spark, file_csv)\n",
    "dfDadosProva = lerCSV(spark, file_csv)"
   ]
  },
  {
   "cell_type": "code",
   "execution_count": null,
   "id": "8e2c19c0",
   "metadata": {},
   "outputs": [
    {
     "name": "stdout",
     "output_type": "stream",
     "text": [
      "+------------+------+---------------+-------+---------------+-----------+----------------+---------------+---------------+---------+---------+------------+----------------+--------------+--------------+--------------+--------------+----------+----------+----------+----------+---------+----+\n",
      "|NU_INSCRICAO|NU_ANO|TP_FAIXA_ETARIA|TP_SEXO|TP_ESTADO_CIVIL|TP_COR_RACA|TP_NACIONALIDADE|TP_ST_CONCLUSAO|TP_ANO_CONCLUIU|TP_ESCOLA|TP_ENSINO|IN_TREINEIRO|CO_MUNICIPIO_ESC|TP_PRESENCA_CN|TP_PRESENCA_CH|TP_PRESENCA_LC|TP_PRESENCA_MT|NU_NOTA_CN|NU_NOTA_CH|NU_NOTA_LC|NU_NOTA_MT|TP_LINGUA|Q006|\n",
      "+------------+------+---------------+-------+---------------+-----------+----------------+---------------+---------------+---------+---------+------------+----------------+--------------+--------------+--------------+--------------+----------+----------+----------+----------+---------+----+\n",
      "|210057943671|  2022|             14|      M|              2|          2|               1|              1|              2|        1|     null|           0|            null|             0|             0|             0|             0|      null|      null|      null|      null|        0|   B|\n",
      "|210057516120|  2022|             14|      M|              2|          1|               1|              1|             16|        1|     null|           0|            null|             0|             0|             0|             0|      null|      null|      null|      null|        0|   Q|\n",
      "|210055097896|  2022|              4|      M|              0|          3|               1|              1|              1|        1|     null|           0|            null|             0|             0|             0|             0|      null|      null|      null|      null|        0|   B|\n",
      "|210055724397|  2022|              6|      M|              1|          3|               1|              1|              2|        1|     null|           0|            null|             1|             1|             1|             1|     490.7|     388.6|     357.8|       416|        1|   A|\n",
      "+------------+------+---------------+-------+---------------+-----------+----------------+---------------+---------------+---------+---------+------------+----------------+--------------+--------------+--------------+--------------+----------+----------+----------+----------+---------+----+\n",
      "\n"
     ]
    }
   ],
   "source": [
    "dfDadosEnem.show()"
   ]
  },
  {
   "cell_type": "code",
   "execution_count": null,
   "id": "a1763f20",
   "metadata": {},
   "outputs": [
    {
     "ename": "",
     "evalue": "",
     "output_type": "error",
     "traceback": [
      "\u001b[1;31mThe Kernel crashed while executing code in the the current cell or a previous cell. Please review the code in the cell(s) to identify a possible cause of the failure. Click <a href='https://aka.ms/vscodeJupyterKernelCrash'>here</a> for more info. View Jupyter <a href='command:jupyter.viewOutput'>log</a> for further details."
     ]
    }
   ],
   "source": [
    "dfDadosEnem.write.csv(path=r'C:\\Users\\leoba\\Documents\\Enem\\Dataset\\csv', mode='overwrite')"
   ]
  },
  {
   "cell_type": "code",
   "execution_count": null,
   "id": "0c93cb11",
   "metadata": {},
   "outputs": [],
   "source": [
    "# Lista das colunas que não devem ser afetadas\n",
    "colunas_nao_afetadas = ['NU_NOTA_CN', 'NU_NOTA_CH', 'NU_NOTA_LC', 'NU_NOTA_MT']\n"
   ]
  },
  {
   "cell_type": "code",
   "execution_count": null,
   "id": "aa5b4277",
   "metadata": {},
   "outputs": [],
   "source": [
    "for coluna in dfDadosEnem.columns:\n",
    "    if coluna not in colunas_nao_afetadas:\n",
    "        dfDadosEnem = dfDadosEnem.withColumn(\n",
    "            coluna,\n",
    "            F.when(F.col(coluna).isNull(), -2).otherwise(F.col(coluna))\n",
    "        )"
   ]
  },
  {
   "cell_type": "code",
   "execution_count": null,
   "id": "a0733c6b",
   "metadata": {},
   "outputs": [],
   "source": [
    "dfPreencher = dfDadosEnem\n"
   ]
  },
  {
   "cell_type": "markdown",
   "id": "ba9d6ed5",
   "metadata": {},
   "source": [
    "# Cria arquivo parquet, através do DF Carregado"
   ]
  },
  {
   "cell_type": "code",
   "execution_count": null,
   "id": "a2644637",
   "metadata": {},
   "outputs": [],
   "source": [
    "#dfPreencher.write.parquet(path=r\"C:\\Users\\leoba\\Documents\\Enem\\Dataset\\parquet\",mode='overwrite') Em teste"
   ]
  },
  {
   "cell_type": "markdown",
   "id": "7d4b0c80",
   "metadata": {},
   "source": [
    "## Ler arquivo Avro recem criado"
   ]
  },
  {
   "cell_type": "code",
   "execution_count": null,
   "id": "aa877451",
   "metadata": {},
   "outputs": [
    {
     "ename": "InvalidAvroBinaryEncoding",
     "evalue": "Read 0 bytes, expected 4 bytes",
     "output_type": "error",
     "traceback": [
      "\u001b[1;31m---------------------------------------------------------------------------\u001b[0m",
      "\u001b[1;31mInvalidAvroBinaryEncoding\u001b[0m                 Traceback (most recent call last)",
      "\u001b[1;32mc:\\Users\\leoba\\Documents\\Enem\\Dataset\\avro\\CarregarDataSetsEnem-Model.ipynb Cell 13\u001b[0m line \u001b[0;36m1\n\u001b[1;32m----> <a href='vscode-notebook-cell:/c%3A/Users/leoba/Documents/Enem/Dataset/avro/CarregarDataSetsEnem-Model.ipynb#X31sZmlsZQ%3D%3D?line=0'>1</a>\u001b[0m reader \u001b[39m=\u001b[39m DataFileReader(\u001b[39mopen\u001b[39;49m(\u001b[39m\"\u001b[39;49m\u001b[39mDadosEnem.avro\u001b[39;49m\u001b[39m\"\u001b[39;49m, \u001b[39m\"\u001b[39;49m\u001b[39mrb\u001b[39;49m\u001b[39m\"\u001b[39;49m), DatumReader())\n\u001b[0;32m      <a href='vscode-notebook-cell:/c%3A/Users/leoba/Documents/Enem/Dataset/avro/CarregarDataSetsEnem-Model.ipynb#X31sZmlsZQ%3D%3D?line=1'>2</a>\u001b[0m \u001b[39mfor\u001b[39;00m NU_ANO \u001b[39min\u001b[39;00m reader:\n\u001b[0;32m      <a href='vscode-notebook-cell:/c%3A/Users/leoba/Documents/Enem/Dataset/avro/CarregarDataSetsEnem-Model.ipynb#X31sZmlsZQ%3D%3D?line=2'>3</a>\u001b[0m     \u001b[39mprint\u001b[39m(NU_ANO)\n",
      "File \u001b[1;32me:\\anaconda3\\Lib\\site-packages\\avro\\datafile.py:327\u001b[0m, in \u001b[0;36mDataFileReader.__init__\u001b[1;34m(self, reader, datum_reader)\u001b[0m\n\u001b[0;32m    324\u001b[0m \u001b[39mself\u001b[39m\u001b[39m.\u001b[39m_datum_reader \u001b[39m=\u001b[39m datum_reader\n\u001b[0;32m    326\u001b[0m \u001b[39m# read the header: magic, meta, sync\u001b[39;00m\n\u001b[1;32m--> 327\u001b[0m \u001b[39mself\u001b[39;49m\u001b[39m.\u001b[39;49m_read_header()\n\u001b[0;32m    329\u001b[0m \u001b[39m# get file length\u001b[39;00m\n\u001b[0;32m    330\u001b[0m \u001b[39mself\u001b[39m\u001b[39m.\u001b[39m_file_length \u001b[39m=\u001b[39m \u001b[39mself\u001b[39m\u001b[39m.\u001b[39mdetermine_file_length()\n",
      "File \u001b[1;32me:\\anaconda3\\Lib\\site-packages\\avro\\datafile.py:377\u001b[0m, in \u001b[0;36mDataFileReader._read_header\u001b[1;34m(self)\u001b[0m\n\u001b[0;32m    374\u001b[0m \u001b[39mself\u001b[39m\u001b[39m.\u001b[39mreader\u001b[39m.\u001b[39mseek(\u001b[39m0\u001b[39m, \u001b[39m0\u001b[39m)\n\u001b[0;32m    376\u001b[0m \u001b[39m# read header into a dict\u001b[39;00m\n\u001b[1;32m--> 377\u001b[0m header \u001b[39m=\u001b[39m cast(HeaderType, \u001b[39mself\u001b[39;49m\u001b[39m.\u001b[39;49mdatum_reader\u001b[39m.\u001b[39;49mread_data(META_SCHEMA, META_SCHEMA, \u001b[39mself\u001b[39;49m\u001b[39m.\u001b[39;49mraw_decoder))\n\u001b[0;32m    378\u001b[0m \u001b[39mif\u001b[39;00m header\u001b[39m.\u001b[39mget(\u001b[39m\"\u001b[39m\u001b[39mmagic\u001b[39m\u001b[39m\"\u001b[39m) \u001b[39m!=\u001b[39m MAGIC:\n\u001b[0;32m    379\u001b[0m     \u001b[39mraise\u001b[39;00m avro\u001b[39m.\u001b[39merrors\u001b[39m.\u001b[39mAvroException(\u001b[39mf\u001b[39m\u001b[39m\"\u001b[39m\u001b[39mNot an Avro data file: \u001b[39m\u001b[39m{\u001b[39;00mheader\u001b[39m.\u001b[39mget(\u001b[39m'\u001b[39m\u001b[39mmagic\u001b[39m\u001b[39m'\u001b[39m)\u001b[39m!r}\u001b[39;00m\u001b[39m doesn\u001b[39m\u001b[39m'\u001b[39m\u001b[39mt match \u001b[39m\u001b[39m{\u001b[39;00mMAGIC\u001b[39m!r}\u001b[39;00m\u001b[39m.\u001b[39m\u001b[39m\"\u001b[39m)\n",
      "File \u001b[1;32me:\\anaconda3\\Lib\\site-packages\\avro\\io.py:727\u001b[0m, in \u001b[0;36mDatumReader.read_data\u001b[1;34m(self, writers_schema, readers_schema, decoder)\u001b[0m\n\u001b[0;32m    724\u001b[0m     \u001b[39mreturn\u001b[39;00m \u001b[39mself\u001b[39m\u001b[39m.\u001b[39mread_map(writers_schema, readers_schema, decoder)\n\u001b[0;32m    725\u001b[0m \u001b[39mif\u001b[39;00m \u001b[39misinstance\u001b[39m(writers_schema, avro\u001b[39m.\u001b[39mschema\u001b[39m.\u001b[39mRecordSchema) \u001b[39mand\u001b[39;00m \u001b[39misinstance\u001b[39m(readers_schema, avro\u001b[39m.\u001b[39mschema\u001b[39m.\u001b[39mRecordSchema):\n\u001b[0;32m    726\u001b[0m     \u001b[39m# .type in [\"record\", \"error\", \"request\"]:\u001b[39;00m\n\u001b[1;32m--> 727\u001b[0m     \u001b[39mreturn\u001b[39;00m \u001b[39mself\u001b[39;49m\u001b[39m.\u001b[39;49mread_record(writers_schema, readers_schema, decoder)\n\u001b[0;32m    728\u001b[0m \u001b[39mraise\u001b[39;00m avro\u001b[39m.\u001b[39merrors\u001b[39m.\u001b[39mAvroException(\u001b[39mf\u001b[39m\u001b[39m\"\u001b[39m\u001b[39mCannot read unknown schema type: \u001b[39m\u001b[39m{\u001b[39;00mwriters_schema\u001b[39m.\u001b[39mtype\u001b[39m}\u001b[39;00m\u001b[39m\"\u001b[39m)\n",
      "File \u001b[1;32me:\\anaconda3\\Lib\\site-packages\\avro\\io.py:922\u001b[0m, in \u001b[0;36mDatumReader.read_record\u001b[1;34m(self, writers_schema, readers_schema, decoder)\u001b[0m\n\u001b[0;32m    920\u001b[0m readers_field \u001b[39m=\u001b[39m readers_fields_dict\u001b[39m.\u001b[39mget(field\u001b[39m.\u001b[39mname)\n\u001b[0;32m    921\u001b[0m \u001b[39mif\u001b[39;00m readers_field \u001b[39mis\u001b[39;00m \u001b[39mnot\u001b[39;00m \u001b[39mNone\u001b[39;00m:\n\u001b[1;32m--> 922\u001b[0m     field_val \u001b[39m=\u001b[39m \u001b[39mself\u001b[39;49m\u001b[39m.\u001b[39;49mread_data(field\u001b[39m.\u001b[39;49mtype, readers_field\u001b[39m.\u001b[39;49mtype, decoder)\n\u001b[0;32m    923\u001b[0m     read_record[field\u001b[39m.\u001b[39mname] \u001b[39m=\u001b[39m field_val\n\u001b[0;32m    924\u001b[0m \u001b[39melse\u001b[39;00m:\n",
      "File \u001b[1;32me:\\anaconda3\\Lib\\site-packages\\avro\\io.py:718\u001b[0m, in \u001b[0;36mDatumReader.read_data\u001b[1;34m(self, writers_schema, readers_schema, decoder)\u001b[0m\n\u001b[0;32m    716\u001b[0m             \u001b[39mreturn\u001b[39;00m \u001b[39mself\u001b[39m\u001b[39m.\u001b[39mread_fixed(writers_schema, readers_schema, decoder)\n\u001b[0;32m    717\u001b[0m         \u001b[39mreturn\u001b[39;00m decoder\u001b[39m.\u001b[39mread_decimal_from_fixed(precision, scale, writers_schema\u001b[39m.\u001b[39msize)\n\u001b[1;32m--> 718\u001b[0m     \u001b[39mreturn\u001b[39;00m \u001b[39mself\u001b[39;49m\u001b[39m.\u001b[39;49mread_fixed(writers_schema, readers_schema, decoder)\n\u001b[0;32m    719\u001b[0m \u001b[39mif\u001b[39;00m \u001b[39misinstance\u001b[39m(writers_schema, avro\u001b[39m.\u001b[39mschema\u001b[39m.\u001b[39mEnumSchema) \u001b[39mand\u001b[39;00m \u001b[39misinstance\u001b[39m(readers_schema, avro\u001b[39m.\u001b[39mschema\u001b[39m.\u001b[39mEnumSchema):\n\u001b[0;32m    720\u001b[0m     \u001b[39mreturn\u001b[39;00m \u001b[39mself\u001b[39m\u001b[39m.\u001b[39mread_enum(writers_schema, readers_schema, decoder)\n",
      "File \u001b[1;32me:\\anaconda3\\Lib\\site-packages\\avro\\io.py:766\u001b[0m, in \u001b[0;36mDatumReader.read_fixed\u001b[1;34m(self, writers_schema, readers_schema, decoder)\u001b[0m\n\u001b[0;32m    761\u001b[0m \u001b[39mdef\u001b[39;00m \u001b[39mread_fixed\u001b[39m(\u001b[39mself\u001b[39m, writers_schema: avro\u001b[39m.\u001b[39mschema\u001b[39m.\u001b[39mFixedSchema, readers_schema: avro\u001b[39m.\u001b[39mschema\u001b[39m.\u001b[39mSchema, decoder: BinaryDecoder) \u001b[39m-\u001b[39m\u001b[39m>\u001b[39m \u001b[39mbytes\u001b[39m:\n\u001b[0;32m    762\u001b[0m \u001b[39m    \u001b[39m\u001b[39m\"\"\"\u001b[39;00m\n\u001b[0;32m    763\u001b[0m \u001b[39m    Fixed instances are encoded using the number of bytes declared\u001b[39;00m\n\u001b[0;32m    764\u001b[0m \u001b[39m    in the schema.\u001b[39;00m\n\u001b[0;32m    765\u001b[0m \u001b[39m    \"\"\"\u001b[39;00m\n\u001b[1;32m--> 766\u001b[0m     \u001b[39mreturn\u001b[39;00m decoder\u001b[39m.\u001b[39;49mread(writers_schema\u001b[39m.\u001b[39;49msize)\n",
      "File \u001b[1;32me:\\anaconda3\\Lib\\site-packages\\avro\\io.py:229\u001b[0m, in \u001b[0;36mBinaryDecoder.read\u001b[1;34m(self, n)\u001b[0m\n\u001b[0;32m    227\u001b[0m read_bytes \u001b[39m=\u001b[39m \u001b[39mself\u001b[39m\u001b[39m.\u001b[39mreader\u001b[39m.\u001b[39mread(n)\n\u001b[0;32m    228\u001b[0m \u001b[39mif\u001b[39;00m \u001b[39mlen\u001b[39m(read_bytes) \u001b[39m!=\u001b[39m n:\n\u001b[1;32m--> 229\u001b[0m     \u001b[39mraise\u001b[39;00m avro\u001b[39m.\u001b[39merrors\u001b[39m.\u001b[39mInvalidAvroBinaryEncoding(\u001b[39mf\u001b[39m\u001b[39m\"\u001b[39m\u001b[39mRead \u001b[39m\u001b[39m{\u001b[39;00m\u001b[39mlen\u001b[39m(read_bytes)\u001b[39m}\u001b[39;00m\u001b[39m bytes, expected \u001b[39m\u001b[39m{\u001b[39;00mn\u001b[39m}\u001b[39;00m\u001b[39m bytes\u001b[39m\u001b[39m\"\u001b[39m)\n\u001b[0;32m    230\u001b[0m \u001b[39mreturn\u001b[39;00m read_bytes\n",
      "\u001b[1;31mInvalidAvroBinaryEncoding\u001b[0m: Read 0 bytes, expected 4 bytes"
     ]
    }
   ],
   "source": [
    "reader = DataFileReader(open(\"DadosEnem.avro\", \"rb\"), DatumReader())\n",
    "for NU_ANO in reader:\n",
    "    print(NU_ANO)\n",
    "reader.close()"
   ]
  },
  {
   "cell_type": "markdown",
   "id": "a92050d4",
   "metadata": {},
   "source": [
    "## Criando uma SparkSession"
   ]
  },
  {
   "cell_type": "markdown",
   "id": "1a8ed9e6-77de-42fb-96ed-d1b23d0251a4",
   "metadata": {},
   "source": [
    "## Processo de Leitura do CSV de Participantes\n"
   ]
  },
  {
   "cell_type": "code",
   "execution_count": null,
   "id": "d274d98f-6627-4353-bcd9-1ff60159564f",
   "metadata": {
    "tags": []
   },
   "outputs": [
    {
     "name": "stdout",
     "output_type": "stream",
     "text": [
      "C:\\Users\\leoba\n",
      "C:\\Users\\leoba\\Documents\\Enem\\Dataset\\Model\\MICRODADOS_ENEM_MODEL.CSV\n"
     ]
    }
   ],
   "source": [
    "# Parte fixa do caminho\n",
    "parte_fixa = r'Documents\\Enem\\Dataset\\Model\\MICRODADOS_ENEM_MODEL.CSV'\n",
    "\n",
    "# Diretório raiz do sistema operacional atual\n",
    "root_dir = os.path.expanduser(\"~\")\n",
    "print(root_dir)\n",
    "# Caminho completo\n",
    "caminho_model = os.path.join(root_dir, parte_fixa)\n",
    "print(caminho_model)"
   ]
  },
  {
   "cell_type": "code",
   "execution_count": null,
   "id": "326d8fa5",
   "metadata": {},
   "outputs": [],
   "source": [
    "#Função Paa ler os arquivos CSV\n",
    "def lerCSV(spark, caminho_arquivo):\n",
    "    df = spark.read.csv(caminho_model, sep=';', header=True, inferSchema=True, encoding='ISO-8859-1')\n",
    "    colunas_selecionadas = df.columns[:12]\n",
    "    return df.select(colunas_selecionadas)\n"
   ]
  },
  {
   "cell_type": "code",
   "execution_count": null,
   "id": "8b889869-4d51-4802-9259-f27d6fb5db0b",
   "metadata": {
    "tags": []
   },
   "outputs": [],
   "source": [
    "##Chama função quer ler o arquivo CSV e Transforma para DF.SPARK\n",
    "\n",
    "dfDadosModel = lerCSV(spark, caminho_model)\n",
    "\n"
   ]
  },
  {
   "cell_type": "code",
   "execution_count": null,
   "id": "94330024-91c4-4ec5-8727-3a05567b9450",
   "metadata": {
    "tags": []
   },
   "outputs": [
    {
     "name": "stdout",
     "output_type": "stream",
     "text": [
      "+------------+------+---------------+-------+---------------+-----------+----------------+---------------+---------------+---------+---------+------------+\n",
      "|NU_INSCRICAO|NU_ANO|TP_FAIXA_ETARIA|TP_SEXO|TP_ESTADO_CIVIL|TP_COR_RACA|TP_NACIONALIDADE|TP_ST_CONCLUSAO|TP_ANO_CONCLUIU|TP_ESCOLA|TP_ENSINO|IN_TREINEIRO|\n",
      "+------------+------+---------------+-------+---------------+-----------+----------------+---------------+---------------+---------+---------+------------+\n",
      "|210057943671|  2022|             14|      M|              2|          2|               1|              1|              2|        1|     null|           0|\n",
      "|210057516120|  2022|             14|      M|              2|          1|               1|              1|             16|        1|     null|           0|\n",
      "|210055097896|  2022|              4|      M|              0|          3|               1|              1|              1|        1|     null|           0|\n",
      "|210055724397|  2022|              6|      M|              1|          3|               1|              1|              2|        1|     null|           0|\n",
      "+------------+------+---------------+-------+---------------+-----------+----------------+---------------+---------------+---------+---------+------------+\n",
      "\n"
     ]
    }
   ],
   "source": [
    "dfDadosModel.show()"
   ]
  },
  {
   "cell_type": "code",
   "execution_count": null,
   "id": "a31e1480-d288-4404-936f-bb65bd9de4f1",
   "metadata": {
    "tags": []
   },
   "outputs": [],
   "source": [
    "PathParticipantes = r'.\\Enem\\Dataset\\parquet'\n"
   ]
  },
  {
   "cell_type": "code",
   "execution_count": null,
   "id": "1cfb8ea5-8762-45ef-b151-cc1a045f199b",
   "metadata": {
    "tags": []
   },
   "outputs": [
    {
     "name": "stdout",
     "output_type": "stream",
     "text": [
      "C:\\Users\\leoba\\Documents\\Enem\\Dataset\\parquet\n"
     ]
    },
    {
     "ename": "AnalysisException",
     "evalue": "Failed to find data source: avro. Avro is built-in but external data source module since Spark 2.4. Please deploy the application as per the deployment section of Apache Avro Data Source Guide.",
     "output_type": "error",
     "traceback": [
      "\u001b[1;31m---------------------------------------------------------------------------\u001b[0m",
      "\u001b[1;31mAnalysisException\u001b[0m                         Traceback (most recent call last)",
      "Cell \u001b[1;32mIn[16], line 9\u001b[0m\n\u001b[0;32m      6\u001b[0m \u001b[39mprint\u001b[39m(caminho_model)\n\u001b[0;32m      8\u001b[0m \u001b[39m# Salve o DataFrame em formato Parquet usando apenas o caminho como argumento\u001b[39;00m\n\u001b[1;32m----> 9\u001b[0m dfDadosModel\u001b[39m.\u001b[39;49mwrite\u001b[39m.\u001b[39;49mformat(\u001b[39m\"\u001b[39;49m\u001b[39mavro\u001b[39;49m\u001b[39m\"\u001b[39;49m)\u001b[39m.\u001b[39;49msave(caminho_model)\n",
      "File \u001b[1;32me:\\anaconda3\\Lib\\site-packages\\pyspark\\sql\\readwriter.py:1398\u001b[0m, in \u001b[0;36mDataFrameWriter.save\u001b[1;34m(self, path, format, mode, partitionBy, **options)\u001b[0m\n\u001b[0;32m   1396\u001b[0m     \u001b[39mself\u001b[39m\u001b[39m.\u001b[39m_jwrite\u001b[39m.\u001b[39msave()\n\u001b[0;32m   1397\u001b[0m \u001b[39melse\u001b[39;00m:\n\u001b[1;32m-> 1398\u001b[0m     \u001b[39mself\u001b[39;49m\u001b[39m.\u001b[39;49m_jwrite\u001b[39m.\u001b[39;49msave(path)\n",
      "File \u001b[1;32me:\\anaconda3\\Lib\\site-packages\\py4j\\java_gateway.py:1322\u001b[0m, in \u001b[0;36mJavaMember.__call__\u001b[1;34m(self, *args)\u001b[0m\n\u001b[0;32m   1316\u001b[0m command \u001b[39m=\u001b[39m proto\u001b[39m.\u001b[39mCALL_COMMAND_NAME \u001b[39m+\u001b[39m\\\n\u001b[0;32m   1317\u001b[0m     \u001b[39mself\u001b[39m\u001b[39m.\u001b[39mcommand_header \u001b[39m+\u001b[39m\\\n\u001b[0;32m   1318\u001b[0m     args_command \u001b[39m+\u001b[39m\\\n\u001b[0;32m   1319\u001b[0m     proto\u001b[39m.\u001b[39mEND_COMMAND_PART\n\u001b[0;32m   1321\u001b[0m answer \u001b[39m=\u001b[39m \u001b[39mself\u001b[39m\u001b[39m.\u001b[39mgateway_client\u001b[39m.\u001b[39msend_command(command)\n\u001b[1;32m-> 1322\u001b[0m return_value \u001b[39m=\u001b[39m get_return_value(\n\u001b[0;32m   1323\u001b[0m     answer, \u001b[39mself\u001b[39;49m\u001b[39m.\u001b[39;49mgateway_client, \u001b[39mself\u001b[39;49m\u001b[39m.\u001b[39;49mtarget_id, \u001b[39mself\u001b[39;49m\u001b[39m.\u001b[39;49mname)\n\u001b[0;32m   1325\u001b[0m \u001b[39mfor\u001b[39;00m temp_arg \u001b[39min\u001b[39;00m temp_args:\n\u001b[0;32m   1326\u001b[0m     \u001b[39mif\u001b[39;00m \u001b[39mhasattr\u001b[39m(temp_arg, \u001b[39m\"\u001b[39m\u001b[39m_detach\u001b[39m\u001b[39m\"\u001b[39m):\n",
      "File \u001b[1;32me:\\anaconda3\\Lib\\site-packages\\pyspark\\errors\\exceptions\\captured.py:175\u001b[0m, in \u001b[0;36mcapture_sql_exception.<locals>.deco\u001b[1;34m(*a, **kw)\u001b[0m\n\u001b[0;32m    171\u001b[0m converted \u001b[39m=\u001b[39m convert_exception(e\u001b[39m.\u001b[39mjava_exception)\n\u001b[0;32m    172\u001b[0m \u001b[39mif\u001b[39;00m \u001b[39mnot\u001b[39;00m \u001b[39misinstance\u001b[39m(converted, UnknownException):\n\u001b[0;32m    173\u001b[0m     \u001b[39m# Hide where the exception came from that shows a non-Pythonic\u001b[39;00m\n\u001b[0;32m    174\u001b[0m     \u001b[39m# JVM exception message.\u001b[39;00m\n\u001b[1;32m--> 175\u001b[0m     \u001b[39mraise\u001b[39;00m converted \u001b[39mfrom\u001b[39;00m \u001b[39mNone\u001b[39;00m\n\u001b[0;32m    176\u001b[0m \u001b[39melse\u001b[39;00m:\n\u001b[0;32m    177\u001b[0m     \u001b[39mraise\u001b[39;00m\n",
      "\u001b[1;31mAnalysisException\u001b[0m: Failed to find data source: avro. Avro is built-in but external data source module since Spark 2.4. Please deploy the application as per the deployment section of Apache Avro Data Source Guide."
     ]
    }
   ],
   "source": [
    "# Parte fixa do caminho, Não alterar esse path\n",
    "parte_fixa = r'Documents\\Enem\\Dataset\\parquet'\n",
    "\n",
    "# Caminho completo\n",
    "caminho_model = os.path.join(root_dir, parte_fixa)\n",
    "print(caminho_model)\n",
    "\n",
    "# Salve o DataFrame em formato Parquet usando apenas o caminho como argumento\n",
    "dfDadosModel.write.format(\"avro\").save(caminho_model)\n"
   ]
  },
  {
   "cell_type": "code",
   "execution_count": null,
   "id": "71e30a46-583b-4075-b7b9-83431b3e7268",
   "metadata": {},
   "outputs": [],
   "source": [
    "            converted = convert_exception(e.java_exception)\n"
   ]
  },
  {
   "cell_type": "code",
   "execution_count": null,
   "id": "470ea9e8-7406-483c-b5a4-ada01025070a",
   "metadata": {},
   "outputs": [],
   "source": [
    "def install_exception_handler() -> None:\n"
   ]
  },
  {
   "cell_type": "code",
   "execution_count": null,
   "id": "23848071",
   "metadata": {},
   "outputs": [],
   "source": [
    "class AnalysisException(CapturedException, BaseAnalysisException):\n"
   ]
  }
 ],
 "metadata": {
  "kernelspec": {
   "display_name": "Python 3 (ipykernel)",
   "language": "python",
   "name": "python3"
  },
  "language_info": {
   "codemirror_mode": {
    "name": "ipython",
    "version": 3
   },
   "file_extension": ".py",
   "mimetype": "text/x-python",
   "name": "python",
   "nbconvert_exporter": "python",
   "pygments_lexer": "ipython3",
   "version": "3.8.10"
  }
 },
 "nbformat": 4,
 "nbformat_minor": 5
}
