{
 "cells": [
  {
   "cell_type": "markdown",
   "metadata": {},
   "source": [
    "#### Cria Sessão do Spark"
   ]
  },
  {
   "cell_type": "code",
   "execution_count": null,
   "metadata": {},
   "outputs": [],
   "source": [
    "import os"
   ]
  },
  {
   "cell_type": "code",
   "execution_count": null,
   "metadata": {},
   "outputs": [],
   "source": [
    "# Obtém o caminho atual do usuário\n",
    "caminho_atual = os.getcwd()\n",
    "\n",
    "print(\"Caminho atual:\", caminho_atual)"
   ]
  },
  {
   "cell_type": "code",
   "execution_count": null,
   "metadata": {},
   "outputs": [],
   "source": [
    "# Encontre a posição da palavra \"f/\"\n",
    "posicao = caminho_atual.find(\"k\")\n",
    "\n",
    "# Se a palavra \"f/\" foi encontrada\n",
    "if posicao != -1:\n",
    "    # Extraia a substring até a posição da palavra \"f/\"\n",
    "    caminho_enem = caminho_atual[:posicao + len(\"f\")]\n",
    "    print(\"Caminho até 'f/':\", caminho_enem)\n",
    "else:\n",
    "    print(\"A palavra 'f/' não foi encontrada no caminho.\")"
   ]
  },
  {
   "cell_type": "code",
   "execution_count": null,
   "metadata": {},
   "outputs": [],
   "source": [
    "#Configuração dos Path's\n",
    "\n",
    "#os.environ[\"JAVA_HOME\"] = r\"C:\\Program Files\\Java\\jdk-17\\jdk-17.0.8\"\n",
    "#os.environ[\"SPARK_HOME\"] = caminho_enem + \"\\Spark\\spark-3.2.4-bin-hadoop2.7.2\"\n",
    "#os.environ['HADOOP_HOME'] = os.path.join(os.environ[\"SPARK_HOME\"], \"/hadoop\")\n",
    "#os.environ[\"PYTHONPATH\"] = os.path.join(os.environ[\"SPARK_HOME\"], \"python\\lib\\py4j-0.10.9.5-src.zip\")"
   ]
  },
  {
   "cell_type": "code",
   "execution_count": null,
   "metadata": {},
   "outputs": [],
   "source": [
    "#Configuração dos Path's\n",
    "\n",
    "#os.environ[\"JAVA_HOME\"] = r\"C:\\Program Files\\Java\\jdk-17\\jdk-17.0.8\"\n",
    "os.environ[\"SPARK_HOME\"] = r\"C:\\Users\\leoba\\Documents\\Enem\\Spark\\spark-3.2.4-bin-hadoop2.7.2\"\n",
    "os.environ[\"PYTHONPATH\"] = os.path.join(os.environ[\"SPARK_HOME\"], \"python\", \"lib\", \"py4j-0.10.9.5-src.zip\")"
   ]
  },
  {
   "cell_type": "code",
   "execution_count": null,
   "metadata": {},
   "outputs": [],
   "source": [
    "# Avalia se conseguiu localizar o spark\n",
    "import findspark\n",
    "findspark.init()"
   ]
  },
  {
   "cell_type": "code",
   "execution_count": null,
   "metadata": {},
   "outputs": [],
   "source": [
    "from pyspark.sql import SparkSession\n",
    "\n",
    "spark = SparkSession.builder \\\n",
    "    .master('local[*]') \\\n",
    "    .appName(\"Iniciando com Spark\") \\\n",
    "    .getOrCreate()\n"
   ]
  }
 ],
 "metadata": {
  "kernelspec": {
   "display_name": "mEnem",
   "language": "python",
   "name": "python3"
  },
  "language_info": {
   "codemirror_mode": {
    "name": "ipython",
    "version": 3
   },
   "file_extension": ".py",
   "mimetype": "text/x-python",
   "name": "python",
   "nbconvert_exporter": "python",
   "pygments_lexer": "ipython3",
   "version": "3.11.4"
  },
  "orig_nbformat": 4
 },
 "nbformat": 4,
 "nbformat_minor": 2
}
