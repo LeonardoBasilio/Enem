{
 "cells": [
  {
   "cell_type": "code",
   "execution_count": 2,
   "id": "8da63d0a-5885-4294-b222-07b73a448e76",
   "metadata": {},
   "outputs": [],
   "source": [
    "from pyspark.sql import SparkSession\n",
    "from pyspark.conf import SparkConf\n",
    "\n",
    "conf = SparkConf()\n",
    "conf.set(\"spark.eventLog.enabled\", True)\n",
    "conf.set(\"spark.eventLog.dir\", \"/opt/spark/spark-events\")\n",
    "conf.set(\"spark.history.fs.logDirectory\", \"/opt/spark/spark-events\")\n",
    "conf.set(\"spark.executor.memory\", \"512m\")\n",
    "\n",
    "spark = SparkSession.\\\n",
    "        builder.\\\n",
    "        appName(\"pyspark-notebook\").\\\n",
    "        config(conf=conf).\\\n",
    "        getOrCreate()"
   ]
  },
  {
   "cell_type": "code",
   "execution_count": 3,
   "id": "8cf97f57-51c6-4aa7-b598-d5cad8637c8d",
   "metadata": {},
   "outputs": [
    {
     "data": {
      "text/plain": [
       "<pyspark.sql.connect.session.SparkSession at 0x7f0f737ac890>"
      ]
     },
     "execution_count": 3,
     "metadata": {},
     "output_type": "execute_result"
    }
   ],
   "source": [
    "spark\n"
   ]
  },
  {
   "cell_type": "code",
   "execution_count": null,
   "id": "2009594e-fda4-4e53-90e6-e88e20523f33",
   "metadata": {},
   "outputs": [],
   "source": []
  }
 ],
 "metadata": {
  "kernelspec": {
   "display_name": "Python 3 (ipykernel)",
   "language": "python",
   "name": "python3"
  },
  "language_info": {
   "codemirror_mode": {
    "name": "ipython",
    "version": 3
   },
   "file_extension": ".py",
   "mimetype": "text/x-python",
   "name": "python",
   "nbconvert_exporter": "python",
   "pygments_lexer": "ipython3",
   "version": "3.11.9"
  }
 },
 "nbformat": 4,
 "nbformat_minor": 5
}
